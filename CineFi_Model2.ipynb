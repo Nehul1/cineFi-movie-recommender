{
 "cells": [
  {
   "cell_type": "markdown",
   "id": "7ea65e4c",
   "metadata": {
    "id": "7ea65e4c"
   },
   "source": [
    "# Movie Recommendation System"
   ]
  },
  {
   "cell_type": "markdown",
   "id": "0f3680ac",
   "metadata": {
    "id": "0f3680ac"
   },
   "source": [
    "### Team Members:\n",
    "#### 1. Lava kumar Koyi - lavakoyi@iu.edu\n",
    "#### 2. Sai Durga Aniesh Baratam - sbaratam@iu.edu\n",
    "#### 3. Nehul Rangappa - nrangapp@iu.edu\n",
    "#### 4. Nikhil Sai Dandamudi - nidandam@iu.edu"
   ]
  },
  {
   "cell_type": "markdown",
   "id": "03645d24",
   "metadata": {
    "id": "03645d24"
   },
   "source": [
    "## Import dependencies"
   ]
  },
  {
   "cell_type": "code",
   "execution_count": 1,
   "id": "5c23c308",
   "metadata": {
    "id": "5c23c308"
   },
   "outputs": [],
   "source": [
    "import numpy as np\n",
    "import pandas as pd\n",
    "import math\n",
    "import matplotlib.pyplot as plt\n",
    "import seaborn as sns\n",
    "import random\n",
    "import time\n",
    "from datetime import datetime\n",
    "import copy"
   ]
  },
  {
   "cell_type": "markdown",
   "id": "fe5fd8a7",
   "metadata": {
    "id": "fe5fd8a7"
   },
   "source": [
    "## Movies Data Preprocessing"
   ]
  },
  {
   "cell_type": "code",
   "execution_count": 2,
   "id": "1c2187cc",
   "metadata": {
    "id": "1c2187cc"
   },
   "outputs": [],
   "source": [
    "movies_df = pd.read_csv(\"project_data/movies.csv\")"
   ]
  },
  {
   "cell_type": "code",
   "execution_count": 3,
   "id": "06a14813",
   "metadata": {
    "colab": {
     "base_uri": "https://localhost:8080/",
     "height": 300
    },
    "id": "06a14813",
    "outputId": "89295c9f-568f-460c-f469-c049dded90a4"
   },
   "outputs": [
    {
     "data": {
      "text/html": [
       "<div>\n",
       "<style scoped>\n",
       "    .dataframe tbody tr th:only-of-type {\n",
       "        vertical-align: middle;\n",
       "    }\n",
       "\n",
       "    .dataframe tbody tr th {\n",
       "        vertical-align: top;\n",
       "    }\n",
       "\n",
       "    .dataframe thead th {\n",
       "        text-align: right;\n",
       "    }\n",
       "</style>\n",
       "<table border=\"1\" class=\"dataframe\">\n",
       "  <thead>\n",
       "    <tr style=\"text-align: right;\">\n",
       "      <th></th>\n",
       "      <th>movieId</th>\n",
       "    </tr>\n",
       "  </thead>\n",
       "  <tbody>\n",
       "    <tr>\n",
       "      <th>count</th>\n",
       "      <td>9742.000000</td>\n",
       "    </tr>\n",
       "    <tr>\n",
       "      <th>mean</th>\n",
       "      <td>42200.353623</td>\n",
       "    </tr>\n",
       "    <tr>\n",
       "      <th>std</th>\n",
       "      <td>52160.494854</td>\n",
       "    </tr>\n",
       "    <tr>\n",
       "      <th>min</th>\n",
       "      <td>1.000000</td>\n",
       "    </tr>\n",
       "    <tr>\n",
       "      <th>25%</th>\n",
       "      <td>3248.250000</td>\n",
       "    </tr>\n",
       "    <tr>\n",
       "      <th>50%</th>\n",
       "      <td>7300.000000</td>\n",
       "    </tr>\n",
       "    <tr>\n",
       "      <th>75%</th>\n",
       "      <td>76232.000000</td>\n",
       "    </tr>\n",
       "    <tr>\n",
       "      <th>max</th>\n",
       "      <td>193609.000000</td>\n",
       "    </tr>\n",
       "  </tbody>\n",
       "</table>\n",
       "</div>"
      ],
      "text/plain": [
       "             movieId\n",
       "count    9742.000000\n",
       "mean    42200.353623\n",
       "std     52160.494854\n",
       "min         1.000000\n",
       "25%      3248.250000\n",
       "50%      7300.000000\n",
       "75%     76232.000000\n",
       "max    193609.000000"
      ]
     },
     "execution_count": 3,
     "metadata": {},
     "output_type": "execute_result"
    }
   ],
   "source": [
    "movies_df.describe()"
   ]
  },
  {
   "cell_type": "markdown",
   "id": "PZxdueM1mRs1",
   "metadata": {
    "id": "PZxdueM1mRs1"
   },
   "source": [
    "# New Section"
   ]
  },
  {
   "cell_type": "code",
   "execution_count": 4,
   "id": "5a2f3f34",
   "metadata": {
    "colab": {
     "base_uri": "https://localhost:8080/",
     "height": 206
    },
    "id": "5a2f3f34",
    "outputId": "8dc0ac76-923a-42a2-bc3a-854ae13e7fd9"
   },
   "outputs": [
    {
     "data": {
      "text/html": [
       "<div>\n",
       "<style scoped>\n",
       "    .dataframe tbody tr th:only-of-type {\n",
       "        vertical-align: middle;\n",
       "    }\n",
       "\n",
       "    .dataframe tbody tr th {\n",
       "        vertical-align: top;\n",
       "    }\n",
       "\n",
       "    .dataframe thead th {\n",
       "        text-align: right;\n",
       "    }\n",
       "</style>\n",
       "<table border=\"1\" class=\"dataframe\">\n",
       "  <thead>\n",
       "    <tr style=\"text-align: right;\">\n",
       "      <th></th>\n",
       "      <th>movieId</th>\n",
       "      <th>title</th>\n",
       "      <th>genres</th>\n",
       "    </tr>\n",
       "  </thead>\n",
       "  <tbody>\n",
       "    <tr>\n",
       "      <th>0</th>\n",
       "      <td>1</td>\n",
       "      <td>Toy Story (1995)</td>\n",
       "      <td>Adventure|Animation|Children|Comedy|Fantasy</td>\n",
       "    </tr>\n",
       "    <tr>\n",
       "      <th>1</th>\n",
       "      <td>2</td>\n",
       "      <td>Jumanji (1995)</td>\n",
       "      <td>Adventure|Children|Fantasy</td>\n",
       "    </tr>\n",
       "    <tr>\n",
       "      <th>2</th>\n",
       "      <td>3</td>\n",
       "      <td>Grumpier Old Men (1995)</td>\n",
       "      <td>Comedy|Romance</td>\n",
       "    </tr>\n",
       "    <tr>\n",
       "      <th>3</th>\n",
       "      <td>4</td>\n",
       "      <td>Waiting to Exhale (1995)</td>\n",
       "      <td>Comedy|Drama|Romance</td>\n",
       "    </tr>\n",
       "    <tr>\n",
       "      <th>4</th>\n",
       "      <td>5</td>\n",
       "      <td>Father of the Bride Part II (1995)</td>\n",
       "      <td>Comedy</td>\n",
       "    </tr>\n",
       "  </tbody>\n",
       "</table>\n",
       "</div>"
      ],
      "text/plain": [
       "   movieId                               title  \\\n",
       "0        1                    Toy Story (1995)   \n",
       "1        2                      Jumanji (1995)   \n",
       "2        3             Grumpier Old Men (1995)   \n",
       "3        4            Waiting to Exhale (1995)   \n",
       "4        5  Father of the Bride Part II (1995)   \n",
       "\n",
       "                                        genres  \n",
       "0  Adventure|Animation|Children|Comedy|Fantasy  \n",
       "1                   Adventure|Children|Fantasy  \n",
       "2                               Comedy|Romance  \n",
       "3                         Comedy|Drama|Romance  \n",
       "4                                       Comedy  "
      ]
     },
     "execution_count": 4,
     "metadata": {},
     "output_type": "execute_result"
    }
   ],
   "source": [
    "movies_df.head()"
   ]
  },
  {
   "cell_type": "code",
   "execution_count": 5,
   "id": "7b3b3e86",
   "metadata": {
    "colab": {
     "base_uri": "https://localhost:8080/"
    },
    "id": "7b3b3e86",
    "outputId": "deccf09f-e364-43c7-8452-7425298b66f1"
   },
   "outputs": [
    {
     "name": "stdout",
     "output_type": "stream",
     "text": [
      "<class 'pandas.core.frame.DataFrame'>\n",
      "RangeIndex: 9742 entries, 0 to 9741\n",
      "Data columns (total 3 columns):\n",
      " #   Column   Non-Null Count  Dtype \n",
      "---  ------   --------------  ----- \n",
      " 0   movieId  9742 non-null   int64 \n",
      " 1   title    9742 non-null   object\n",
      " 2   genres   9742 non-null   object\n",
      "dtypes: int64(1), object(2)\n",
      "memory usage: 228.5+ KB\n"
     ]
    }
   ],
   "source": [
    "movies_df.info()"
   ]
  },
  {
   "cell_type": "code",
   "execution_count": 6,
   "id": "21bce90b",
   "metadata": {
    "colab": {
     "base_uri": "https://localhost:8080/"
    },
    "id": "21bce90b",
    "outputId": "0299c86f-d354-4df4-f31b-888739e64425"
   },
   "outputs": [
    {
     "data": {
      "text/plain": [
       "9742"
      ]
     },
     "execution_count": 6,
     "metadata": {},
     "output_type": "execute_result"
    }
   ],
   "source": [
    "movies_df.shape[0]"
   ]
  },
  {
   "cell_type": "code",
   "execution_count": 7,
   "id": "ba45598e",
   "metadata": {
    "colab": {
     "base_uri": "https://localhost:8080/"
    },
    "id": "ba45598e",
    "outputId": "d2b0d65a-24ab-47c3-fe84-ebac234870aa"
   },
   "outputs": [
    {
     "data": {
      "text/plain": [
       "movieId    0\n",
       "title      0\n",
       "genres     0\n",
       "dtype: int64"
      ]
     },
     "execution_count": 7,
     "metadata": {},
     "output_type": "execute_result"
    }
   ],
   "source": [
    "movies_df.isnull().sum().sort_values()"
   ]
  },
  {
   "cell_type": "code",
   "execution_count": 8,
   "id": "70769bcc",
   "metadata": {
    "colab": {
     "base_uri": "https://localhost:8080/"
    },
    "id": "70769bcc",
    "outputId": "95fde58d-2dde-4d47-af78-990a689f5a92"
   },
   "outputs": [
    {
     "name": "stdout",
     "output_type": "stream",
     "text": [
      "Number of unknown values for the attribute movieId = 0\n",
      "Number of unknown values for the attribute title = 0\n",
      "Number of unknown values for the attribute genres = 0\n"
     ]
    }
   ],
   "source": [
    "unknown_valued_columns=[]\n",
    "for c in movies_df.columns:\n",
    "    print(\"Number of unknown values for the attribute\",c,\"=\",movies_df.loc[movies_df[c] == '?'].shape[0])\n",
    "    unknown_valued_columns.append(c)"
   ]
  },
  {
   "cell_type": "code",
   "execution_count": 9,
   "id": "be66c2da",
   "metadata": {
    "id": "be66c2da"
   },
   "outputs": [],
   "source": [
    "def split_genre(x):\n",
    "    return x.split('|')"
   ]
  },
  {
   "cell_type": "code",
   "execution_count": 10,
   "id": "5ab4a616",
   "metadata": {
    "id": "5ab4a616"
   },
   "outputs": [],
   "source": [
    "movies_df['genres'] = movies_df['genres'].apply(split_genre)"
   ]
  },
  {
   "cell_type": "code",
   "execution_count": 11,
   "id": "259e2bc4",
   "metadata": {
    "colab": {
     "base_uri": "https://localhost:8080/",
     "height": 206
    },
    "id": "259e2bc4",
    "outputId": "16581185-c60b-4553-8f83-54f338d63011"
   },
   "outputs": [
    {
     "data": {
      "text/html": [
       "<div>\n",
       "<style scoped>\n",
       "    .dataframe tbody tr th:only-of-type {\n",
       "        vertical-align: middle;\n",
       "    }\n",
       "\n",
       "    .dataframe tbody tr th {\n",
       "        vertical-align: top;\n",
       "    }\n",
       "\n",
       "    .dataframe thead th {\n",
       "        text-align: right;\n",
       "    }\n",
       "</style>\n",
       "<table border=\"1\" class=\"dataframe\">\n",
       "  <thead>\n",
       "    <tr style=\"text-align: right;\">\n",
       "      <th></th>\n",
       "      <th>movieId</th>\n",
       "      <th>title</th>\n",
       "      <th>genres</th>\n",
       "    </tr>\n",
       "  </thead>\n",
       "  <tbody>\n",
       "    <tr>\n",
       "      <th>0</th>\n",
       "      <td>1</td>\n",
       "      <td>Toy Story (1995)</td>\n",
       "      <td>[Adventure, Animation, Children, Comedy, Fantasy]</td>\n",
       "    </tr>\n",
       "    <tr>\n",
       "      <th>1</th>\n",
       "      <td>2</td>\n",
       "      <td>Jumanji (1995)</td>\n",
       "      <td>[Adventure, Children, Fantasy]</td>\n",
       "    </tr>\n",
       "    <tr>\n",
       "      <th>2</th>\n",
       "      <td>3</td>\n",
       "      <td>Grumpier Old Men (1995)</td>\n",
       "      <td>[Comedy, Romance]</td>\n",
       "    </tr>\n",
       "    <tr>\n",
       "      <th>3</th>\n",
       "      <td>4</td>\n",
       "      <td>Waiting to Exhale (1995)</td>\n",
       "      <td>[Comedy, Drama, Romance]</td>\n",
       "    </tr>\n",
       "    <tr>\n",
       "      <th>4</th>\n",
       "      <td>5</td>\n",
       "      <td>Father of the Bride Part II (1995)</td>\n",
       "      <td>[Comedy]</td>\n",
       "    </tr>\n",
       "  </tbody>\n",
       "</table>\n",
       "</div>"
      ],
      "text/plain": [
       "   movieId                               title  \\\n",
       "0        1                    Toy Story (1995)   \n",
       "1        2                      Jumanji (1995)   \n",
       "2        3             Grumpier Old Men (1995)   \n",
       "3        4            Waiting to Exhale (1995)   \n",
       "4        5  Father of the Bride Part II (1995)   \n",
       "\n",
       "                                              genres  \n",
       "0  [Adventure, Animation, Children, Comedy, Fantasy]  \n",
       "1                     [Adventure, Children, Fantasy]  \n",
       "2                                  [Comedy, Romance]  \n",
       "3                           [Comedy, Drama, Romance]  \n",
       "4                                           [Comedy]  "
      ]
     },
     "execution_count": 11,
     "metadata": {},
     "output_type": "execute_result"
    }
   ],
   "source": [
    "movies_df.head()"
   ]
  },
  {
   "cell_type": "code",
   "execution_count": 12,
   "id": "a4a6a33d",
   "metadata": {
    "id": "a4a6a33d"
   },
   "outputs": [],
   "source": [
    "movies_df=movies_df.explode('genres')"
   ]
  },
  {
   "cell_type": "code",
   "execution_count": 13,
   "id": "e1d895b9",
   "metadata": {
    "id": "e1d895b9"
   },
   "outputs": [],
   "source": [
    "movies_df.rename(columns={\"genres\": \"genre\"}, inplace=True)"
   ]
  },
  {
   "cell_type": "code",
   "execution_count": 14,
   "id": "210decc4",
   "metadata": {
    "colab": {
     "base_uri": "https://localhost:8080/",
     "height": 206
    },
    "id": "210decc4",
    "outputId": "a853cae6-c4af-4c72-bf18-cf93ccd7ba18"
   },
   "outputs": [
    {
     "data": {
      "text/html": [
       "<div>\n",
       "<style scoped>\n",
       "    .dataframe tbody tr th:only-of-type {\n",
       "        vertical-align: middle;\n",
       "    }\n",
       "\n",
       "    .dataframe tbody tr th {\n",
       "        vertical-align: top;\n",
       "    }\n",
       "\n",
       "    .dataframe thead th {\n",
       "        text-align: right;\n",
       "    }\n",
       "</style>\n",
       "<table border=\"1\" class=\"dataframe\">\n",
       "  <thead>\n",
       "    <tr style=\"text-align: right;\">\n",
       "      <th></th>\n",
       "      <th>movieId</th>\n",
       "      <th>title</th>\n",
       "      <th>genre</th>\n",
       "    </tr>\n",
       "  </thead>\n",
       "  <tbody>\n",
       "    <tr>\n",
       "      <th>0</th>\n",
       "      <td>1</td>\n",
       "      <td>Toy Story (1995)</td>\n",
       "      <td>Adventure</td>\n",
       "    </tr>\n",
       "    <tr>\n",
       "      <th>0</th>\n",
       "      <td>1</td>\n",
       "      <td>Toy Story (1995)</td>\n",
       "      <td>Animation</td>\n",
       "    </tr>\n",
       "    <tr>\n",
       "      <th>0</th>\n",
       "      <td>1</td>\n",
       "      <td>Toy Story (1995)</td>\n",
       "      <td>Children</td>\n",
       "    </tr>\n",
       "    <tr>\n",
       "      <th>0</th>\n",
       "      <td>1</td>\n",
       "      <td>Toy Story (1995)</td>\n",
       "      <td>Comedy</td>\n",
       "    </tr>\n",
       "    <tr>\n",
       "      <th>0</th>\n",
       "      <td>1</td>\n",
       "      <td>Toy Story (1995)</td>\n",
       "      <td>Fantasy</td>\n",
       "    </tr>\n",
       "  </tbody>\n",
       "</table>\n",
       "</div>"
      ],
      "text/plain": [
       "   movieId             title      genre\n",
       "0        1  Toy Story (1995)  Adventure\n",
       "0        1  Toy Story (1995)  Animation\n",
       "0        1  Toy Story (1995)   Children\n",
       "0        1  Toy Story (1995)     Comedy\n",
       "0        1  Toy Story (1995)    Fantasy"
      ]
     },
     "execution_count": 14,
     "metadata": {},
     "output_type": "execute_result"
    }
   ],
   "source": [
    "\n",
    "movies_df.head()"
   ]
  },
  {
   "cell_type": "code",
   "execution_count": 15,
   "id": "991a4616",
   "metadata": {
    "id": "991a4616"
   },
   "outputs": [],
   "source": [
    "def extract_year_of_release(x):\n",
    "    year=x.split('(')\n",
    "    if len(year)!=2:\n",
    "        return \"\"\n",
    "    \n",
    "    return year[1][:-1]"
   ]
  },
  {
   "cell_type": "code",
   "execution_count": 16,
   "id": "f7137b85",
   "metadata": {
    "id": "f7137b85"
   },
   "outputs": [],
   "source": [
    "movies_df['year_of_release'] = movies_df['title'].apply(extract_year_of_release)"
   ]
  },
  {
   "cell_type": "code",
   "execution_count": 17,
   "id": "cc72ec25",
   "metadata": {
    "colab": {
     "base_uri": "https://localhost:8080/",
     "height": 363
    },
    "id": "cc72ec25",
    "outputId": "836f33f8-19ed-4c22-eee4-b8028d5d519c"
   },
   "outputs": [
    {
     "data": {
      "text/html": [
       "<div>\n",
       "<style scoped>\n",
       "    .dataframe tbody tr th:only-of-type {\n",
       "        vertical-align: middle;\n",
       "    }\n",
       "\n",
       "    .dataframe tbody tr th {\n",
       "        vertical-align: top;\n",
       "    }\n",
       "\n",
       "    .dataframe thead th {\n",
       "        text-align: right;\n",
       "    }\n",
       "</style>\n",
       "<table border=\"1\" class=\"dataframe\">\n",
       "  <thead>\n",
       "    <tr style=\"text-align: right;\">\n",
       "      <th></th>\n",
       "      <th>movieId</th>\n",
       "      <th>title</th>\n",
       "      <th>genre</th>\n",
       "      <th>year_of_release</th>\n",
       "    </tr>\n",
       "  </thead>\n",
       "  <tbody>\n",
       "    <tr>\n",
       "      <th>9737</th>\n",
       "      <td>193581</td>\n",
       "      <td>Black Butler: Book of the Atlantic (2017)</td>\n",
       "      <td>Animation</td>\n",
       "      <td>2017</td>\n",
       "    </tr>\n",
       "    <tr>\n",
       "      <th>9737</th>\n",
       "      <td>193581</td>\n",
       "      <td>Black Butler: Book of the Atlantic (2017)</td>\n",
       "      <td>Comedy</td>\n",
       "      <td>2017</td>\n",
       "    </tr>\n",
       "    <tr>\n",
       "      <th>9737</th>\n",
       "      <td>193581</td>\n",
       "      <td>Black Butler: Book of the Atlantic (2017)</td>\n",
       "      <td>Fantasy</td>\n",
       "      <td>2017</td>\n",
       "    </tr>\n",
       "    <tr>\n",
       "      <th>9738</th>\n",
       "      <td>193583</td>\n",
       "      <td>No Game No Life: Zero (2017)</td>\n",
       "      <td>Animation</td>\n",
       "      <td>2017</td>\n",
       "    </tr>\n",
       "    <tr>\n",
       "      <th>9738</th>\n",
       "      <td>193583</td>\n",
       "      <td>No Game No Life: Zero (2017)</td>\n",
       "      <td>Comedy</td>\n",
       "      <td>2017</td>\n",
       "    </tr>\n",
       "    <tr>\n",
       "      <th>9738</th>\n",
       "      <td>193583</td>\n",
       "      <td>No Game No Life: Zero (2017)</td>\n",
       "      <td>Fantasy</td>\n",
       "      <td>2017</td>\n",
       "    </tr>\n",
       "    <tr>\n",
       "      <th>9739</th>\n",
       "      <td>193585</td>\n",
       "      <td>Flint (2017)</td>\n",
       "      <td>Drama</td>\n",
       "      <td>2017</td>\n",
       "    </tr>\n",
       "    <tr>\n",
       "      <th>9740</th>\n",
       "      <td>193587</td>\n",
       "      <td>Bungo Stray Dogs: Dead Apple (2018)</td>\n",
       "      <td>Action</td>\n",
       "      <td>2018</td>\n",
       "    </tr>\n",
       "    <tr>\n",
       "      <th>9740</th>\n",
       "      <td>193587</td>\n",
       "      <td>Bungo Stray Dogs: Dead Apple (2018)</td>\n",
       "      <td>Animation</td>\n",
       "      <td>2018</td>\n",
       "    </tr>\n",
       "    <tr>\n",
       "      <th>9741</th>\n",
       "      <td>193609</td>\n",
       "      <td>Andrew Dice Clay: Dice Rules (1991)</td>\n",
       "      <td>Comedy</td>\n",
       "      <td>1991</td>\n",
       "    </tr>\n",
       "  </tbody>\n",
       "</table>\n",
       "</div>"
      ],
      "text/plain": [
       "      movieId                                      title      genre  \\\n",
       "9737   193581  Black Butler: Book of the Atlantic (2017)  Animation   \n",
       "9737   193581  Black Butler: Book of the Atlantic (2017)     Comedy   \n",
       "9737   193581  Black Butler: Book of the Atlantic (2017)    Fantasy   \n",
       "9738   193583               No Game No Life: Zero (2017)  Animation   \n",
       "9738   193583               No Game No Life: Zero (2017)     Comedy   \n",
       "9738   193583               No Game No Life: Zero (2017)    Fantasy   \n",
       "9739   193585                               Flint (2017)      Drama   \n",
       "9740   193587        Bungo Stray Dogs: Dead Apple (2018)     Action   \n",
       "9740   193587        Bungo Stray Dogs: Dead Apple (2018)  Animation   \n",
       "9741   193609        Andrew Dice Clay: Dice Rules (1991)     Comedy   \n",
       "\n",
       "     year_of_release  \n",
       "9737            2017  \n",
       "9737            2017  \n",
       "9737            2017  \n",
       "9738            2017  \n",
       "9738            2017  \n",
       "9738            2017  \n",
       "9739            2017  \n",
       "9740            2018  \n",
       "9740            2018  \n",
       "9741            1991  "
      ]
     },
     "execution_count": 17,
     "metadata": {},
     "output_type": "execute_result"
    }
   ],
   "source": [
    "movies_df.tail(10)"
   ]
  },
  {
   "cell_type": "code",
   "execution_count": 18,
   "id": "2d940099",
   "metadata": {
    "id": "2d940099"
   },
   "outputs": [],
   "source": [
    "def extract_title(t):\n",
    "    return t.split(\" (\")[0]"
   ]
  },
  {
   "cell_type": "code",
   "execution_count": 19,
   "id": "1695c864",
   "metadata": {
    "id": "1695c864"
   },
   "outputs": [],
   "source": [
    "movies_df['title'] = movies_df['title'].apply(extract_title)"
   ]
  },
  {
   "cell_type": "code",
   "execution_count": 20,
   "id": "4d000a5d",
   "metadata": {
    "colab": {
     "base_uri": "https://localhost:8080/",
     "height": 206
    },
    "id": "4d000a5d",
    "outputId": "18a51b57-0d06-4be0-9eda-126651095981"
   },
   "outputs": [
    {
     "data": {
      "text/html": [
       "<div>\n",
       "<style scoped>\n",
       "    .dataframe tbody tr th:only-of-type {\n",
       "        vertical-align: middle;\n",
       "    }\n",
       "\n",
       "    .dataframe tbody tr th {\n",
       "        vertical-align: top;\n",
       "    }\n",
       "\n",
       "    .dataframe thead th {\n",
       "        text-align: right;\n",
       "    }\n",
       "</style>\n",
       "<table border=\"1\" class=\"dataframe\">\n",
       "  <thead>\n",
       "    <tr style=\"text-align: right;\">\n",
       "      <th></th>\n",
       "      <th>movieId</th>\n",
       "      <th>title</th>\n",
       "      <th>genre</th>\n",
       "      <th>year_of_release</th>\n",
       "    </tr>\n",
       "  </thead>\n",
       "  <tbody>\n",
       "    <tr>\n",
       "      <th>9738</th>\n",
       "      <td>193583</td>\n",
       "      <td>No Game No Life: Zero</td>\n",
       "      <td>Fantasy</td>\n",
       "      <td>2017</td>\n",
       "    </tr>\n",
       "    <tr>\n",
       "      <th>9739</th>\n",
       "      <td>193585</td>\n",
       "      <td>Flint</td>\n",
       "      <td>Drama</td>\n",
       "      <td>2017</td>\n",
       "    </tr>\n",
       "    <tr>\n",
       "      <th>9740</th>\n",
       "      <td>193587</td>\n",
       "      <td>Bungo Stray Dogs: Dead Apple</td>\n",
       "      <td>Action</td>\n",
       "      <td>2018</td>\n",
       "    </tr>\n",
       "    <tr>\n",
       "      <th>9740</th>\n",
       "      <td>193587</td>\n",
       "      <td>Bungo Stray Dogs: Dead Apple</td>\n",
       "      <td>Animation</td>\n",
       "      <td>2018</td>\n",
       "    </tr>\n",
       "    <tr>\n",
       "      <th>9741</th>\n",
       "      <td>193609</td>\n",
       "      <td>Andrew Dice Clay: Dice Rules</td>\n",
       "      <td>Comedy</td>\n",
       "      <td>1991</td>\n",
       "    </tr>\n",
       "  </tbody>\n",
       "</table>\n",
       "</div>"
      ],
      "text/plain": [
       "      movieId                         title      genre year_of_release\n",
       "9738   193583         No Game No Life: Zero    Fantasy            2017\n",
       "9739   193585                         Flint      Drama            2017\n",
       "9740   193587  Bungo Stray Dogs: Dead Apple     Action            2018\n",
       "9740   193587  Bungo Stray Dogs: Dead Apple  Animation            2018\n",
       "9741   193609  Andrew Dice Clay: Dice Rules     Comedy            1991"
      ]
     },
     "execution_count": 20,
     "metadata": {},
     "output_type": "execute_result"
    }
   ],
   "source": [
    "movies_df.tail()"
   ]
  },
  {
   "cell_type": "markdown",
   "id": "6a4c72fc",
   "metadata": {
    "id": "6a4c72fc"
   },
   "source": [
    "## Ratings Data Preprocessing"
   ]
  },
  {
   "cell_type": "code",
   "execution_count": 21,
   "id": "115e2d0e",
   "metadata": {
    "id": "115e2d0e"
   },
   "outputs": [],
   "source": [
    "ratings_df = pd.read_csv(\"project_data/ratings.csv\")"
   ]
  },
  {
   "cell_type": "code",
   "execution_count": 22,
   "id": "6507ebd3",
   "metadata": {
    "colab": {
     "base_uri": "https://localhost:8080/",
     "height": 300
    },
    "id": "6507ebd3",
    "outputId": "8a10527c-34ee-4774-f46b-48d93ddabda6"
   },
   "outputs": [
    {
     "data": {
      "text/html": [
       "<div>\n",
       "<style scoped>\n",
       "    .dataframe tbody tr th:only-of-type {\n",
       "        vertical-align: middle;\n",
       "    }\n",
       "\n",
       "    .dataframe tbody tr th {\n",
       "        vertical-align: top;\n",
       "    }\n",
       "\n",
       "    .dataframe thead th {\n",
       "        text-align: right;\n",
       "    }\n",
       "</style>\n",
       "<table border=\"1\" class=\"dataframe\">\n",
       "  <thead>\n",
       "    <tr style=\"text-align: right;\">\n",
       "      <th></th>\n",
       "      <th>userId</th>\n",
       "      <th>movieId</th>\n",
       "      <th>rating</th>\n",
       "      <th>timestamp</th>\n",
       "    </tr>\n",
       "  </thead>\n",
       "  <tbody>\n",
       "    <tr>\n",
       "      <th>count</th>\n",
       "      <td>100836.000000</td>\n",
       "      <td>100836.000000</td>\n",
       "      <td>100836.000000</td>\n",
       "      <td>1.008360e+05</td>\n",
       "    </tr>\n",
       "    <tr>\n",
       "      <th>mean</th>\n",
       "      <td>326.127564</td>\n",
       "      <td>19435.295718</td>\n",
       "      <td>3.501557</td>\n",
       "      <td>1.205946e+09</td>\n",
       "    </tr>\n",
       "    <tr>\n",
       "      <th>std</th>\n",
       "      <td>182.618491</td>\n",
       "      <td>35530.987199</td>\n",
       "      <td>1.042529</td>\n",
       "      <td>2.162610e+08</td>\n",
       "    </tr>\n",
       "    <tr>\n",
       "      <th>min</th>\n",
       "      <td>1.000000</td>\n",
       "      <td>1.000000</td>\n",
       "      <td>0.500000</td>\n",
       "      <td>8.281246e+08</td>\n",
       "    </tr>\n",
       "    <tr>\n",
       "      <th>25%</th>\n",
       "      <td>177.000000</td>\n",
       "      <td>1199.000000</td>\n",
       "      <td>3.000000</td>\n",
       "      <td>1.019124e+09</td>\n",
       "    </tr>\n",
       "    <tr>\n",
       "      <th>50%</th>\n",
       "      <td>325.000000</td>\n",
       "      <td>2991.000000</td>\n",
       "      <td>3.500000</td>\n",
       "      <td>1.186087e+09</td>\n",
       "    </tr>\n",
       "    <tr>\n",
       "      <th>75%</th>\n",
       "      <td>477.000000</td>\n",
       "      <td>8122.000000</td>\n",
       "      <td>4.000000</td>\n",
       "      <td>1.435994e+09</td>\n",
       "    </tr>\n",
       "    <tr>\n",
       "      <th>max</th>\n",
       "      <td>610.000000</td>\n",
       "      <td>193609.000000</td>\n",
       "      <td>5.000000</td>\n",
       "      <td>1.537799e+09</td>\n",
       "    </tr>\n",
       "  </tbody>\n",
       "</table>\n",
       "</div>"
      ],
      "text/plain": [
       "              userId        movieId         rating     timestamp\n",
       "count  100836.000000  100836.000000  100836.000000  1.008360e+05\n",
       "mean      326.127564   19435.295718       3.501557  1.205946e+09\n",
       "std       182.618491   35530.987199       1.042529  2.162610e+08\n",
       "min         1.000000       1.000000       0.500000  8.281246e+08\n",
       "25%       177.000000    1199.000000       3.000000  1.019124e+09\n",
       "50%       325.000000    2991.000000       3.500000  1.186087e+09\n",
       "75%       477.000000    8122.000000       4.000000  1.435994e+09\n",
       "max       610.000000  193609.000000       5.000000  1.537799e+09"
      ]
     },
     "execution_count": 22,
     "metadata": {},
     "output_type": "execute_result"
    }
   ],
   "source": [
    "ratings_df.describe()"
   ]
  },
  {
   "cell_type": "code",
   "execution_count": 23,
   "id": "2588dc2a",
   "metadata": {
    "colab": {
     "base_uri": "https://localhost:8080/",
     "height": 206
    },
    "id": "2588dc2a",
    "outputId": "e15cc00c-819c-4695-ef99-8fdcc6db15b4"
   },
   "outputs": [
    {
     "data": {
      "text/html": [
       "<div>\n",
       "<style scoped>\n",
       "    .dataframe tbody tr th:only-of-type {\n",
       "        vertical-align: middle;\n",
       "    }\n",
       "\n",
       "    .dataframe tbody tr th {\n",
       "        vertical-align: top;\n",
       "    }\n",
       "\n",
       "    .dataframe thead th {\n",
       "        text-align: right;\n",
       "    }\n",
       "</style>\n",
       "<table border=\"1\" class=\"dataframe\">\n",
       "  <thead>\n",
       "    <tr style=\"text-align: right;\">\n",
       "      <th></th>\n",
       "      <th>userId</th>\n",
       "      <th>movieId</th>\n",
       "      <th>rating</th>\n",
       "      <th>timestamp</th>\n",
       "    </tr>\n",
       "  </thead>\n",
       "  <tbody>\n",
       "    <tr>\n",
       "      <th>0</th>\n",
       "      <td>1</td>\n",
       "      <td>1</td>\n",
       "      <td>4.0</td>\n",
       "      <td>964982703</td>\n",
       "    </tr>\n",
       "    <tr>\n",
       "      <th>1</th>\n",
       "      <td>1</td>\n",
       "      <td>3</td>\n",
       "      <td>4.0</td>\n",
       "      <td>964981247</td>\n",
       "    </tr>\n",
       "    <tr>\n",
       "      <th>2</th>\n",
       "      <td>1</td>\n",
       "      <td>6</td>\n",
       "      <td>4.0</td>\n",
       "      <td>964982224</td>\n",
       "    </tr>\n",
       "    <tr>\n",
       "      <th>3</th>\n",
       "      <td>1</td>\n",
       "      <td>47</td>\n",
       "      <td>5.0</td>\n",
       "      <td>964983815</td>\n",
       "    </tr>\n",
       "    <tr>\n",
       "      <th>4</th>\n",
       "      <td>1</td>\n",
       "      <td>50</td>\n",
       "      <td>5.0</td>\n",
       "      <td>964982931</td>\n",
       "    </tr>\n",
       "  </tbody>\n",
       "</table>\n",
       "</div>"
      ],
      "text/plain": [
       "   userId  movieId  rating  timestamp\n",
       "0       1        1     4.0  964982703\n",
       "1       1        3     4.0  964981247\n",
       "2       1        6     4.0  964982224\n",
       "3       1       47     5.0  964983815\n",
       "4       1       50     5.0  964982931"
      ]
     },
     "execution_count": 23,
     "metadata": {},
     "output_type": "execute_result"
    }
   ],
   "source": [
    "ratings_df.head()"
   ]
  },
  {
   "cell_type": "code",
   "execution_count": 24,
   "id": "w38O9TZJHZuL",
   "metadata": {
    "colab": {
     "base_uri": "https://localhost:8080/"
    },
    "id": "w38O9TZJHZuL",
    "outputId": "b1f9e85a-62c1-4836-9de0-baed22f8fff5"
   },
   "outputs": [
    {
     "data": {
      "text/plain": [
       "(100836, 4)"
      ]
     },
     "execution_count": 24,
     "metadata": {},
     "output_type": "execute_result"
    }
   ],
   "source": [
    "ratings_df.shape"
   ]
  },
  {
   "cell_type": "code",
   "execution_count": 25,
   "id": "f737e70d",
   "metadata": {
    "colab": {
     "base_uri": "https://localhost:8080/"
    },
    "id": "f737e70d",
    "outputId": "fd15fbc4-261b-41b1-ff03-f2b80aeb6248"
   },
   "outputs": [
    {
     "name": "stdout",
     "output_type": "stream",
     "text": [
      "<class 'pandas.core.frame.DataFrame'>\n",
      "RangeIndex: 100836 entries, 0 to 100835\n",
      "Data columns (total 4 columns):\n",
      " #   Column     Non-Null Count   Dtype  \n",
      "---  ------     --------------   -----  \n",
      " 0   userId     100836 non-null  int64  \n",
      " 1   movieId    100836 non-null  int64  \n",
      " 2   rating     100836 non-null  float64\n",
      " 3   timestamp  100836 non-null  int64  \n",
      "dtypes: float64(1), int64(3)\n",
      "memory usage: 3.1 MB\n"
     ]
    }
   ],
   "source": [
    "ratings_df.info()"
   ]
  },
  {
   "cell_type": "code",
   "execution_count": 26,
   "id": "e1edcea8",
   "metadata": {
    "colab": {
     "base_uri": "https://localhost:8080/"
    },
    "id": "e1edcea8",
    "outputId": "9eabda48-688b-48a6-d2e5-8659154d13cc"
   },
   "outputs": [
    {
     "data": {
      "text/plain": [
       "100836"
      ]
     },
     "execution_count": 26,
     "metadata": {},
     "output_type": "execute_result"
    }
   ],
   "source": [
    "ratings_df.shape[0]"
   ]
  },
  {
   "cell_type": "code",
   "execution_count": 27,
   "id": "92f28eee",
   "metadata": {
    "colab": {
     "base_uri": "https://localhost:8080/"
    },
    "id": "92f28eee",
    "outputId": "5c6fca9c-c04a-4a23-d32c-66ca2faccdc0"
   },
   "outputs": [
    {
     "data": {
      "text/plain": [
       "userId       0\n",
       "movieId      0\n",
       "rating       0\n",
       "timestamp    0\n",
       "dtype: int64"
      ]
     },
     "execution_count": 27,
     "metadata": {},
     "output_type": "execute_result"
    }
   ],
   "source": [
    "ratings_df.isnull().sum().sort_values()"
   ]
  },
  {
   "cell_type": "code",
   "execution_count": 28,
   "id": "KV0g-4kHHBCd",
   "metadata": {
    "id": "KV0g-4kHHBCd"
   },
   "outputs": [],
   "source": [
    "ratings_df.dropna(inplace=True)"
   ]
  },
  {
   "cell_type": "code",
   "execution_count": 29,
   "id": "62a77f84",
   "metadata": {
    "colab": {
     "base_uri": "https://localhost:8080/"
    },
    "id": "62a77f84",
    "outputId": "46d85f71-8265-4bb5-b787-8dda5061c4a1"
   },
   "outputs": [
    {
     "name": "stdout",
     "output_type": "stream",
     "text": [
      "Number of unknown values for the attribute userId = 0\n",
      "Number of unknown values for the attribute movieId = 0\n",
      "Number of unknown values for the attribute rating = 0\n",
      "Number of unknown values for the attribute timestamp = 0\n"
     ]
    }
   ],
   "source": [
    "unknown_valued_columns=[]\n",
    "for c in ratings_df.columns:\n",
    "    print(\"Number of unknown values for the attribute\",c,\"=\",ratings_df.loc[ratings_df[c] == '?'].shape[0])\n",
    "    unknown_valued_columns.append(c)"
   ]
  },
  {
   "cell_type": "code",
   "execution_count": 30,
   "id": "7f4ae8ee",
   "metadata": {
    "id": "7f4ae8ee"
   },
   "outputs": [],
   "source": [
    "ratings_df['date']=ratings_df['timestamp'].apply(lambda x: datetime.fromtimestamp(x).strftime( \"%d-%m-%Y\"))"
   ]
  },
  {
   "cell_type": "code",
   "execution_count": 31,
   "id": "1f417f17",
   "metadata": {
    "colab": {
     "base_uri": "https://localhost:8080/",
     "height": 206
    },
    "id": "1f417f17",
    "outputId": "c9a69062-1ef0-45c7-8e46-6cd1488c3248"
   },
   "outputs": [
    {
     "data": {
      "text/html": [
       "<div>\n",
       "<style scoped>\n",
       "    .dataframe tbody tr th:only-of-type {\n",
       "        vertical-align: middle;\n",
       "    }\n",
       "\n",
       "    .dataframe tbody tr th {\n",
       "        vertical-align: top;\n",
       "    }\n",
       "\n",
       "    .dataframe thead th {\n",
       "        text-align: right;\n",
       "    }\n",
       "</style>\n",
       "<table border=\"1\" class=\"dataframe\">\n",
       "  <thead>\n",
       "    <tr style=\"text-align: right;\">\n",
       "      <th></th>\n",
       "      <th>userId</th>\n",
       "      <th>movieId</th>\n",
       "      <th>rating</th>\n",
       "      <th>timestamp</th>\n",
       "      <th>date</th>\n",
       "    </tr>\n",
       "  </thead>\n",
       "  <tbody>\n",
       "    <tr>\n",
       "      <th>100831</th>\n",
       "      <td>610</td>\n",
       "      <td>166534</td>\n",
       "      <td>4.0</td>\n",
       "      <td>1493848402</td>\n",
       "      <td>03-05-2017</td>\n",
       "    </tr>\n",
       "    <tr>\n",
       "      <th>100832</th>\n",
       "      <td>610</td>\n",
       "      <td>168248</td>\n",
       "      <td>5.0</td>\n",
       "      <td>1493850091</td>\n",
       "      <td>03-05-2017</td>\n",
       "    </tr>\n",
       "    <tr>\n",
       "      <th>100833</th>\n",
       "      <td>610</td>\n",
       "      <td>168250</td>\n",
       "      <td>5.0</td>\n",
       "      <td>1494273047</td>\n",
       "      <td>08-05-2017</td>\n",
       "    </tr>\n",
       "    <tr>\n",
       "      <th>100834</th>\n",
       "      <td>610</td>\n",
       "      <td>168252</td>\n",
       "      <td>5.0</td>\n",
       "      <td>1493846352</td>\n",
       "      <td>03-05-2017</td>\n",
       "    </tr>\n",
       "    <tr>\n",
       "      <th>100835</th>\n",
       "      <td>610</td>\n",
       "      <td>170875</td>\n",
       "      <td>3.0</td>\n",
       "      <td>1493846415</td>\n",
       "      <td>03-05-2017</td>\n",
       "    </tr>\n",
       "  </tbody>\n",
       "</table>\n",
       "</div>"
      ],
      "text/plain": [
       "        userId  movieId  rating   timestamp        date\n",
       "100831     610   166534     4.0  1493848402  03-05-2017\n",
       "100832     610   168248     5.0  1493850091  03-05-2017\n",
       "100833     610   168250     5.0  1494273047  08-05-2017\n",
       "100834     610   168252     5.0  1493846352  03-05-2017\n",
       "100835     610   170875     3.0  1493846415  03-05-2017"
      ]
     },
     "execution_count": 31,
     "metadata": {},
     "output_type": "execute_result"
    }
   ],
   "source": [
    "ratings_df.tail()"
   ]
  },
  {
   "cell_type": "markdown",
   "id": "065af75c",
   "metadata": {
    "id": "065af75c"
   },
   "source": [
    "## Tags Data Preprocessing"
   ]
  },
  {
   "cell_type": "code",
   "execution_count": 32,
   "id": "67091dd9",
   "metadata": {
    "id": "67091dd9"
   },
   "outputs": [],
   "source": [
    "tags_df = pd.read_csv(\"project_data/tags.csv\")"
   ]
  },
  {
   "cell_type": "code",
   "execution_count": 33,
   "id": "076bbc72",
   "metadata": {
    "colab": {
     "base_uri": "https://localhost:8080/",
     "height": 300
    },
    "id": "076bbc72",
    "outputId": "6a9478f7-e9db-492d-8013-92b3a460d5e3"
   },
   "outputs": [
    {
     "data": {
      "text/html": [
       "<div>\n",
       "<style scoped>\n",
       "    .dataframe tbody tr th:only-of-type {\n",
       "        vertical-align: middle;\n",
       "    }\n",
       "\n",
       "    .dataframe tbody tr th {\n",
       "        vertical-align: top;\n",
       "    }\n",
       "\n",
       "    .dataframe thead th {\n",
       "        text-align: right;\n",
       "    }\n",
       "</style>\n",
       "<table border=\"1\" class=\"dataframe\">\n",
       "  <thead>\n",
       "    <tr style=\"text-align: right;\">\n",
       "      <th></th>\n",
       "      <th>userId</th>\n",
       "      <th>movieId</th>\n",
       "      <th>timestamp</th>\n",
       "    </tr>\n",
       "  </thead>\n",
       "  <tbody>\n",
       "    <tr>\n",
       "      <th>count</th>\n",
       "      <td>3683.000000</td>\n",
       "      <td>3683.000000</td>\n",
       "      <td>3.683000e+03</td>\n",
       "    </tr>\n",
       "    <tr>\n",
       "      <th>mean</th>\n",
       "      <td>431.149335</td>\n",
       "      <td>27252.013576</td>\n",
       "      <td>1.320032e+09</td>\n",
       "    </tr>\n",
       "    <tr>\n",
       "      <th>std</th>\n",
       "      <td>158.472553</td>\n",
       "      <td>43490.558803</td>\n",
       "      <td>1.721025e+08</td>\n",
       "    </tr>\n",
       "    <tr>\n",
       "      <th>min</th>\n",
       "      <td>2.000000</td>\n",
       "      <td>1.000000</td>\n",
       "      <td>1.137179e+09</td>\n",
       "    </tr>\n",
       "    <tr>\n",
       "      <th>25%</th>\n",
       "      <td>424.000000</td>\n",
       "      <td>1262.500000</td>\n",
       "      <td>1.137521e+09</td>\n",
       "    </tr>\n",
       "    <tr>\n",
       "      <th>50%</th>\n",
       "      <td>474.000000</td>\n",
       "      <td>4454.000000</td>\n",
       "      <td>1.269833e+09</td>\n",
       "    </tr>\n",
       "    <tr>\n",
       "      <th>75%</th>\n",
       "      <td>477.000000</td>\n",
       "      <td>39263.000000</td>\n",
       "      <td>1.498457e+09</td>\n",
       "    </tr>\n",
       "    <tr>\n",
       "      <th>max</th>\n",
       "      <td>610.000000</td>\n",
       "      <td>193565.000000</td>\n",
       "      <td>1.537099e+09</td>\n",
       "    </tr>\n",
       "  </tbody>\n",
       "</table>\n",
       "</div>"
      ],
      "text/plain": [
       "            userId        movieId     timestamp\n",
       "count  3683.000000    3683.000000  3.683000e+03\n",
       "mean    431.149335   27252.013576  1.320032e+09\n",
       "std     158.472553   43490.558803  1.721025e+08\n",
       "min       2.000000       1.000000  1.137179e+09\n",
       "25%     424.000000    1262.500000  1.137521e+09\n",
       "50%     474.000000    4454.000000  1.269833e+09\n",
       "75%     477.000000   39263.000000  1.498457e+09\n",
       "max     610.000000  193565.000000  1.537099e+09"
      ]
     },
     "execution_count": 33,
     "metadata": {},
     "output_type": "execute_result"
    }
   ],
   "source": [
    "tags_df.describe()"
   ]
  },
  {
   "cell_type": "code",
   "execution_count": 34,
   "id": "36733a33",
   "metadata": {
    "colab": {
     "base_uri": "https://localhost:8080/",
     "height": 206
    },
    "id": "36733a33",
    "outputId": "8a17333f-ceaa-459a-bd77-a29f5fe1c898"
   },
   "outputs": [
    {
     "data": {
      "text/html": [
       "<div>\n",
       "<style scoped>\n",
       "    .dataframe tbody tr th:only-of-type {\n",
       "        vertical-align: middle;\n",
       "    }\n",
       "\n",
       "    .dataframe tbody tr th {\n",
       "        vertical-align: top;\n",
       "    }\n",
       "\n",
       "    .dataframe thead th {\n",
       "        text-align: right;\n",
       "    }\n",
       "</style>\n",
       "<table border=\"1\" class=\"dataframe\">\n",
       "  <thead>\n",
       "    <tr style=\"text-align: right;\">\n",
       "      <th></th>\n",
       "      <th>userId</th>\n",
       "      <th>movieId</th>\n",
       "      <th>tag</th>\n",
       "      <th>timestamp</th>\n",
       "    </tr>\n",
       "  </thead>\n",
       "  <tbody>\n",
       "    <tr>\n",
       "      <th>0</th>\n",
       "      <td>2</td>\n",
       "      <td>60756</td>\n",
       "      <td>funny</td>\n",
       "      <td>1445714994</td>\n",
       "    </tr>\n",
       "    <tr>\n",
       "      <th>1</th>\n",
       "      <td>2</td>\n",
       "      <td>60756</td>\n",
       "      <td>Highly quotable</td>\n",
       "      <td>1445714996</td>\n",
       "    </tr>\n",
       "    <tr>\n",
       "      <th>2</th>\n",
       "      <td>2</td>\n",
       "      <td>60756</td>\n",
       "      <td>will ferrell</td>\n",
       "      <td>1445714992</td>\n",
       "    </tr>\n",
       "    <tr>\n",
       "      <th>3</th>\n",
       "      <td>2</td>\n",
       "      <td>89774</td>\n",
       "      <td>Boxing story</td>\n",
       "      <td>1445715207</td>\n",
       "    </tr>\n",
       "    <tr>\n",
       "      <th>4</th>\n",
       "      <td>2</td>\n",
       "      <td>89774</td>\n",
       "      <td>MMA</td>\n",
       "      <td>1445715200</td>\n",
       "    </tr>\n",
       "  </tbody>\n",
       "</table>\n",
       "</div>"
      ],
      "text/plain": [
       "   userId  movieId              tag   timestamp\n",
       "0       2    60756            funny  1445714994\n",
       "1       2    60756  Highly quotable  1445714996\n",
       "2       2    60756     will ferrell  1445714992\n",
       "3       2    89774     Boxing story  1445715207\n",
       "4       2    89774              MMA  1445715200"
      ]
     },
     "execution_count": 34,
     "metadata": {},
     "output_type": "execute_result"
    }
   ],
   "source": [
    "tags_df.head()"
   ]
  },
  {
   "cell_type": "code",
   "execution_count": 35,
   "id": "c8e604b4",
   "metadata": {
    "colab": {
     "base_uri": "https://localhost:8080/"
    },
    "id": "c8e604b4",
    "outputId": "9dd58c8e-5263-41ca-ea8b-89ad633ae161"
   },
   "outputs": [
    {
     "name": "stdout",
     "output_type": "stream",
     "text": [
      "<class 'pandas.core.frame.DataFrame'>\n",
      "RangeIndex: 3683 entries, 0 to 3682\n",
      "Data columns (total 4 columns):\n",
      " #   Column     Non-Null Count  Dtype \n",
      "---  ------     --------------  ----- \n",
      " 0   userId     3683 non-null   int64 \n",
      " 1   movieId    3683 non-null   int64 \n",
      " 2   tag        3683 non-null   object\n",
      " 3   timestamp  3683 non-null   int64 \n",
      "dtypes: int64(3), object(1)\n",
      "memory usage: 115.2+ KB\n"
     ]
    }
   ],
   "source": [
    "tags_df.info()"
   ]
  },
  {
   "cell_type": "code",
   "execution_count": 36,
   "id": "6f63d62a",
   "metadata": {
    "colab": {
     "base_uri": "https://localhost:8080/"
    },
    "id": "6f63d62a",
    "outputId": "73d3dc33-ff74-45ba-f51b-89d916838e1e"
   },
   "outputs": [
    {
     "data": {
      "text/plain": [
       "3683"
      ]
     },
     "execution_count": 36,
     "metadata": {},
     "output_type": "execute_result"
    }
   ],
   "source": [
    "tags_df.shape[0]"
   ]
  },
  {
   "cell_type": "code",
   "execution_count": 37,
   "id": "140220d0",
   "metadata": {
    "colab": {
     "base_uri": "https://localhost:8080/"
    },
    "id": "140220d0",
    "outputId": "c5f676bc-0fac-4c20-e368-461ce7fe59ad"
   },
   "outputs": [
    {
     "data": {
      "text/plain": [
       "userId       0\n",
       "movieId      0\n",
       "tag          0\n",
       "timestamp    0\n",
       "dtype: int64"
      ]
     },
     "execution_count": 37,
     "metadata": {},
     "output_type": "execute_result"
    }
   ],
   "source": [
    "tags_df.isnull().sum().sort_values()"
   ]
  },
  {
   "cell_type": "code",
   "execution_count": 38,
   "id": "ee1ad3ee",
   "metadata": {
    "colab": {
     "base_uri": "https://localhost:8080/"
    },
    "id": "ee1ad3ee",
    "outputId": "61aa4e90-c3f1-45bc-8388-99199269bb2b"
   },
   "outputs": [
    {
     "name": "stdout",
     "output_type": "stream",
     "text": [
      "Number of unknown values for the attribute userId = 0\n",
      "Number of unknown values for the attribute movieId = 0\n",
      "Number of unknown values for the attribute tag = 0\n",
      "Number of unknown values for the attribute timestamp = 0\n"
     ]
    }
   ],
   "source": [
    "unknown_valued_columns=[]\n",
    "for c in tags_df.columns:\n",
    "    print(\"Number of unknown values for the attribute\",c,\"=\",tags_df.loc[tags_df[c] == '?'].shape[0])\n",
    "    unknown_valued_columns.append(c)"
   ]
  },
  {
   "cell_type": "code",
   "execution_count": 39,
   "id": "a5086229",
   "metadata": {
    "id": "a5086229"
   },
   "outputs": [],
   "source": [
    "tags_df['date']=tags_df['timestamp'].apply(lambda x: datetime.fromtimestamp(x).strftime( \"%d-%m-%Y\"))"
   ]
  },
  {
   "cell_type": "code",
   "execution_count": 40,
   "id": "b561f864",
   "metadata": {
    "colab": {
     "base_uri": "https://localhost:8080/",
     "height": 206
    },
    "id": "b561f864",
    "outputId": "80465f2a-a7f6-401c-a46c-e7ba2dfbea3d"
   },
   "outputs": [
    {
     "data": {
      "text/html": [
       "<div>\n",
       "<style scoped>\n",
       "    .dataframe tbody tr th:only-of-type {\n",
       "        vertical-align: middle;\n",
       "    }\n",
       "\n",
       "    .dataframe tbody tr th {\n",
       "        vertical-align: top;\n",
       "    }\n",
       "\n",
       "    .dataframe thead th {\n",
       "        text-align: right;\n",
       "    }\n",
       "</style>\n",
       "<table border=\"1\" class=\"dataframe\">\n",
       "  <thead>\n",
       "    <tr style=\"text-align: right;\">\n",
       "      <th></th>\n",
       "      <th>userId</th>\n",
       "      <th>movieId</th>\n",
       "      <th>tag</th>\n",
       "      <th>timestamp</th>\n",
       "      <th>date</th>\n",
       "    </tr>\n",
       "  </thead>\n",
       "  <tbody>\n",
       "    <tr>\n",
       "      <th>3678</th>\n",
       "      <td>606</td>\n",
       "      <td>7382</td>\n",
       "      <td>for katie</td>\n",
       "      <td>1171234019</td>\n",
       "      <td>11-02-2007</td>\n",
       "    </tr>\n",
       "    <tr>\n",
       "      <th>3679</th>\n",
       "      <td>606</td>\n",
       "      <td>7936</td>\n",
       "      <td>austere</td>\n",
       "      <td>1173392334</td>\n",
       "      <td>08-03-2007</td>\n",
       "    </tr>\n",
       "    <tr>\n",
       "      <th>3680</th>\n",
       "      <td>610</td>\n",
       "      <td>3265</td>\n",
       "      <td>gun fu</td>\n",
       "      <td>1493843984</td>\n",
       "      <td>03-05-2017</td>\n",
       "    </tr>\n",
       "    <tr>\n",
       "      <th>3681</th>\n",
       "      <td>610</td>\n",
       "      <td>3265</td>\n",
       "      <td>heroic bloodshed</td>\n",
       "      <td>1493843978</td>\n",
       "      <td>03-05-2017</td>\n",
       "    </tr>\n",
       "    <tr>\n",
       "      <th>3682</th>\n",
       "      <td>610</td>\n",
       "      <td>168248</td>\n",
       "      <td>Heroic Bloodshed</td>\n",
       "      <td>1493844270</td>\n",
       "      <td>03-05-2017</td>\n",
       "    </tr>\n",
       "  </tbody>\n",
       "</table>\n",
       "</div>"
      ],
      "text/plain": [
       "      userId  movieId               tag   timestamp        date\n",
       "3678     606     7382         for katie  1171234019  11-02-2007\n",
       "3679     606     7936           austere  1173392334  08-03-2007\n",
       "3680     610     3265            gun fu  1493843984  03-05-2017\n",
       "3681     610     3265  heroic bloodshed  1493843978  03-05-2017\n",
       "3682     610   168248  Heroic Bloodshed  1493844270  03-05-2017"
      ]
     },
     "execution_count": 40,
     "metadata": {},
     "output_type": "execute_result"
    }
   ],
   "source": [
    "tags_df.tail()"
   ]
  },
  {
   "cell_type": "markdown",
   "id": "fb6ddc7d",
   "metadata": {
    "id": "fb6ddc7d"
   },
   "source": [
    "## Integrated Data Preprocessing"
   ]
  },
  {
   "cell_type": "code",
   "execution_count": 41,
   "id": "Nqk2iyk-Ms4T",
   "metadata": {
    "id": "Nqk2iyk-Ms4T"
   },
   "outputs": [],
   "source": [
    "ratings_df1=copy.deepcopy(ratings_df)\n",
    "\n",
    "ratings_df1.drop(columns=['timestamp'],inplace=True)\n",
    "\n",
    "ratings_df1.rename(columns={\"date\": \"rated_on\"}, inplace=True)"
   ]
  },
  {
   "cell_type": "code",
   "execution_count": 42,
   "id": "vCw4I3QYMkCC",
   "metadata": {
    "id": "vCw4I3QYMkCC"
   },
   "outputs": [],
   "source": [
    "df=movies_df.merge(ratings_df1,how='inner',on='movieId')"
   ]
  },
  {
   "cell_type": "code",
   "execution_count": 43,
   "id": "6V95FPPkMqvG",
   "metadata": {
    "colab": {
     "base_uri": "https://localhost:8080/",
     "height": 206
    },
    "id": "6V95FPPkMqvG",
    "outputId": "b6d90f45-a626-4921-e7cb-246bb420cbee"
   },
   "outputs": [
    {
     "data": {
      "text/html": [
       "<div>\n",
       "<style scoped>\n",
       "    .dataframe tbody tr th:only-of-type {\n",
       "        vertical-align: middle;\n",
       "    }\n",
       "\n",
       "    .dataframe tbody tr th {\n",
       "        vertical-align: top;\n",
       "    }\n",
       "\n",
       "    .dataframe thead th {\n",
       "        text-align: right;\n",
       "    }\n",
       "</style>\n",
       "<table border=\"1\" class=\"dataframe\">\n",
       "  <thead>\n",
       "    <tr style=\"text-align: right;\">\n",
       "      <th></th>\n",
       "      <th>movieId</th>\n",
       "      <th>title</th>\n",
       "      <th>genre</th>\n",
       "      <th>year_of_release</th>\n",
       "      <th>userId</th>\n",
       "      <th>rating</th>\n",
       "      <th>rated_on</th>\n",
       "    </tr>\n",
       "  </thead>\n",
       "  <tbody>\n",
       "    <tr>\n",
       "      <th>0</th>\n",
       "      <td>1</td>\n",
       "      <td>Toy Story</td>\n",
       "      <td>Adventure</td>\n",
       "      <td>1995</td>\n",
       "      <td>1</td>\n",
       "      <td>4.0</td>\n",
       "      <td>30-07-2000</td>\n",
       "    </tr>\n",
       "    <tr>\n",
       "      <th>1</th>\n",
       "      <td>1</td>\n",
       "      <td>Toy Story</td>\n",
       "      <td>Adventure</td>\n",
       "      <td>1995</td>\n",
       "      <td>5</td>\n",
       "      <td>4.0</td>\n",
       "      <td>08-11-1996</td>\n",
       "    </tr>\n",
       "    <tr>\n",
       "      <th>2</th>\n",
       "      <td>1</td>\n",
       "      <td>Toy Story</td>\n",
       "      <td>Adventure</td>\n",
       "      <td>1995</td>\n",
       "      <td>7</td>\n",
       "      <td>4.5</td>\n",
       "      <td>25-01-2005</td>\n",
       "    </tr>\n",
       "    <tr>\n",
       "      <th>3</th>\n",
       "      <td>1</td>\n",
       "      <td>Toy Story</td>\n",
       "      <td>Adventure</td>\n",
       "      <td>1995</td>\n",
       "      <td>15</td>\n",
       "      <td>2.5</td>\n",
       "      <td>13-11-2017</td>\n",
       "    </tr>\n",
       "    <tr>\n",
       "      <th>4</th>\n",
       "      <td>1</td>\n",
       "      <td>Toy Story</td>\n",
       "      <td>Adventure</td>\n",
       "      <td>1995</td>\n",
       "      <td>17</td>\n",
       "      <td>4.5</td>\n",
       "      <td>18-05-2011</td>\n",
       "    </tr>\n",
       "  </tbody>\n",
       "</table>\n",
       "</div>"
      ],
      "text/plain": [
       "   movieId      title      genre year_of_release  userId  rating    rated_on\n",
       "0        1  Toy Story  Adventure            1995       1     4.0  30-07-2000\n",
       "1        1  Toy Story  Adventure            1995       5     4.0  08-11-1996\n",
       "2        1  Toy Story  Adventure            1995       7     4.5  25-01-2005\n",
       "3        1  Toy Story  Adventure            1995      15     2.5  13-11-2017\n",
       "4        1  Toy Story  Adventure            1995      17     4.5  18-05-2011"
      ]
     },
     "execution_count": 43,
     "metadata": {},
     "output_type": "execute_result"
    }
   ],
   "source": [
    "df.head()"
   ]
  },
  {
   "cell_type": "code",
   "execution_count": 44,
   "id": "zUamsDT2-qHw",
   "metadata": {
    "colab": {
     "base_uri": "https://localhost:8080/"
    },
    "id": "zUamsDT2-qHw",
    "outputId": "c9e2990e-b9c9-4717-a49d-2a01524bc7e1"
   },
   "outputs": [
    {
     "data": {
      "text/plain": [
       "274480"
      ]
     },
     "execution_count": 44,
     "metadata": {},
     "output_type": "execute_result"
    }
   ],
   "source": [
    "df.shape[0]"
   ]
  },
  {
   "cell_type": "code",
   "execution_count": 45,
   "id": "RTzfJIHW-Xes",
   "metadata": {
    "id": "RTzfJIHW-Xes"
   },
   "outputs": [],
   "source": [
    "df.drop(df.loc[df[\"year_of_release\"]==\"\"].index, inplace=True)"
   ]
  },
  {
   "cell_type": "code",
   "execution_count": null,
   "id": "EH9tHtc8-tMz",
   "metadata": {
    "id": "EH9tHtc8-tMz"
   },
   "outputs": [],
   "source": []
  },
  {
   "cell_type": "markdown",
   "id": "-No79R7mkQ86",
   "metadata": {
    "id": "-No79R7mkQ86"
   },
   "source": [
    "## Movies Data Set EDA"
   ]
  },
  {
   "cell_type": "code",
   "execution_count": 46,
   "id": "4pCL6LVXjxp0",
   "metadata": {
    "colab": {
     "base_uri": "https://localhost:8080/",
     "height": 206
    },
    "id": "4pCL6LVXjxp0",
    "outputId": "f7c3e8c5-e6a5-4a7f-e2aa-821b1b40c119"
   },
   "outputs": [
    {
     "data": {
      "text/html": [
       "<div>\n",
       "<style scoped>\n",
       "    .dataframe tbody tr th:only-of-type {\n",
       "        vertical-align: middle;\n",
       "    }\n",
       "\n",
       "    .dataframe tbody tr th {\n",
       "        vertical-align: top;\n",
       "    }\n",
       "\n",
       "    .dataframe thead th {\n",
       "        text-align: right;\n",
       "    }\n",
       "</style>\n",
       "<table border=\"1\" class=\"dataframe\">\n",
       "  <thead>\n",
       "    <tr style=\"text-align: right;\">\n",
       "      <th></th>\n",
       "      <th>movieId</th>\n",
       "      <th>title</th>\n",
       "      <th>genre</th>\n",
       "      <th>year_of_release</th>\n",
       "    </tr>\n",
       "  </thead>\n",
       "  <tbody>\n",
       "    <tr>\n",
       "      <th>0</th>\n",
       "      <td>1</td>\n",
       "      <td>Toy Story</td>\n",
       "      <td>Adventure</td>\n",
       "      <td>1995</td>\n",
       "    </tr>\n",
       "    <tr>\n",
       "      <th>0</th>\n",
       "      <td>1</td>\n",
       "      <td>Toy Story</td>\n",
       "      <td>Animation</td>\n",
       "      <td>1995</td>\n",
       "    </tr>\n",
       "    <tr>\n",
       "      <th>0</th>\n",
       "      <td>1</td>\n",
       "      <td>Toy Story</td>\n",
       "      <td>Children</td>\n",
       "      <td>1995</td>\n",
       "    </tr>\n",
       "    <tr>\n",
       "      <th>0</th>\n",
       "      <td>1</td>\n",
       "      <td>Toy Story</td>\n",
       "      <td>Comedy</td>\n",
       "      <td>1995</td>\n",
       "    </tr>\n",
       "    <tr>\n",
       "      <th>0</th>\n",
       "      <td>1</td>\n",
       "      <td>Toy Story</td>\n",
       "      <td>Fantasy</td>\n",
       "      <td>1995</td>\n",
       "    </tr>\n",
       "  </tbody>\n",
       "</table>\n",
       "</div>"
      ],
      "text/plain": [
       "   movieId      title      genre year_of_release\n",
       "0        1  Toy Story  Adventure            1995\n",
       "0        1  Toy Story  Animation            1995\n",
       "0        1  Toy Story   Children            1995\n",
       "0        1  Toy Story     Comedy            1995\n",
       "0        1  Toy Story    Fantasy            1995"
      ]
     },
     "execution_count": 46,
     "metadata": {},
     "output_type": "execute_result"
    }
   ],
   "source": [
    "movies_df.head()"
   ]
  },
  {
   "cell_type": "code",
   "execution_count": 47,
   "id": "vzMqJdYBpKSH",
   "metadata": {
    "colab": {
     "base_uri": "https://localhost:8080/"
    },
    "id": "vzMqJdYBpKSH",
    "outputId": "5f852afd-67f5-4849-cc20-8ab6a6382341"
   },
   "outputs": [
    {
     "data": {
      "text/plain": [
       "array(['Adventure', 'Animation', 'Children', 'Comedy', 'Fantasy',\n",
       "       'Romance', 'Drama', 'Action', 'Crime', 'Thriller', 'Horror',\n",
       "       'Mystery', 'Sci-Fi', 'War', 'Musical', 'Documentary', 'IMAX',\n",
       "       'Western', 'Film-Noir', '(no genres listed)'], dtype=object)"
      ]
     },
     "execution_count": 47,
     "metadata": {},
     "output_type": "execute_result"
    }
   ],
   "source": [
    "movies_df[\"genre\"].unique()"
   ]
  },
  {
   "cell_type": "code",
   "execution_count": 48,
   "id": "VvBPy51hkHN0",
   "metadata": {
    "id": "VvBPy51hkHN0"
   },
   "outputs": [],
   "source": [
    "average_movie_rating=df.groupby('title', as_index=False)['rating'].mean().sort_values('rating',ascending=False)"
   ]
  },
  {
   "cell_type": "code",
   "execution_count": 49,
   "id": "e6I0nMtx2LEM",
   "metadata": {
    "colab": {
     "base_uri": "https://localhost:8080/",
     "height": 519
    },
    "id": "e6I0nMtx2LEM",
    "outputId": "f0e3fc59-e0e0-4095-afc6-07dbb64b530b"
   },
   "outputs": [
    {
     "data": {
      "text/html": [
       "<div>\n",
       "<style scoped>\n",
       "    .dataframe tbody tr th:only-of-type {\n",
       "        vertical-align: middle;\n",
       "    }\n",
       "\n",
       "    .dataframe tbody tr th {\n",
       "        vertical-align: top;\n",
       "    }\n",
       "\n",
       "    .dataframe thead th {\n",
       "        text-align: right;\n",
       "    }\n",
       "</style>\n",
       "<table border=\"1\" class=\"dataframe\">\n",
       "  <thead>\n",
       "    <tr style=\"text-align: right;\">\n",
       "      <th></th>\n",
       "      <th>title</th>\n",
       "      <th>rating</th>\n",
       "    </tr>\n",
       "  </thead>\n",
       "  <tbody>\n",
       "    <tr>\n",
       "      <th>731</th>\n",
       "      <td>Battle For Sevastopol</td>\n",
       "      <td>5.0</td>\n",
       "    </tr>\n",
       "    <tr>\n",
       "      <th>2957</th>\n",
       "      <td>Girls About Town</td>\n",
       "      <td>5.0</td>\n",
       "    </tr>\n",
       "    <tr>\n",
       "      <th>3205</th>\n",
       "      <td>Harlan County U.S.A.</td>\n",
       "      <td>5.0</td>\n",
       "    </tr>\n",
       "    <tr>\n",
       "      <th>3185</th>\n",
       "      <td>Happy Feet Two</td>\n",
       "      <td>5.0</td>\n",
       "    </tr>\n",
       "    <tr>\n",
       "      <th>8220</th>\n",
       "      <td>Woman Under the Influence, A</td>\n",
       "      <td>5.0</td>\n",
       "    </tr>\n",
       "    <tr>\n",
       "      <th>7180</th>\n",
       "      <td>Tenchi Muyô! In Love</td>\n",
       "      <td>5.0</td>\n",
       "    </tr>\n",
       "    <tr>\n",
       "      <th>6088</th>\n",
       "      <td>Return to Treasure Island</td>\n",
       "      <td>5.0</td>\n",
       "    </tr>\n",
       "    <tr>\n",
       "      <th>3139</th>\n",
       "      <td>Guy X</td>\n",
       "      <td>5.0</td>\n",
       "    </tr>\n",
       "    <tr>\n",
       "      <th>7818</th>\n",
       "      <td>Unicorn City</td>\n",
       "      <td>5.0</td>\n",
       "    </tr>\n",
       "    <tr>\n",
       "      <th>8230</th>\n",
       "      <td>Won't You Be My Neighbor?</td>\n",
       "      <td>5.0</td>\n",
       "    </tr>\n",
       "    <tr>\n",
       "      <th>7812</th>\n",
       "      <td>Unfaithfully Yours</td>\n",
       "      <td>5.0</td>\n",
       "    </tr>\n",
       "    <tr>\n",
       "      <th>6145</th>\n",
       "      <td>Rivers and Tides</td>\n",
       "      <td>5.0</td>\n",
       "    </tr>\n",
       "    <tr>\n",
       "      <th>3030</th>\n",
       "      <td>Goodbye Charlie</td>\n",
       "      <td>5.0</td>\n",
       "    </tr>\n",
       "    <tr>\n",
       "      <th>216</th>\n",
       "      <td>Advise and Consent</td>\n",
       "      <td>5.0</td>\n",
       "    </tr>\n",
       "    <tr>\n",
       "      <th>6850</th>\n",
       "      <td>Stand, The</td>\n",
       "      <td>5.0</td>\n",
       "    </tr>\n",
       "  </tbody>\n",
       "</table>\n",
       "</div>"
      ],
      "text/plain": [
       "                             title  rating\n",
       "731          Battle For Sevastopol     5.0\n",
       "2957              Girls About Town     5.0\n",
       "3205          Harlan County U.S.A.     5.0\n",
       "3185                Happy Feet Two     5.0\n",
       "8220  Woman Under the Influence, A     5.0\n",
       "7180          Tenchi Muyô! In Love     5.0\n",
       "6088     Return to Treasure Island     5.0\n",
       "3139                         Guy X     5.0\n",
       "7818                  Unicorn City     5.0\n",
       "8230     Won't You Be My Neighbor?     5.0\n",
       "7812            Unfaithfully Yours     5.0\n",
       "6145              Rivers and Tides     5.0\n",
       "3030               Goodbye Charlie     5.0\n",
       "216             Advise and Consent     5.0\n",
       "6850                    Stand, The     5.0"
      ]
     },
     "execution_count": 49,
     "metadata": {},
     "output_type": "execute_result"
    }
   ],
   "source": [
    "# Top 15 rated movies\n",
    "average_movie_rating.head(15)"
   ]
  },
  {
   "cell_type": "code",
   "execution_count": 50,
   "id": "IeM5b4XD2ESX",
   "metadata": {
    "id": "IeM5b4XD2ESX"
   },
   "outputs": [],
   "source": [
    "genre_rating=df.groupby('genre', as_index=False)['rating'].mean().sort_values('rating',ascending=False)"
   ]
  },
  {
   "cell_type": "code",
   "execution_count": 51,
   "id": "hDyK13P-3I5R",
   "metadata": {
    "colab": {
     "base_uri": "https://localhost:8080/",
     "height": 519
    },
    "id": "hDyK13P-3I5R",
    "outputId": "4a8d2ad6-b29f-4fda-fc0c-654c93eb43d3"
   },
   "outputs": [
    {
     "data": {
      "text/html": [
       "<div>\n",
       "<style scoped>\n",
       "    .dataframe tbody tr th:only-of-type {\n",
       "        vertical-align: middle;\n",
       "    }\n",
       "\n",
       "    .dataframe tbody tr th {\n",
       "        vertical-align: top;\n",
       "    }\n",
       "\n",
       "    .dataframe thead th {\n",
       "        text-align: right;\n",
       "    }\n",
       "</style>\n",
       "<table border=\"1\" class=\"dataframe\">\n",
       "  <thead>\n",
       "    <tr style=\"text-align: right;\">\n",
       "      <th></th>\n",
       "      <th>genre</th>\n",
       "      <th>rating</th>\n",
       "    </tr>\n",
       "  </thead>\n",
       "  <tbody>\n",
       "    <tr>\n",
       "      <th>10</th>\n",
       "      <td>Film-Noir</td>\n",
       "      <td>3.906100</td>\n",
       "    </tr>\n",
       "    <tr>\n",
       "      <th>7</th>\n",
       "      <td>Documentary</td>\n",
       "      <td>3.809228</td>\n",
       "    </tr>\n",
       "    <tr>\n",
       "      <th>18</th>\n",
       "      <td>War</td>\n",
       "      <td>3.794569</td>\n",
       "    </tr>\n",
       "    <tr>\n",
       "      <th>6</th>\n",
       "      <td>Crime</td>\n",
       "      <td>3.649886</td>\n",
       "    </tr>\n",
       "    <tr>\n",
       "      <th>8</th>\n",
       "      <td>Drama</td>\n",
       "      <td>3.638688</td>\n",
       "    </tr>\n",
       "    <tr>\n",
       "      <th>12</th>\n",
       "      <td>IMAX</td>\n",
       "      <td>3.621585</td>\n",
       "    </tr>\n",
       "    <tr>\n",
       "      <th>3</th>\n",
       "      <td>Animation</td>\n",
       "      <td>3.608479</td>\n",
       "    </tr>\n",
       "    <tr>\n",
       "      <th>14</th>\n",
       "      <td>Mystery</td>\n",
       "      <td>3.606354</td>\n",
       "    </tr>\n",
       "    <tr>\n",
       "      <th>13</th>\n",
       "      <td>Musical</td>\n",
       "      <td>3.565413</td>\n",
       "    </tr>\n",
       "    <tr>\n",
       "      <th>19</th>\n",
       "      <td>Western</td>\n",
       "      <td>3.536100</td>\n",
       "    </tr>\n",
       "    <tr>\n",
       "      <th>2</th>\n",
       "      <td>Adventure</td>\n",
       "      <td>3.490266</td>\n",
       "    </tr>\n",
       "    <tr>\n",
       "      <th>15</th>\n",
       "      <td>Romance</td>\n",
       "      <td>3.479719</td>\n",
       "    </tr>\n",
       "    <tr>\n",
       "      <th>17</th>\n",
       "      <td>Thriller</td>\n",
       "      <td>3.476381</td>\n",
       "    </tr>\n",
       "    <tr>\n",
       "      <th>9</th>\n",
       "      <td>Fantasy</td>\n",
       "      <td>3.467282</td>\n",
       "    </tr>\n",
       "    <tr>\n",
       "      <th>16</th>\n",
       "      <td>Sci-Fi</td>\n",
       "      <td>3.447831</td>\n",
       "    </tr>\n",
       "  </tbody>\n",
       "</table>\n",
       "</div>"
      ],
      "text/plain": [
       "          genre    rating\n",
       "10    Film-Noir  3.906100\n",
       "7   Documentary  3.809228\n",
       "18          War  3.794569\n",
       "6         Crime  3.649886\n",
       "8         Drama  3.638688\n",
       "12         IMAX  3.621585\n",
       "3     Animation  3.608479\n",
       "14      Mystery  3.606354\n",
       "13      Musical  3.565413\n",
       "19      Western  3.536100\n",
       "2     Adventure  3.490266\n",
       "15      Romance  3.479719\n",
       "17     Thriller  3.476381\n",
       "9       Fantasy  3.467282\n",
       "16       Sci-Fi  3.447831"
      ]
     },
     "execution_count": 51,
     "metadata": {},
     "output_type": "execute_result"
    }
   ],
   "source": [
    "# Top 15 rated genres\n",
    "genre_rating.head(15)"
   ]
  },
  {
   "cell_type": "code",
   "execution_count": 52,
   "id": "F3xx88Am3P-Y",
   "metadata": {
    "colab": {
     "base_uri": "https://localhost:8080/",
     "height": 580
    },
    "id": "F3xx88Am3P-Y",
    "outputId": "72a986a1-5298-46ac-8476-4a3fca259d90"
   },
   "outputs": [
    {
     "data": {
      "image/png": "[encoded data removed]",
      "text/plain": [
       "<Figure size 640x480 with 1 Axes>"
      ]
     },
     "metadata": {},
     "output_type": "display_data"
    }
   ],
   "source": [
    "sns.barplot(x=genre_rating[\"genre\"],y=genre_rating[\"rating\"])\n",
    "plt.title('Average rating for each genre')\n",
    "plt.xlabel('Genres')\n",
    "plt.xticks(rotation=90)\n",
    "plt.ylabel('Ratings')\n",
    "plt.show()"
   ]
  },
  {
   "cell_type": "code",
   "execution_count": 53,
   "id": "4YRDvM1So7O8",
   "metadata": {
    "colab": {
     "base_uri": "https://localhost:8080/",
     "height": 719
    },
    "id": "4YRDvM1So7O8",
    "outputId": "02d14f59-1c8d-4b5e-ad4d-60a83d1db85b"
   },
   "outputs": [
    {
     "data": {
      "text/plain": [
       "<matplotlib.lines.Line2D at 0x28362379790>"
      ]
     },
     "execution_count": 53,
     "metadata": {},
     "output_type": "execute_result"
    },
    {
     "data": {
      "image/png": "[encoded data removed]",
      "text/plain": [
       "<Figure size 1500x800 with 1 Axes>"
      ]
     },
     "metadata": {},
     "output_type": "display_data"
    }
   ],
   "source": [
    "plt.figure(figsize=(15,8))\n",
    "sns.ecdfplot(x=df['rating'])\n",
    "plt.axhline(0.5,c=\"black\")"
   ]
  },
  {
   "cell_type": "code",
   "execution_count": 54,
   "id": "IZi_MmnNpJIO",
   "metadata": {
    "colab": {
     "base_uri": "https://localhost:8080/",
     "height": 472
    },
    "id": "IZi_MmnNpJIO",
    "outputId": "e02e4a70-bb5c-47a3-ef6c-c8c7f5affa46"
   },
   "outputs": [
    {
     "data": {
      "image/png": "[encoded data removed]",
      "text/plain": [
       "<Figure size 640x480 with 1 Axes>"
      ]
     },
     "metadata": {},
     "output_type": "display_data"
    }
   ],
   "source": [
    "sns.countplot(x=df['rating'])\n",
    "plt.title('Count plot of various movie ratings')\n",
    "plt.xlabel('Ratings')\n",
    "plt.ylabel('Number of movies')\n",
    "plt.show()"
   ]
  },
  {
   "cell_type": "code",
   "execution_count": 55,
   "id": "0e-DdfqozNBb",
   "metadata": {
    "colab": {
     "base_uri": "https://localhost:8080/",
     "height": 490
    },
    "id": "0e-DdfqozNBb",
    "outputId": "9071553e-a823-4ec9-a1ad-917e62b75df3"
   },
   "outputs": [
    {
     "data": {
      "text/plain": [
       "<AxesSubplot:>"
      ]
     },
     "execution_count": 55,
     "metadata": {},
     "output_type": "execute_result"
    },
    {
     "data": {
      "image/png": "[encoded data removed]",
      "text/plain": [
       "<Figure size 640x480 with 2 Axes>"
      ]
     },
     "metadata": {},
     "output_type": "display_data"
    }
   ],
   "source": [
    "sns.heatmap(df.corr())"
   ]
  },
  {
   "cell_type": "code",
   "execution_count": 56,
   "id": "gFiFOHct_Xub",
   "metadata": {
    "colab": {
     "base_uri": "https://localhost:8080/",
     "height": 595
    },
    "id": "gFiFOHct_Xub",
    "outputId": "e0da4d87-4cec-4fe8-e73c-63577115cf39"
   },
   "outputs": [
    {
     "data": {
      "image/png": "[encoded data removed]",
      "text/plain": [
       "<Figure size 1200x500 with 1 Axes>"
      ]
     },
     "metadata": {},
     "output_type": "display_data"
    }
   ],
   "source": [
    "plt.figure(figsize=(12,5))\n",
    "sns.violinplot(x='genre', y='rating', data=df)\n",
    "plt.title('Violin plot of movie ratings by genre')\n",
    "plt.xlabel('Genre')\n",
    "plt.ylabel('Rating')\n",
    "plt.xticks(rotation=90)\n",
    "plt.show()"
   ]
  },
  {
   "cell_type": "code",
   "execution_count": 57,
   "id": "4cO-n77kzpCB",
   "metadata": {
    "colab": {
     "base_uri": "https://localhost:8080/",
     "height": 580
    },
    "id": "4cO-n77kzpCB",
    "outputId": "c70621e5-4808-4a42-ec88-9342381d248b"
   },
   "outputs": [
    {
     "data": {
      "image/png": "[encoded data removed]",
      "text/plain": [
       "<Figure size 640x480 with 1 Axes>"
      ]
     },
     "metadata": {},
     "output_type": "display_data"
    }
   ],
   "source": [
    "sns.countplot(data=df,x='genre')\n",
    "plt.title('Count plot of movie genres')\n",
    "plt.xlabel('Genre')\n",
    "plt.ylabel('Number of movies')\n",
    "plt.xticks(rotation=90)\n",
    "plt.show()"
   ]
  },
  {
   "cell_type": "code",
   "execution_count": 58,
   "id": "-uICizPA6Vbg",
   "metadata": {
    "colab": {
     "base_uri": "https://localhost:8080/",
     "height": 506
    },
    "id": "-uICizPA6Vbg",
    "outputId": "cb184fa1-2c39-4b9b-8d1b-730f8a67bc2c"
   },
   "outputs": [
    {
     "data": {
      "image/png": "[encoded data removed]",
      "text/plain": [
       "<Figure size 500x500 with 1 Axes>"
      ]
     },
     "metadata": {},
     "output_type": "display_data"
    }
   ],
   "source": [
    "sns.displot(x=df[\"rating\"],kde=True)\n",
    "plt.show()"
   ]
  },
  {
   "cell_type": "code",
   "execution_count": 59,
   "id": "r9vmmTNV8ieS",
   "metadata": {
    "colab": {
     "base_uri": "https://localhost:8080/"
    },
    "id": "r9vmmTNV8ieS",
    "outputId": "2b1f819f-7fc8-49f2-f6b1-7c437c6354e6"
   },
   "outputs": [
    {
     "data": {
      "text/plain": [
       "1995         14881\n",
       "1994         13469\n",
       "1999         11528\n",
       "1996         11449\n",
       "2001          9521\n",
       "             ...  \n",
       "1919             2\n",
       "1915             2\n",
       "1917             1\n",
       "1920             1\n",
       "2006–2007        1\n",
       "Name: year_of_release, Length: 113, dtype: int64"
      ]
     },
     "execution_count": 59,
     "metadata": {},
     "output_type": "execute_result"
    }
   ],
   "source": [
    "df[\"year_of_release\"].value_counts()\n"
   ]
  },
  {
   "cell_type": "code",
   "execution_count": 60,
   "id": "16d94bUH8EK8",
   "metadata": {
    "colab": {
     "base_uri": "https://localhost:8080/",
     "height": 777
    },
    "id": "16d94bUH8EK8",
    "outputId": "a9f08ce9-e43a-486b-812a-d1b9de92ac83"
   },
   "outputs": [
    {
     "data": {
      "text/plain": [
       "<matplotlib.lines.Line2D at 0x28362e5b5e0>"
      ]
     },
     "execution_count": 60,
     "metadata": {},
     "output_type": "execute_result"
    },
    {
     "data": {
      "image/png": "[encoded data removed]",
      "text/plain": [
       "<Figure size 2000x800 with 1 Axes>"
      ]
     },
     "metadata": {},
     "output_type": "display_data"
    }
   ],
   "source": [
    "plt.figure(figsize=(20,8))\n",
    "sns.histplot(x=df[\"year_of_release\"])\n",
    "plt.xticks(rotation=90)\n",
    "plt.axhline(0.5,c=\"black\")"
   ]
  },
  {
   "cell_type": "code",
   "execution_count": 61,
   "id": "pFVrE6be_UgO",
   "metadata": {
    "colab": {
     "base_uri": "https://localhost:8080/",
     "height": 595
    },
    "id": "pFVrE6be_UgO",
    "outputId": "97200769-7d0e-4603-bcef-10d8ea0a2044"
   },
   "outputs": [
    {
     "data": {
      "image/png": "[encoded data removed]",
      "text/plain": [
       "<Figure size 1200x500 with 1 Axes>"
      ]
     },
     "metadata": {},
     "output_type": "display_data"
    }
   ],
   "source": [
    "plt.figure(figsize=(12,5))\n",
    "sns.boxplot(x='genre', y='rating', data=df)\n",
    "plt.title('Box plot of movie ratings by genre')\n",
    "plt.xlabel('Genre')\n",
    "plt.ylabel('Rating')\n",
    "plt.xticks(rotation=90)\n",
    "plt.show()"
   ]
  },
  {
   "cell_type": "code",
   "execution_count": 62,
   "id": "u6TiIQG_AzmI",
   "metadata": {
    "id": "u6TiIQG_AzmI"
   },
   "outputs": [],
   "source": [
    "more_users=df.groupby('title',as_index=False).size().sort_values('size',ascending=False)"
   ]
  },
  {
   "cell_type": "code",
   "execution_count": 63,
   "id": "cTFpODoXBF7G",
   "metadata": {
    "colab": {
     "base_uri": "https://localhost:8080/",
     "height": 206
    },
    "id": "cTFpODoXBF7G",
    "outputId": "abcb3450-7f58-4f2c-d5c5-a94c5fb8408b"
   },
   "outputs": [
    {
     "data": {
      "text/html": [
       "<div>\n",
       "<style scoped>\n",
       "    .dataframe tbody tr th:only-of-type {\n",
       "        vertical-align: middle;\n",
       "    }\n",
       "\n",
       "    .dataframe tbody tr th {\n",
       "        vertical-align: top;\n",
       "    }\n",
       "\n",
       "    .dataframe thead th {\n",
       "        text-align: right;\n",
       "    }\n",
       "</style>\n",
       "<table border=\"1\" class=\"dataframe\">\n",
       "  <thead>\n",
       "    <tr style=\"text-align: right;\">\n",
       "      <th></th>\n",
       "      <th>title</th>\n",
       "      <th>size</th>\n",
       "    </tr>\n",
       "  </thead>\n",
       "  <tbody>\n",
       "    <tr>\n",
       "      <th>2686</th>\n",
       "      <td>Forrest Gump</td>\n",
       "      <td>1316</td>\n",
       "    </tr>\n",
       "    <tr>\n",
       "      <th>5878</th>\n",
       "      <td>Pulp Fiction</td>\n",
       "      <td>1228</td>\n",
       "    </tr>\n",
       "    <tr>\n",
       "      <th>7639</th>\n",
       "      <td>Toy Story</td>\n",
       "      <td>1075</td>\n",
       "    </tr>\n",
       "    <tr>\n",
       "      <th>4355</th>\n",
       "      <td>Lion King, The</td>\n",
       "      <td>1032</td>\n",
       "    </tr>\n",
       "    <tr>\n",
       "      <th>6559</th>\n",
       "      <td>Shrek</td>\n",
       "      <td>1020</td>\n",
       "    </tr>\n",
       "  </tbody>\n",
       "</table>\n",
       "</div>"
      ],
      "text/plain": [
       "               title  size\n",
       "2686    Forrest Gump  1316\n",
       "5878    Pulp Fiction  1228\n",
       "7639       Toy Story  1075\n",
       "4355  Lion King, The  1032\n",
       "6559           Shrek  1020"
      ]
     },
     "execution_count": 63,
     "metadata": {},
     "output_type": "execute_result"
    }
   ],
   "source": [
    "more_users.head()"
   ]
  },
  {
   "cell_type": "code",
   "execution_count": 64,
   "id": "Z2IRZMJdBfUH",
   "metadata": {
    "colab": {
     "base_uri": "https://localhost:8080/",
     "height": 1000
    },
    "id": "Z2IRZMJdBfUH",
    "outputId": "63aec247-d9e5-4ced-adf5-a3584fd50ebc"
   },
   "outputs": [
    {
     "data": {
      "image/png": "[encoded data removed]",
      "text/plain": [
       "<Figure size 1500x800 with 1 Axes>"
      ]
     },
     "metadata": {},
     "output_type": "display_data"
    }
   ],
   "source": [
    "plt.figure(figsize=(15,8))\n",
    "sns.barplot(data=more_users.head(50),x=\"title\",y='size')\n",
    "\n",
    "plt.title('Top 50 popular movies')\n",
    "plt.xlabel('Movie Name')\n",
    "plt.ylabel('Number of users')\n",
    "plt.xticks(rotation=90)\n",
    "plt.show()"
   ]
  },
  {
   "cell_type": "code",
   "execution_count": 65,
   "id": "U6OtQma9FgNi",
   "metadata": {
    "colab": {
     "base_uri": "https://localhost:8080/",
     "height": 428
    },
    "id": "U6OtQma9FgNi",
    "outputId": "c113ea92-a91f-41f5-f6ab-c0406a9733ff"
   },
   "outputs": [
    {
     "data": {
      "image/png": "[encoded data removed]",
      "text/plain": [
       "<Figure size 640x480 with 1 Axes>"
      ]
     },
     "metadata": {},
     "output_type": "display_data"
    }
   ],
   "source": [
    "rating_values=df['rating'].value_counts()\n",
    "plt.title(\"Pie chart of rating distribution\")\n",
    "plt.pie(rating_values,labels=rating_values.index,autopct='%1.1f%%',textprops={'fontsize': 6})\n",
    "plt.show()"
   ]
  },
  {
   "cell_type": "code",
   "execution_count": 66,
   "id": "k5RK6CtpFwmJ",
   "metadata": {
    "colab": {
     "base_uri": "https://localhost:8080/",
     "height": 521
    },
    "id": "k5RK6CtpFwmJ",
    "outputId": "7ab7f737-2b21-4f1e-8163-ebefb4d631bc"
   },
   "outputs": [
    {
     "data": {
      "image/png": "[encoded data removed]",
      "text/plain": [
       "<Figure size 600x600 with 1 Axes>"
      ]
     },
     "metadata": {},
     "output_type": "display_data"
    }
   ],
   "source": [
    "\n",
    "genre_values=df['genre'].value_counts()\n",
    "\n",
    "plt.figure(figsize=(6,6))\n",
    "plt.title(\"Pie chart of genre distribution\")\n",
    "plt.pie(genre_values)\n",
    "plt.legend(labels=genre_values.index,bbox_to_anchor=(1, 0, 0.5, 1))\n",
    "plt.show()"
   ]
  },
  {
   "cell_type": "code",
   "execution_count": 67,
   "id": "hGZ4Hp4aRHbW",
   "metadata": {
    "id": "hGZ4Hp4aRHbW"
   },
   "outputs": [],
   "source": [
    "def convert_to_int(year_str):\n",
    "        return int(year_str[0:4])"
   ]
  },
  {
   "cell_type": "code",
   "execution_count": 68,
   "id": "Z92bup2VSGrT",
   "metadata": {
    "id": "Z92bup2VSGrT"
   },
   "outputs": [],
   "source": [
    "df['year_of_release'] = df['year_of_release'].apply(convert_to_int)"
   ]
  },
  {
   "cell_type": "code",
   "execution_count": 69,
   "id": "6RiC-SNbRs1g",
   "metadata": {
    "id": "6RiC-SNbRs1g"
   },
   "outputs": [],
   "source": [
    "def decade(df):\n",
    "    min_year = int(df['year_of_release'].min()) % 10\n",
    "    max_year = int(df['year_of_release'].max()) % 10\n",
    "    \n",
    "    min_year = int(df['year_of_release'].min()) - min_year\n",
    "    max_year = int(df['year_of_release'].max()) + (10 - max_year)\n",
    "    df['year_of_release'].astype(int)\n",
    "    for year in range(min_year, max_year+1 , 10):\n",
    "        df.loc[(df['year_of_release'] >= year) & (df['year_of_release'] <= (year+10)), 'decade_of_release'] = int(year)\n",
    "    \n",
    "    return df"
   ]
  },
  {
   "cell_type": "code",
   "execution_count": 70,
   "id": "jUySaNyTSKO-",
   "metadata": {
    "id": "jUySaNyTSKO-"
   },
   "outputs": [],
   "source": [
    "df1 = decade(df)\n",
    "\n",
    "df1['decade_of_release'] = df1['decade_of_release'].astype(int)"
   ]
  },
  {
   "cell_type": "code",
   "execution_count": 71,
   "id": "mwpeNGjrRxBB",
   "metadata": {
    "colab": {
     "base_uri": "https://localhost:8080/",
     "height": 472
    },
    "id": "mwpeNGjrRxBB",
    "outputId": "f7bdcb5b-6278-4276-ad89-a064e8d62cda"
   },
   "outputs": [
    {
     "data": {
      "image/png": "[encoded data removed]",
      "text/plain": [
       "<Figure size 640x480 with 1 Axes>"
      ]
     },
     "metadata": {},
     "output_type": "display_data"
    }
   ],
   "source": [
    "sns.boxplot(x='decade_of_release', y='rating', data=df)\n",
    "plt.title('Box plot of movie ratings by release of decade')\n",
    "plt.xlabel('Release Decade')\n",
    "plt.ylabel('Rating')\n",
    "plt.show()"
   ]
  },
  {
   "cell_type": "code",
   "execution_count": null,
   "id": "0Ix46LOBIgoZ",
   "metadata": {
    "id": "0Ix46LOBIgoZ"
   },
   "outputs": [],
   "source": []
  },
  {
   "cell_type": "markdown",
   "id": "ifbEcBKjIlQR",
   "metadata": {
    "id": "ifbEcBKjIlQR"
   },
   "source": [
    "Reccommend Similar Movies"
   ]
  },
  {
   "cell_type": "code",
   "execution_count": 72,
   "id": "HaS6mNqdIgwC",
   "metadata": {
    "colab": {
     "base_uri": "https://localhost:8080/",
     "height": 206
    },
    "id": "HaS6mNqdIgwC",
    "outputId": "30bf3549-27d1-4da5-f844-1dee17796673"
   },
   "outputs": [
    {
     "data": {
      "text/html": [
       "<div>\n",
       "<style scoped>\n",
       "    .dataframe tbody tr th:only-of-type {\n",
       "        vertical-align: middle;\n",
       "    }\n",
       "\n",
       "    .dataframe tbody tr th {\n",
       "        vertical-align: top;\n",
       "    }\n",
       "\n",
       "    .dataframe thead th {\n",
       "        text-align: right;\n",
       "    }\n",
       "</style>\n",
       "<table border=\"1\" class=\"dataframe\">\n",
       "  <thead>\n",
       "    <tr style=\"text-align: right;\">\n",
       "      <th></th>\n",
       "      <th>userId</th>\n",
       "      <th>movieId</th>\n",
       "      <th>rating</th>\n",
       "      <th>timestamp</th>\n",
       "      <th>date</th>\n",
       "    </tr>\n",
       "  </thead>\n",
       "  <tbody>\n",
       "    <tr>\n",
       "      <th>0</th>\n",
       "      <td>1</td>\n",
       "      <td>1</td>\n",
       "      <td>4.0</td>\n",
       "      <td>964982703</td>\n",
       "      <td>30-07-2000</td>\n",
       "    </tr>\n",
       "    <tr>\n",
       "      <th>1</th>\n",
       "      <td>1</td>\n",
       "      <td>3</td>\n",
       "      <td>4.0</td>\n",
       "      <td>964981247</td>\n",
       "      <td>30-07-2000</td>\n",
       "    </tr>\n",
       "    <tr>\n",
       "      <th>2</th>\n",
       "      <td>1</td>\n",
       "      <td>6</td>\n",
       "      <td>4.0</td>\n",
       "      <td>964982224</td>\n",
       "      <td>30-07-2000</td>\n",
       "    </tr>\n",
       "    <tr>\n",
       "      <th>3</th>\n",
       "      <td>1</td>\n",
       "      <td>47</td>\n",
       "      <td>5.0</td>\n",
       "      <td>964983815</td>\n",
       "      <td>30-07-2000</td>\n",
       "    </tr>\n",
       "    <tr>\n",
       "      <th>4</th>\n",
       "      <td>1</td>\n",
       "      <td>50</td>\n",
       "      <td>5.0</td>\n",
       "      <td>964982931</td>\n",
       "      <td>30-07-2000</td>\n",
       "    </tr>\n",
       "  </tbody>\n",
       "</table>\n",
       "</div>"
      ],
      "text/plain": [
       "   userId  movieId  rating  timestamp        date\n",
       "0       1        1     4.0  964982703  30-07-2000\n",
       "1       1        3     4.0  964981247  30-07-2000\n",
       "2       1        6     4.0  964982224  30-07-2000\n",
       "3       1       47     5.0  964983815  30-07-2000\n",
       "4       1       50     5.0  964982931  30-07-2000"
      ]
     },
     "execution_count": 72,
     "metadata": {},
     "output_type": "execute_result"
    }
   ],
   "source": [
    "ratings_df.head()"
   ]
  },
  {
   "cell_type": "code",
   "execution_count": null,
   "id": "9QjZtnqwgkos",
   "metadata": {
    "id": "9QjZtnqwgkos"
   },
   "outputs": [],
   "source": []
  },
  {
   "cell_type": "code",
   "execution_count": null,
   "id": "ON08imz5EUjQ",
   "metadata": {
    "id": "ON08imz5EUjQ"
   },
   "outputs": [],
   "source": []
  },
  {
   "cell_type": "code",
   "execution_count": 73,
   "id": "J-kbIJpCIg07",
   "metadata": {
    "id": "J-kbIJpCIg07"
   },
   "outputs": [],
   "source": [
    "new_df=ratings_df.drop([\"timestamp\"],axis=1)"
   ]
  },
  {
   "cell_type": "code",
   "execution_count": 74,
   "id": "yCX4ggdvJr82",
   "metadata": {
    "id": "yCX4ggdvJr82"
   },
   "outputs": [],
   "source": [
    "new_movies=pd.read_csv('project_data/movies.csv')"
   ]
  },
  {
   "cell_type": "code",
   "execution_count": 75,
   "id": "cea6d807-9708-403e-b74d-2d88286638fe",
   "metadata": {},
   "outputs": [
    {
     "data": {
      "text/plain": [
       "(9742, 3)"
      ]
     },
     "execution_count": 75,
     "metadata": {},
     "output_type": "execute_result"
    }
   ],
   "source": [
    "new_movies.shape"
   ]
  },
  {
   "cell_type": "code",
   "execution_count": 76,
   "id": "ebe4b9a9-f40d-43d8-b25a-2b42f470979a",
   "metadata": {},
   "outputs": [
    {
     "data": {
      "text/plain": [
       "9737"
      ]
     },
     "execution_count": 76,
     "metadata": {},
     "output_type": "execute_result"
    }
   ],
   "source": [
    "len(new_movies[\"title\"].unique())"
   ]
  },
  {
   "cell_type": "code",
   "execution_count": 77,
   "id": "6c5203ad-16c5-4b55-a45a-ce71d572f577",
   "metadata": {},
   "outputs": [],
   "source": [
    "new_movies['year_of_release'] = new_movies['title'].str.extract(r'\\((\\d{4})\\)$')"
   ]
  },
  {
   "cell_type": "code",
   "execution_count": 78,
   "id": "b3e74141-412b-48a8-a56c-0157b495edc0",
   "metadata": {},
   "outputs": [
    {
     "name": "stderr",
     "output_type": "stream",
     "text": [
      "C:\\Users\\lavakumarkoyi\\AppData\\Local\\Temp\\ipykernel_4768\\2132368049.py:1: FutureWarning: The default value of regex will change from True to False in a future version.\n",
      "  new_movies['title'] = new_movies['title'].str.replace(r'\\s*\\(\\d{4}\\)', '')\n"
     ]
    }
   ],
   "source": [
    "new_movies['title'] = new_movies['title'].str.replace(r'\\s*\\(\\d{4}\\)', '')"
   ]
  },
  {
   "cell_type": "code",
   "execution_count": 79,
   "id": "2b6b2b3b-e95a-49da-b3ff-56637d159168",
   "metadata": {},
   "outputs": [
    {
     "data": {
      "text/plain": [
       "(9742, 4)"
      ]
     },
     "execution_count": 79,
     "metadata": {},
     "output_type": "execute_result"
    }
   ],
   "source": [
    "new_movies.shape"
   ]
  },
  {
   "cell_type": "code",
   "execution_count": 80,
   "id": "E8OccrAgp2Rk",
   "metadata": {
    "colab": {
     "base_uri": "https://localhost:8080/",
     "height": 206
    },
    "id": "E8OccrAgp2Rk",
    "outputId": "4cbc24a1-2505-44ea-e02b-dc38568c7cc4"
   },
   "outputs": [
    {
     "data": {
      "text/plain": [
       "9461"
      ]
     },
     "execution_count": 80,
     "metadata": {},
     "output_type": "execute_result"
    }
   ],
   "source": [
    "len(new_movies[\"title\"].unique())"
   ]
  },
  {
   "cell_type": "code",
   "execution_count": 81,
   "id": "MY2msJvBIg5H",
   "metadata": {
    "id": "MY2msJvBIg5H"
   },
   "outputs": [],
   "source": [
    "new_df=new_df.merge(new_movies,on=\"movieId\")"
   ]
  },
  {
   "cell_type": "code",
   "execution_count": null,
   "id": "lAXE6ZPxhPZp",
   "metadata": {
    "id": "lAXE6ZPxhPZp"
   },
   "outputs": [],
   "source": []
  },
  {
   "cell_type": "code",
   "execution_count": 82,
   "id": "rL7pEykChDmK",
   "metadata": {
    "colab": {
     "base_uri": "https://localhost:8080/",
     "height": 237
    },
    "id": "rL7pEykChDmK",
    "outputId": "bfb9c1a3-482d-45c7-fa06-77321fba9604"
   },
   "outputs": [
    {
     "data": {
      "text/html": [
       "<div>\n",
       "<style scoped>\n",
       "    .dataframe tbody tr th:only-of-type {\n",
       "        vertical-align: middle;\n",
       "    }\n",
       "\n",
       "    .dataframe tbody tr th {\n",
       "        vertical-align: top;\n",
       "    }\n",
       "\n",
       "    .dataframe thead th {\n",
       "        text-align: right;\n",
       "    }\n",
       "</style>\n",
       "<table border=\"1\" class=\"dataframe\">\n",
       "  <thead>\n",
       "    <tr style=\"text-align: right;\">\n",
       "      <th></th>\n",
       "      <th>rating</th>\n",
       "      <th>count of ratings</th>\n",
       "    </tr>\n",
       "    <tr>\n",
       "      <th>title</th>\n",
       "      <th></th>\n",
       "      <th></th>\n",
       "    </tr>\n",
       "  </thead>\n",
       "  <tbody>\n",
       "    <tr>\n",
       "      <th>'71</th>\n",
       "      <td>4.0</td>\n",
       "      <td>1</td>\n",
       "    </tr>\n",
       "    <tr>\n",
       "      <th>'Hellboy': The Seeds of Creation</th>\n",
       "      <td>4.0</td>\n",
       "      <td>1</td>\n",
       "    </tr>\n",
       "    <tr>\n",
       "      <th>'Round Midnight</th>\n",
       "      <td>3.5</td>\n",
       "      <td>2</td>\n",
       "    </tr>\n",
       "    <tr>\n",
       "      <th>'Salem's Lot</th>\n",
       "      <td>5.0</td>\n",
       "      <td>1</td>\n",
       "    </tr>\n",
       "    <tr>\n",
       "      <th>'Til There Was You</th>\n",
       "      <td>4.0</td>\n",
       "      <td>2</td>\n",
       "    </tr>\n",
       "  </tbody>\n",
       "</table>\n",
       "</div>"
      ],
      "text/plain": [
       "                                  rating  count of ratings\n",
       "title                                                     \n",
       "'71                                  4.0                 1\n",
       "'Hellboy': The Seeds of Creation     4.0                 1\n",
       "'Round Midnight                      3.5                 2\n",
       "'Salem's Lot                         5.0                 1\n",
       "'Til There Was You                   4.0                 2"
      ]
     },
     "execution_count": 82,
     "metadata": {},
     "output_type": "execute_result"
    }
   ],
   "source": [
    "new_ratings=pd.DataFrame(new_df.groupby('title')['rating'].mean())\n",
    "new_ratings[\"count of ratings\"]=pd.DataFrame(new_df.groupby(\"title\")[\"userId\"].count())\n",
    "new_ratings.head()"
   ]
  },
  {
   "cell_type": "code",
   "execution_count": 83,
   "id": "4e954a17-bb1a-436f-a154-c9e61d707df2",
   "metadata": {},
   "outputs": [],
   "source": [
    "new_ratings = new_ratings.reset_index(drop=False).rename(columns={'index': 'title'})"
   ]
  },
  {
   "cell_type": "code",
   "execution_count": 84,
   "id": "6959211b-8925-4268-a59c-ead3496dde88",
   "metadata": {},
   "outputs": [],
   "source": [
    "new_ratings.to_csv(\"corr_ratings.csv\",index=False)"
   ]
  },
  {
   "cell_type": "code",
   "execution_count": 85,
   "id": "2a089f01-f4aa-41c5-a3f7-4b708a042ed2",
   "metadata": {},
   "outputs": [],
   "source": [
    "new_movies.to_csv(\"corr_movies.csv\",index=False)"
   ]
  },
  {
   "cell_type": "code",
   "execution_count": 86,
   "id": "KR7axEhDIg8g",
   "metadata": {
    "colab": {
     "base_uri": "https://localhost:8080/",
     "height": 206
    },
    "id": "KR7axEhDIg8g",
    "outputId": "e3792374-6d64-45d9-e829-065a627e41cd"
   },
   "outputs": [
    {
     "data": {
      "text/html": [
       "<div>\n",
       "<style scoped>\n",
       "    .dataframe tbody tr th:only-of-type {\n",
       "        vertical-align: middle;\n",
       "    }\n",
       "\n",
       "    .dataframe tbody tr th {\n",
       "        vertical-align: top;\n",
       "    }\n",
       "\n",
       "    .dataframe thead th {\n",
       "        text-align: right;\n",
       "    }\n",
       "</style>\n",
       "<table border=\"1\" class=\"dataframe\">\n",
       "  <thead>\n",
       "    <tr style=\"text-align: right;\">\n",
       "      <th></th>\n",
       "      <th>userId</th>\n",
       "      <th>movieId</th>\n",
       "      <th>rating</th>\n",
       "      <th>date</th>\n",
       "      <th>title</th>\n",
       "      <th>genres</th>\n",
       "      <th>year_of_release</th>\n",
       "    </tr>\n",
       "  </thead>\n",
       "  <tbody>\n",
       "    <tr>\n",
       "      <th>0</th>\n",
       "      <td>1</td>\n",
       "      <td>1</td>\n",
       "      <td>4.0</td>\n",
       "      <td>30-07-2000</td>\n",
       "      <td>Toy Story</td>\n",
       "      <td>Adventure|Animation|Children|Comedy|Fantasy</td>\n",
       "      <td>1995</td>\n",
       "    </tr>\n",
       "    <tr>\n",
       "      <th>1</th>\n",
       "      <td>5</td>\n",
       "      <td>1</td>\n",
       "      <td>4.0</td>\n",
       "      <td>08-11-1996</td>\n",
       "      <td>Toy Story</td>\n",
       "      <td>Adventure|Animation|Children|Comedy|Fantasy</td>\n",
       "      <td>1995</td>\n",
       "    </tr>\n",
       "    <tr>\n",
       "      <th>2</th>\n",
       "      <td>7</td>\n",
       "      <td>1</td>\n",
       "      <td>4.5</td>\n",
       "      <td>25-01-2005</td>\n",
       "      <td>Toy Story</td>\n",
       "      <td>Adventure|Animation|Children|Comedy|Fantasy</td>\n",
       "      <td>1995</td>\n",
       "    </tr>\n",
       "    <tr>\n",
       "      <th>3</th>\n",
       "      <td>15</td>\n",
       "      <td>1</td>\n",
       "      <td>2.5</td>\n",
       "      <td>13-11-2017</td>\n",
       "      <td>Toy Story</td>\n",
       "      <td>Adventure|Animation|Children|Comedy|Fantasy</td>\n",
       "      <td>1995</td>\n",
       "    </tr>\n",
       "    <tr>\n",
       "      <th>4</th>\n",
       "      <td>17</td>\n",
       "      <td>1</td>\n",
       "      <td>4.5</td>\n",
       "      <td>18-05-2011</td>\n",
       "      <td>Toy Story</td>\n",
       "      <td>Adventure|Animation|Children|Comedy|Fantasy</td>\n",
       "      <td>1995</td>\n",
       "    </tr>\n",
       "  </tbody>\n",
       "</table>\n",
       "</div>"
      ],
      "text/plain": [
       "   userId  movieId  rating        date      title  \\\n",
       "0       1        1     4.0  30-07-2000  Toy Story   \n",
       "1       5        1     4.0  08-11-1996  Toy Story   \n",
       "2       7        1     4.5  25-01-2005  Toy Story   \n",
       "3      15        1     2.5  13-11-2017  Toy Story   \n",
       "4      17        1     4.5  18-05-2011  Toy Story   \n",
       "\n",
       "                                        genres year_of_release  \n",
       "0  Adventure|Animation|Children|Comedy|Fantasy            1995  \n",
       "1  Adventure|Animation|Children|Comedy|Fantasy            1995  \n",
       "2  Adventure|Animation|Children|Comedy|Fantasy            1995  \n",
       "3  Adventure|Animation|Children|Comedy|Fantasy            1995  \n",
       "4  Adventure|Animation|Children|Comedy|Fantasy            1995  "
      ]
     },
     "execution_count": 86,
     "metadata": {},
     "output_type": "execute_result"
    }
   ],
   "source": [
    "new_df.head()"
   ]
  },
  {
   "cell_type": "code",
   "execution_count": 87,
   "id": "92d1e405-0e1a-4db4-9194-7838864b0d2e",
   "metadata": {},
   "outputs": [],
   "source": [
    "new_df.to_csv(\"corr_helper_data.csv\",index=False)"
   ]
  },
  {
   "cell_type": "code",
   "execution_count": 88,
   "id": "2h438C7RIhAC",
   "metadata": {
    "colab": {
     "base_uri": "https://localhost:8080/",
     "height": 533
    },
    "id": "2h438C7RIhAC",
    "outputId": "828b3851-b709-45f9-8309-a9839d0893b6"
   },
   "outputs": [
    {
     "data": {
      "text/html": [
       "<div>\n",
       "<style scoped>\n",
       "    .dataframe tbody tr th:only-of-type {\n",
       "        vertical-align: middle;\n",
       "    }\n",
       "\n",
       "    .dataframe tbody tr th {\n",
       "        vertical-align: top;\n",
       "    }\n",
       "\n",
       "    .dataframe thead th {\n",
       "        text-align: right;\n",
       "    }\n",
       "</style>\n",
       "<table border=\"1\" class=\"dataframe\">\n",
       "  <thead>\n",
       "    <tr style=\"text-align: right;\">\n",
       "      <th>title</th>\n",
       "      <th>'71</th>\n",
       "      <th>'Hellboy': The Seeds of Creation</th>\n",
       "      <th>'Round Midnight</th>\n",
       "      <th>'Salem's Lot</th>\n",
       "      <th>'Til There Was You</th>\n",
       "      <th>'Tis the Season for Love</th>\n",
       "      <th>'burbs, The</th>\n",
       "      <th>'night Mother</th>\n",
       "      <th>(500) Days of Summer</th>\n",
       "      <th>*batteries not included</th>\n",
       "      <th>...</th>\n",
       "      <th>Zulu</th>\n",
       "      <th>[REC]</th>\n",
       "      <th>[REC]²</th>\n",
       "      <th>[REC]³ 3 Génesis</th>\n",
       "      <th>anohana: The Flower We Saw That Day - The Movie</th>\n",
       "      <th>eXistenZ</th>\n",
       "      <th>xXx</th>\n",
       "      <th>xXx: State of the Union</th>\n",
       "      <th>¡Three Amigos!</th>\n",
       "      <th>À nous la liberté (Freedom for Us)</th>\n",
       "    </tr>\n",
       "    <tr>\n",
       "      <th>userId</th>\n",
       "      <th></th>\n",
       "      <th></th>\n",
       "      <th></th>\n",
       "      <th></th>\n",
       "      <th></th>\n",
       "      <th></th>\n",
       "      <th></th>\n",
       "      <th></th>\n",
       "      <th></th>\n",
       "      <th></th>\n",
       "      <th></th>\n",
       "      <th></th>\n",
       "      <th></th>\n",
       "      <th></th>\n",
       "      <th></th>\n",
       "      <th></th>\n",
       "      <th></th>\n",
       "      <th></th>\n",
       "      <th></th>\n",
       "      <th></th>\n",
       "      <th></th>\n",
       "    </tr>\n",
       "  </thead>\n",
       "  <tbody>\n",
       "    <tr>\n",
       "      <th>1</th>\n",
       "      <td>NaN</td>\n",
       "      <td>NaN</td>\n",
       "      <td>NaN</td>\n",
       "      <td>NaN</td>\n",
       "      <td>NaN</td>\n",
       "      <td>NaN</td>\n",
       "      <td>NaN</td>\n",
       "      <td>NaN</td>\n",
       "      <td>NaN</td>\n",
       "      <td>NaN</td>\n",
       "      <td>...</td>\n",
       "      <td>NaN</td>\n",
       "      <td>NaN</td>\n",
       "      <td>NaN</td>\n",
       "      <td>NaN</td>\n",
       "      <td>NaN</td>\n",
       "      <td>NaN</td>\n",
       "      <td>NaN</td>\n",
       "      <td>NaN</td>\n",
       "      <td>4.0</td>\n",
       "      <td>NaN</td>\n",
       "    </tr>\n",
       "    <tr>\n",
       "      <th>2</th>\n",
       "      <td>NaN</td>\n",
       "      <td>NaN</td>\n",
       "      <td>NaN</td>\n",
       "      <td>NaN</td>\n",
       "      <td>NaN</td>\n",
       "      <td>NaN</td>\n",
       "      <td>NaN</td>\n",
       "      <td>NaN</td>\n",
       "      <td>NaN</td>\n",
       "      <td>NaN</td>\n",
       "      <td>...</td>\n",
       "      <td>NaN</td>\n",
       "      <td>NaN</td>\n",
       "      <td>NaN</td>\n",
       "      <td>NaN</td>\n",
       "      <td>NaN</td>\n",
       "      <td>NaN</td>\n",
       "      <td>NaN</td>\n",
       "      <td>NaN</td>\n",
       "      <td>NaN</td>\n",
       "      <td>NaN</td>\n",
       "    </tr>\n",
       "    <tr>\n",
       "      <th>3</th>\n",
       "      <td>NaN</td>\n",
       "      <td>NaN</td>\n",
       "      <td>NaN</td>\n",
       "      <td>NaN</td>\n",
       "      <td>NaN</td>\n",
       "      <td>NaN</td>\n",
       "      <td>NaN</td>\n",
       "      <td>NaN</td>\n",
       "      <td>NaN</td>\n",
       "      <td>NaN</td>\n",
       "      <td>...</td>\n",
       "      <td>NaN</td>\n",
       "      <td>NaN</td>\n",
       "      <td>NaN</td>\n",
       "      <td>NaN</td>\n",
       "      <td>NaN</td>\n",
       "      <td>NaN</td>\n",
       "      <td>NaN</td>\n",
       "      <td>NaN</td>\n",
       "      <td>NaN</td>\n",
       "      <td>NaN</td>\n",
       "    </tr>\n",
       "    <tr>\n",
       "      <th>4</th>\n",
       "      <td>NaN</td>\n",
       "      <td>NaN</td>\n",
       "      <td>NaN</td>\n",
       "      <td>NaN</td>\n",
       "      <td>NaN</td>\n",
       "      <td>NaN</td>\n",
       "      <td>NaN</td>\n",
       "      <td>NaN</td>\n",
       "      <td>NaN</td>\n",
       "      <td>NaN</td>\n",
       "      <td>...</td>\n",
       "      <td>NaN</td>\n",
       "      <td>NaN</td>\n",
       "      <td>NaN</td>\n",
       "      <td>NaN</td>\n",
       "      <td>NaN</td>\n",
       "      <td>NaN</td>\n",
       "      <td>NaN</td>\n",
       "      <td>NaN</td>\n",
       "      <td>NaN</td>\n",
       "      <td>NaN</td>\n",
       "    </tr>\n",
       "    <tr>\n",
       "      <th>5</th>\n",
       "      <td>NaN</td>\n",
       "      <td>NaN</td>\n",
       "      <td>NaN</td>\n",
       "      <td>NaN</td>\n",
       "      <td>NaN</td>\n",
       "      <td>NaN</td>\n",
       "      <td>NaN</td>\n",
       "      <td>NaN</td>\n",
       "      <td>NaN</td>\n",
       "      <td>NaN</td>\n",
       "      <td>...</td>\n",
       "      <td>NaN</td>\n",
       "      <td>NaN</td>\n",
       "      <td>NaN</td>\n",
       "      <td>NaN</td>\n",
       "      <td>NaN</td>\n",
       "      <td>NaN</td>\n",
       "      <td>NaN</td>\n",
       "      <td>NaN</td>\n",
       "      <td>NaN</td>\n",
       "      <td>NaN</td>\n",
       "    </tr>\n",
       "    <tr>\n",
       "      <th>...</th>\n",
       "      <td>...</td>\n",
       "      <td>...</td>\n",
       "      <td>...</td>\n",
       "      <td>...</td>\n",
       "      <td>...</td>\n",
       "      <td>...</td>\n",
       "      <td>...</td>\n",
       "      <td>...</td>\n",
       "      <td>...</td>\n",
       "      <td>...</td>\n",
       "      <td>...</td>\n",
       "      <td>...</td>\n",
       "      <td>...</td>\n",
       "      <td>...</td>\n",
       "      <td>...</td>\n",
       "      <td>...</td>\n",
       "      <td>...</td>\n",
       "      <td>...</td>\n",
       "      <td>...</td>\n",
       "      <td>...</td>\n",
       "      <td>...</td>\n",
       "    </tr>\n",
       "    <tr>\n",
       "      <th>606</th>\n",
       "      <td>NaN</td>\n",
       "      <td>NaN</td>\n",
       "      <td>NaN</td>\n",
       "      <td>NaN</td>\n",
       "      <td>NaN</td>\n",
       "      <td>NaN</td>\n",
       "      <td>NaN</td>\n",
       "      <td>NaN</td>\n",
       "      <td>NaN</td>\n",
       "      <td>NaN</td>\n",
       "      <td>...</td>\n",
       "      <td>NaN</td>\n",
       "      <td>NaN</td>\n",
       "      <td>NaN</td>\n",
       "      <td>NaN</td>\n",
       "      <td>NaN</td>\n",
       "      <td>NaN</td>\n",
       "      <td>NaN</td>\n",
       "      <td>NaN</td>\n",
       "      <td>NaN</td>\n",
       "      <td>NaN</td>\n",
       "    </tr>\n",
       "    <tr>\n",
       "      <th>607</th>\n",
       "      <td>NaN</td>\n",
       "      <td>NaN</td>\n",
       "      <td>NaN</td>\n",
       "      <td>NaN</td>\n",
       "      <td>NaN</td>\n",
       "      <td>NaN</td>\n",
       "      <td>NaN</td>\n",
       "      <td>NaN</td>\n",
       "      <td>NaN</td>\n",
       "      <td>NaN</td>\n",
       "      <td>...</td>\n",
       "      <td>NaN</td>\n",
       "      <td>NaN</td>\n",
       "      <td>NaN</td>\n",
       "      <td>NaN</td>\n",
       "      <td>NaN</td>\n",
       "      <td>NaN</td>\n",
       "      <td>NaN</td>\n",
       "      <td>NaN</td>\n",
       "      <td>NaN</td>\n",
       "      <td>NaN</td>\n",
       "    </tr>\n",
       "    <tr>\n",
       "      <th>608</th>\n",
       "      <td>NaN</td>\n",
       "      <td>NaN</td>\n",
       "      <td>NaN</td>\n",
       "      <td>NaN</td>\n",
       "      <td>NaN</td>\n",
       "      <td>NaN</td>\n",
       "      <td>NaN</td>\n",
       "      <td>NaN</td>\n",
       "      <td>NaN</td>\n",
       "      <td>NaN</td>\n",
       "      <td>...</td>\n",
       "      <td>NaN</td>\n",
       "      <td>NaN</td>\n",
       "      <td>NaN</td>\n",
       "      <td>NaN</td>\n",
       "      <td>NaN</td>\n",
       "      <td>4.5</td>\n",
       "      <td>3.5</td>\n",
       "      <td>NaN</td>\n",
       "      <td>NaN</td>\n",
       "      <td>NaN</td>\n",
       "    </tr>\n",
       "    <tr>\n",
       "      <th>609</th>\n",
       "      <td>NaN</td>\n",
       "      <td>NaN</td>\n",
       "      <td>NaN</td>\n",
       "      <td>NaN</td>\n",
       "      <td>NaN</td>\n",
       "      <td>NaN</td>\n",
       "      <td>NaN</td>\n",
       "      <td>NaN</td>\n",
       "      <td>NaN</td>\n",
       "      <td>NaN</td>\n",
       "      <td>...</td>\n",
       "      <td>NaN</td>\n",
       "      <td>NaN</td>\n",
       "      <td>NaN</td>\n",
       "      <td>NaN</td>\n",
       "      <td>NaN</td>\n",
       "      <td>NaN</td>\n",
       "      <td>NaN</td>\n",
       "      <td>NaN</td>\n",
       "      <td>NaN</td>\n",
       "      <td>NaN</td>\n",
       "    </tr>\n",
       "    <tr>\n",
       "      <th>610</th>\n",
       "      <td>4.0</td>\n",
       "      <td>NaN</td>\n",
       "      <td>NaN</td>\n",
       "      <td>NaN</td>\n",
       "      <td>NaN</td>\n",
       "      <td>NaN</td>\n",
       "      <td>NaN</td>\n",
       "      <td>NaN</td>\n",
       "      <td>3.5</td>\n",
       "      <td>NaN</td>\n",
       "      <td>...</td>\n",
       "      <td>NaN</td>\n",
       "      <td>4.0</td>\n",
       "      <td>3.5</td>\n",
       "      <td>3.0</td>\n",
       "      <td>NaN</td>\n",
       "      <td>NaN</td>\n",
       "      <td>2.0</td>\n",
       "      <td>1.5</td>\n",
       "      <td>NaN</td>\n",
       "      <td>NaN</td>\n",
       "    </tr>\n",
       "  </tbody>\n",
       "</table>\n",
       "<p>610 rows × 9446 columns</p>\n",
       "</div>"
      ],
      "text/plain": [
       "title   '71  'Hellboy': The Seeds of Creation  'Round Midnight  'Salem's Lot  \\\n",
       "userId                                                                         \n",
       "1       NaN                               NaN              NaN           NaN   \n",
       "2       NaN                               NaN              NaN           NaN   \n",
       "3       NaN                               NaN              NaN           NaN   \n",
       "4       NaN                               NaN              NaN           NaN   \n",
       "5       NaN                               NaN              NaN           NaN   \n",
       "...     ...                               ...              ...           ...   \n",
       "606     NaN                               NaN              NaN           NaN   \n",
       "607     NaN                               NaN              NaN           NaN   \n",
       "608     NaN                               NaN              NaN           NaN   \n",
       "609     NaN                               NaN              NaN           NaN   \n",
       "610     4.0                               NaN              NaN           NaN   \n",
       "\n",
       "title   'Til There Was You  'Tis the Season for Love  'burbs, The  \\\n",
       "userId                                                              \n",
       "1                      NaN                       NaN          NaN   \n",
       "2                      NaN                       NaN          NaN   \n",
       "3                      NaN                       NaN          NaN   \n",
       "4                      NaN                       NaN          NaN   \n",
       "5                      NaN                       NaN          NaN   \n",
       "...                    ...                       ...          ...   \n",
       "606                    NaN                       NaN          NaN   \n",
       "607                    NaN                       NaN          NaN   \n",
       "608                    NaN                       NaN          NaN   \n",
       "609                    NaN                       NaN          NaN   \n",
       "610                    NaN                       NaN          NaN   \n",
       "\n",
       "title   'night Mother  (500) Days of Summer  *batteries not included  ...  \\\n",
       "userId                                                                ...   \n",
       "1                 NaN                   NaN                      NaN  ...   \n",
       "2                 NaN                   NaN                      NaN  ...   \n",
       "3                 NaN                   NaN                      NaN  ...   \n",
       "4                 NaN                   NaN                      NaN  ...   \n",
       "5                 NaN                   NaN                      NaN  ...   \n",
       "...               ...                   ...                      ...  ...   \n",
       "606               NaN                   NaN                      NaN  ...   \n",
       "607               NaN                   NaN                      NaN  ...   \n",
       "608               NaN                   NaN                      NaN  ...   \n",
       "609               NaN                   NaN                      NaN  ...   \n",
       "610               NaN                   3.5                      NaN  ...   \n",
       "\n",
       "title   Zulu  [REC]  [REC]²  [REC]³ 3 Génesis  \\\n",
       "userId                                          \n",
       "1        NaN    NaN     NaN               NaN   \n",
       "2        NaN    NaN     NaN               NaN   \n",
       "3        NaN    NaN     NaN               NaN   \n",
       "4        NaN    NaN     NaN               NaN   \n",
       "5        NaN    NaN     NaN               NaN   \n",
       "...      ...    ...     ...               ...   \n",
       "606      NaN    NaN     NaN               NaN   \n",
       "607      NaN    NaN     NaN               NaN   \n",
       "608      NaN    NaN     NaN               NaN   \n",
       "609      NaN    NaN     NaN               NaN   \n",
       "610      NaN    4.0     3.5               3.0   \n",
       "\n",
       "title   anohana: The Flower We Saw That Day - The Movie  eXistenZ  xXx  \\\n",
       "userId                                                                   \n",
       "1                                                   NaN       NaN  NaN   \n",
       "2                                                   NaN       NaN  NaN   \n",
       "3                                                   NaN       NaN  NaN   \n",
       "4                                                   NaN       NaN  NaN   \n",
       "5                                                   NaN       NaN  NaN   \n",
       "...                                                 ...       ...  ...   \n",
       "606                                                 NaN       NaN  NaN   \n",
       "607                                                 NaN       NaN  NaN   \n",
       "608                                                 NaN       4.5  3.5   \n",
       "609                                                 NaN       NaN  NaN   \n",
       "610                                                 NaN       NaN  2.0   \n",
       "\n",
       "title   xXx: State of the Union  ¡Three Amigos!  \\\n",
       "userId                                            \n",
       "1                           NaN             4.0   \n",
       "2                           NaN             NaN   \n",
       "3                           NaN             NaN   \n",
       "4                           NaN             NaN   \n",
       "5                           NaN             NaN   \n",
       "...                         ...             ...   \n",
       "606                         NaN             NaN   \n",
       "607                         NaN             NaN   \n",
       "608                         NaN             NaN   \n",
       "609                         NaN             NaN   \n",
       "610                         1.5             NaN   \n",
       "\n",
       "title   À nous la liberté (Freedom for Us)  \n",
       "userId                                      \n",
       "1                                      NaN  \n",
       "2                                      NaN  \n",
       "3                                      NaN  \n",
       "4                                      NaN  \n",
       "5                                      NaN  \n",
       "...                                    ...  \n",
       "606                                    NaN  \n",
       "607                                    NaN  \n",
       "608                                    NaN  \n",
       "609                                    NaN  \n",
       "610                                    NaN  \n",
       "\n",
       "[610 rows x 9446 columns]"
      ]
     },
     "execution_count": 88,
     "metadata": {},
     "output_type": "execute_result"
    }
   ],
   "source": [
    "matrix=new_df.pivot_table(index='userId',values='rating',columns='title')\n",
    "matrix"
   ]
  },
  {
   "cell_type": "code",
   "execution_count": 89,
   "id": "MArnRVxkKykC",
   "metadata": {
    "id": "MArnRVxkKykC"
   },
   "outputs": [],
   "source": [
    "matrix.to_csv(\"corr_matrix.csv\",header=True)"
   ]
  },
  {
   "cell_type": "code",
   "execution_count": 90,
   "id": "v0NLVu6AtIQq",
   "metadata": {
    "id": "v0NLVu6AtIQq"
   },
   "outputs": [],
   "source": [
    "def get_similar_by_corr(movie_name):\n",
    "    sample_movie=matrix[movie_name]\n",
    "    similar_movies= matrix.corrwith(sample_movie)\n",
    "    result_df=pd.DataFrame(similar_movies,columns=['Correlation'])\n",
    "    result_df.dropna(inplace=True)\n",
    "    result_df= result_df.join(new_ratings['count of ratings'])\n",
    "    result_df = result_df.reset_index(drop=False).rename(columns={'index': 'title'})\n",
    "    print(result_df.columns)\n",
    "    condition = result_df['title'] == movie_name\n",
    "    result_df.loc[condition, 'count of ratings'] = 150\n",
    "    return result_df[result_df['count of ratings']>100].sort_values(by='Correlation',ascending=False).head(100)"
   ]
  },
  {
   "cell_type": "code",
   "execution_count": 91,
   "id": "e0c65526-813c-4ee4-bed6-75bac90c311a",
   "metadata": {},
   "outputs": [
    {
     "name": "stderr",
     "output_type": "stream",
     "text": [
      "C:\\Users\\lavakumarkoyi\\anaconda3\\lib\\site-packages\\numpy\\lib\\function_base.py:2683: RuntimeWarning: Degrees of freedom <= 0 for slice\n",
      "  c = cov(x, y, rowvar, dtype=dtype)\n",
      "C:\\Users\\lavakumarkoyi\\anaconda3\\lib\\site-packages\\numpy\\lib\\function_base.py:2542: RuntimeWarning: divide by zero encountered in true_divide\n",
      "  c *= np.true_divide(1, fact)\n"
     ]
    },
    {
     "name": "stdout",
     "output_type": "stream",
     "text": [
      "Index(['title', 'Correlation', 'count of ratings'], dtype='object')\n"
     ]
    },
    {
     "data": {
      "text/html": [
       "<div>\n",
       "<style scoped>\n",
       "    .dataframe tbody tr th:only-of-type {\n",
       "        vertical-align: middle;\n",
       "    }\n",
       "\n",
       "    .dataframe tbody tr th {\n",
       "        vertical-align: top;\n",
       "    }\n",
       "\n",
       "    .dataframe thead th {\n",
       "        text-align: right;\n",
       "    }\n",
       "</style>\n",
       "<table border=\"1\" class=\"dataframe\">\n",
       "  <thead>\n",
       "    <tr style=\"text-align: right;\">\n",
       "      <th></th>\n",
       "      <th>title</th>\n",
       "      <th>Correlation</th>\n",
       "      <th>count of ratings</th>\n",
       "    </tr>\n",
       "  </thead>\n",
       "  <tbody>\n",
       "    <tr>\n",
       "      <th>1126</th>\n",
       "      <td>Grumpier Old Men</td>\n",
       "      <td>1.0</td>\n",
       "      <td>150.0</td>\n",
       "    </tr>\n",
       "  </tbody>\n",
       "</table>\n",
       "</div>"
      ],
      "text/plain": [
       "                 title  Correlation  count of ratings\n",
       "1126  Grumpier Old Men          1.0             150.0"
      ]
     },
     "execution_count": 91,
     "metadata": {},
     "output_type": "execute_result"
    }
   ],
   "source": [
    "res_df=get_similar_by_corr('Grumpier Old Men')\n",
    "res_df"
   ]
  },
  {
   "cell_type": "code",
   "execution_count": 92,
   "id": "9G0CcJBvDt0G",
   "metadata": {
    "id": "9G0CcJBvDt0G"
   },
   "outputs": [],
   "source": [
    "from sklearn.neighbors import NearestNeighbors\n",
    "def get_similar_movies(movie_name,res_df):\n",
    "    res_df= res_df.merge(new_movies,on=\"title\")\n",
    "    genres_df = res_df['genres'].str.get_dummies('|')\n",
    "\n",
    "    # Rename columns\n",
    "    genres_df.columns = [col.lower() for col in genres_df.columns]\n",
    "\n",
    "    # Concatenate genres_df with original dataframe\n",
    "    res_df = pd.concat([res_df, genres_df], axis=1)\n",
    "\n",
    "    # Drop original genres column\n",
    "    res_df = res_df.drop('genres', axis=1)\n",
    "    res_df.drop(\"movieId\",axis=1,inplace=True)\n",
    "    #print(res_df.columns)\n",
    "\n",
    "    # Building the model\n",
    "    model_knn= NearestNeighbors(metric= 'cosine',n_neighbors=6, algorithm='brute')\n",
    "    sample_df=res_df.drop(['count of ratings','year_of_release'],axis=1)\n",
    "    filtered_df = sample_df[sample_df['title'] == movie_name]\n",
    "    sample_df=sample_df.drop('title',axis=1)\n",
    "    \n",
    "    filtered_df=filtered_df.drop('title',axis=1)\n",
    "\n",
    "    # Fitting the model\n",
    "\n",
    "    model_knn.fit(sample_df)\n",
    "    \n",
    "    distance,indexes= model_knn.kneighbors(filtered_df)\n",
    "    print(res_df.iloc[indexes[0]][\"title\"])"
   ]
  },
  {
   "cell_type": "code",
   "execution_count": 94,
   "id": "uy7juZ9Wm-VA",
   "metadata": {
    "colab": {
     "base_uri": "https://localhost:8080/"
    },
    "id": "uy7juZ9Wm-VA",
    "outputId": "c7646bd7-056f-4721-8af4-dbc557c40ef9"
   },
   "outputs": [],
   "source": [
    "# movie_name='Jumanji'\n",
    "# res_df=get_similar_by_corr(movie_name)\n",
    "# print(res_df.head)\n",
    "# get_similar_movies(movie_name,res_df)\n"
   ]
  },
  {
   "cell_type": "code",
   "execution_count": null,
   "id": "nMIXmLneiTVk",
   "metadata": {
    "id": "nMIXmLneiTVk"
   },
   "outputs": [],
   "source": [
    "new_movies.head()"
   ]
  },
  {
   "cell_type": "code",
   "execution_count": 95,
   "id": "Jk_0yl0NmkCc",
   "metadata": {
    "id": "Jk_0yl0NmkCc"
   },
   "outputs": [],
   "source": [
    "def get_similar_by_corr(matrix,ratings_df, movie_name):\n",
    "\n",
    "    sample_movie=matrix[movie_name]\n",
    "    similar_movies= matrix.corrwith(sample_movie)\n",
    "    result_df=pd.DataFrame(similar_movies,columns=['Correlation'])\n",
    "    result_df.dropna(inplace=True)\n",
    "    result_df = result_df.reset_index(drop=False).rename(columns={'index': 'title'})\n",
    "    #print(result_df.head())\n",
    "    result_df= result_df.merge(ratings_df,on=\"title\")\n",
    "    #result_df = result_df.reset_index(drop=False).rename(columns={'index': 'title'})\n",
    "    #print(result_df.columns)\n",
    "    condition = result_df['title'] == movie_name\n",
    "    result_df.loc[condition, 'count of ratings'] = 150\n",
    "    return result_df[result_df['count of ratings']>100].sort_values(by='Correlation',ascending=False).head(100)\n",
    "\n",
    "def get_similar_movies(movie_name, movies_df, res_df):\n",
    "    # print(movies_df.head())\n",
    "    # print(res_df.head())\n",
    "    res_df= res_df.merge(movies_df,on=\"title\")\n",
    "    print(res_df.shape)\n",
    "    genres_df = res_df['genres'].str.get_dummies('|')\n",
    "\n",
    "    # Rename columns\n",
    "    genres_df.columns = [col.lower() for col in genres_df.columns]\n",
    "\n",
    "    # Concatenate genres_df with original dataframe\n",
    "    res_df = pd.concat([res_df, genres_df], axis=1)\n",
    "\n",
    "    # Drop original genres column\n",
    "    res_df = res_df.drop('genres', axis=1)\n",
    "    res_df.drop(\"movieId\",axis=1,inplace=True)\n",
    "    \n",
    "    # Building the model\n",
    "    if res_df.shape[0]>10:\n",
    "        model_knn= NearestNeighbors(metric= 'cosine',n_neighbors=10, algorithm='brute')\n",
    "    else:\n",
    "        model_knn= NearestNeighbors(metric= 'cosine',n_neighbors=res_df.shape[0], algorithm='brute')\n",
    "    #filtered_df = res_df[res_df['title'] == movie_name]\n",
    "    sample_df=res_df.drop(['count of ratings','year_of_release'],axis=1)\n",
    "    print(sample_df.head())\n",
    "    print(sample_df['title'] == movie_name)\n",
    "    filtered_df = sample_df[sample_df['title'] == movie_name]\n",
    "    print(filtered_df)\n",
    "    sample_df=sample_df.drop('title',axis=1)\n",
    "    filtered_df=filtered_df.drop('title',axis=1)\n",
    "    # Fitting the model\n",
    "    model_knn.fit(sample_df)\n",
    "    # print(\"sample_df\")\n",
    "    # print(sample_df)\n",
    "    # print(filtered_df)\n",
    "    distance,indexes= model_knn.kneighbors(filtered_df)\n",
    "    \n",
    "    return res_df, indexes"
   ]
  },
  {
   "cell_type": "code",
   "execution_count": 96,
   "id": "cdf539f2-8ec8-4c1f-9fe5-acf1b1cb3c40",
   "metadata": {},
   "outputs": [
    {
     "data": {
      "text/html": [
       "<div>\n",
       "<style scoped>\n",
       "    .dataframe tbody tr th:only-of-type {\n",
       "        vertical-align: middle;\n",
       "    }\n",
       "\n",
       "    .dataframe tbody tr th {\n",
       "        vertical-align: top;\n",
       "    }\n",
       "\n",
       "    .dataframe thead th {\n",
       "        text-align: right;\n",
       "    }\n",
       "</style>\n",
       "<table border=\"1\" class=\"dataframe\">\n",
       "  <thead>\n",
       "    <tr style=\"text-align: right;\">\n",
       "      <th></th>\n",
       "      <th>userId</th>\n",
       "      <th>movieId</th>\n",
       "      <th>rating</th>\n",
       "      <th>timestamp</th>\n",
       "      <th>date</th>\n",
       "    </tr>\n",
       "  </thead>\n",
       "  <tbody>\n",
       "    <tr>\n",
       "      <th>0</th>\n",
       "      <td>1</td>\n",
       "      <td>1</td>\n",
       "      <td>4.0</td>\n",
       "      <td>964982703</td>\n",
       "      <td>30-07-2000</td>\n",
       "    </tr>\n",
       "    <tr>\n",
       "      <th>1</th>\n",
       "      <td>1</td>\n",
       "      <td>3</td>\n",
       "      <td>4.0</td>\n",
       "      <td>964981247</td>\n",
       "      <td>30-07-2000</td>\n",
       "    </tr>\n",
       "    <tr>\n",
       "      <th>2</th>\n",
       "      <td>1</td>\n",
       "      <td>6</td>\n",
       "      <td>4.0</td>\n",
       "      <td>964982224</td>\n",
       "      <td>30-07-2000</td>\n",
       "    </tr>\n",
       "    <tr>\n",
       "      <th>3</th>\n",
       "      <td>1</td>\n",
       "      <td>47</td>\n",
       "      <td>5.0</td>\n",
       "      <td>964983815</td>\n",
       "      <td>30-07-2000</td>\n",
       "    </tr>\n",
       "    <tr>\n",
       "      <th>4</th>\n",
       "      <td>1</td>\n",
       "      <td>50</td>\n",
       "      <td>5.0</td>\n",
       "      <td>964982931</td>\n",
       "      <td>30-07-2000</td>\n",
       "    </tr>\n",
       "  </tbody>\n",
       "</table>\n",
       "</div>"
      ],
      "text/plain": [
       "   userId  movieId  rating  timestamp        date\n",
       "0       1        1     4.0  964982703  30-07-2000\n",
       "1       1        3     4.0  964981247  30-07-2000\n",
       "2       1        6     4.0  964982224  30-07-2000\n",
       "3       1       47     5.0  964983815  30-07-2000\n",
       "4       1       50     5.0  964982931  30-07-2000"
      ]
     },
     "execution_count": 96,
     "metadata": {},
     "output_type": "execute_result"
    }
   ],
   "source": [
    "ratings_df.head()"
   ]
  },
  {
   "cell_type": "code",
   "execution_count": 97,
   "id": "0acd9402-6971-40c3-bd75-a88dff4f8dba",
   "metadata": {},
   "outputs": [
    {
     "data": {
      "text/html": [
       "<div>\n",
       "<style scoped>\n",
       "    .dataframe tbody tr th:only-of-type {\n",
       "        vertical-align: middle;\n",
       "    }\n",
       "\n",
       "    .dataframe tbody tr th {\n",
       "        vertical-align: top;\n",
       "    }\n",
       "\n",
       "    .dataframe thead th {\n",
       "        text-align: right;\n",
       "    }\n",
       "</style>\n",
       "<table border=\"1\" class=\"dataframe\">\n",
       "  <thead>\n",
       "    <tr style=\"text-align: right;\">\n",
       "      <th></th>\n",
       "      <th>userId</th>\n",
       "      <th>movieId</th>\n",
       "      <th>rating</th>\n",
       "      <th>timestamp</th>\n",
       "      <th>date</th>\n",
       "    </tr>\n",
       "  </thead>\n",
       "  <tbody>\n",
       "    <tr>\n",
       "      <th>0</th>\n",
       "      <td>1</td>\n",
       "      <td>1</td>\n",
       "      <td>4.0</td>\n",
       "      <td>964982703</td>\n",
       "      <td>30-07-2000</td>\n",
       "    </tr>\n",
       "    <tr>\n",
       "      <th>1</th>\n",
       "      <td>1</td>\n",
       "      <td>3</td>\n",
       "      <td>4.0</td>\n",
       "      <td>964981247</td>\n",
       "      <td>30-07-2000</td>\n",
       "    </tr>\n",
       "    <tr>\n",
       "      <th>2</th>\n",
       "      <td>1</td>\n",
       "      <td>6</td>\n",
       "      <td>4.0</td>\n",
       "      <td>964982224</td>\n",
       "      <td>30-07-2000</td>\n",
       "    </tr>\n",
       "    <tr>\n",
       "      <th>3</th>\n",
       "      <td>1</td>\n",
       "      <td>47</td>\n",
       "      <td>5.0</td>\n",
       "      <td>964983815</td>\n",
       "      <td>30-07-2000</td>\n",
       "    </tr>\n",
       "    <tr>\n",
       "      <th>4</th>\n",
       "      <td>1</td>\n",
       "      <td>50</td>\n",
       "      <td>5.0</td>\n",
       "      <td>964982931</td>\n",
       "      <td>30-07-2000</td>\n",
       "    </tr>\n",
       "  </tbody>\n",
       "</table>\n",
       "</div>"
      ],
      "text/plain": [
       "   userId  movieId  rating  timestamp        date\n",
       "0       1        1     4.0  964982703  30-07-2000\n",
       "1       1        3     4.0  964981247  30-07-2000\n",
       "2       1        6     4.0  964982224  30-07-2000\n",
       "3       1       47     5.0  964983815  30-07-2000\n",
       "4       1       50     5.0  964982931  30-07-2000"
      ]
     },
     "execution_count": 97,
     "metadata": {},
     "output_type": "execute_result"
    }
   ],
   "source": [
    "ratings_df.head()"
   ]
  },
  {
   "cell_type": "code",
   "execution_count": 98,
   "id": "4fdcd3c5-8a7d-44be-b09c-8f909868030b",
   "metadata": {},
   "outputs": [
    {
     "data": {
      "text/plain": [
       "1"
      ]
     },
     "execution_count": 98,
     "metadata": {},
     "output_type": "execute_result"
    }
   ],
   "source": [
    "\n",
    "len(res_df[\"title\"].unique())"
   ]
  },
  {
   "cell_type": "code",
   "execution_count": 99,
   "id": "30a5cLDtqlaa",
   "metadata": {
    "colab": {
     "base_uri": "https://localhost:8080/",
     "height": 206
    },
    "id": "30a5cLDtqlaa",
    "outputId": "bdfe4e41-8d12-48bb-e457-00f52a11d2b3"
   },
   "outputs": [
    {
     "name": "stderr",
     "output_type": "stream",
     "text": [
      "C:\\Users\\lavakumarkoyi\\anaconda3\\lib\\site-packages\\numpy\\lib\\function_base.py:2683: RuntimeWarning: Degrees of freedom <= 0 for slice\n",
      "  c = cov(x, y, rowvar, dtype=dtype)\n",
      "C:\\Users\\lavakumarkoyi\\anaconda3\\lib\\site-packages\\numpy\\lib\\function_base.py:2542: RuntimeWarning: divide by zero encountered in true_divide\n",
      "  c *= np.true_divide(1, fact)\n"
     ]
    },
    {
     "name": "stdout",
     "output_type": "stream",
     "text": [
      "                                                title  Correlation    rating  \\\n",
      "928                              Sleepless in Seattle     1.000000  3.471698   \n",
      "980                          Star Wars: The Last Jedi     1.000000  3.125000   \n",
      "216                                            Clerks     1.000000  3.855769   \n",
      "166                                        Braveheart     0.969345  4.031646   \n",
      "245  Crouching Tiger, Hidden Dragon (Wo hu cang long)     0.960769  3.836364   \n",
      "\n",
      "     count of ratings  \n",
      "928               106  \n",
      "980               150  \n",
      "216               104  \n",
      "166               237  \n",
      "245               110  \n",
      "(105, 7)\n",
      "                                              title  Correlation    rating  \\\n",
      "0                              Sleepless in Seattle     1.000000  3.471698   \n",
      "1                          Star Wars: The Last Jedi     1.000000  3.125000   \n",
      "2                                            Clerks     1.000000  3.855769   \n",
      "3                                        Braveheart     0.969345  4.031646   \n",
      "4  Crouching Tiger, Hidden Dragon (Wo hu cang long)     0.960769  3.836364   \n",
      "\n",
      "   action  adventure  animation  children  comedy  crime  drama  fantasy  \\\n",
      "0       0          0          0         0       1      0      1        0   \n",
      "1       1          1          0         0       0      0      0        1   \n",
      "2       0          0          0         0       1      0      0        0   \n",
      "3       1          0          0         0       0      0      1        0   \n",
      "4       1          0          0         0       0      0      1        0   \n",
      "\n",
      "   horror  imax  musical  mystery  romance  sci-fi  thriller  war  \n",
      "0       0     0        0        0        1       0         0    0  \n",
      "1       0     0        0        0        0       1         0    0  \n",
      "2       0     0        0        0        0       0         0    0  \n",
      "3       0     0        0        0        0       0         0    1  \n",
      "4       0     0        0        0        1       0         0    0  \n",
      "0      False\n",
      "1       True\n",
      "2      False\n",
      "3      False\n",
      "4      False\n",
      "       ...  \n",
      "100    False\n",
      "101    False\n",
      "102    False\n",
      "103    False\n",
      "104    False\n",
      "Name: title, Length: 105, dtype: bool\n",
      "                      title  Correlation  rating  action  adventure  \\\n",
      "1  Star Wars: The Last Jedi          1.0   3.125       1          1   \n",
      "\n",
      "   animation  children  comedy  crime  drama  fantasy  horror  imax  musical  \\\n",
      "1          0         0       0      0      0        1       0     0        0   \n",
      "\n",
      "   mystery  romance  sci-fi  thriller  war  \n",
      "1        0        0       1         0    0  \n",
      "Output: ['Star Wars: The Last Jedi', 'Star Wars: Episode I - The Phantom Menace', 'Star Wars: Episode V - The Empire Strikes Back', 'Star Wars: Episode VI - Return of the Jedi', 'Star Wars: Episode IV - A New Hope', 'X-Men', 'Spider-Man', 'Independence Day (a.k.a. ID4)', 'Fifth Element, The', 'Lord of the Rings: The Return of the King, The']\n"
     ]
    }
   ],
   "source": [
    "movies_df = pd.read_csv('corr_movies.csv')\n",
    "ratings_df = pd.read_csv('corr_ratings.csv')\n",
    "#corr_matrix = pd.read_csv('corr_matrix.csv')\n",
    "\n",
    "res_df=get_similar_by_corr(matrix,ratings_df, 'Star Wars: The Last Jedi')\n",
    "# print(res_df.head())\n",
    "result,indexes= get_similar_movies('Star Wars: The Last Jedi', movies_df, res_df)\n",
    "print('Output: {}'.format(result.iloc[indexes[0]][\"title\"].tolist()))"
   ]
  },
  {
   "cell_type": "code",
   "execution_count": null,
   "id": "pl-RLcIhqnsw",
   "metadata": {
    "id": "pl-RLcIhqnsw"
   },
   "outputs": [],
   "source": []
  },
  {
   "cell_type": "code",
   "execution_count": null,
   "id": "x-cLcKxDzGFy",
   "metadata": {
    "colab": {
     "base_uri": "https://localhost:8080/",
     "height": 206
    },
    "id": "x-cLcKxDzGFy",
    "outputId": "0256831a-b517-4371-d599-319ff42c3c8d"
   },
   "outputs": [],
   "source": []
  }
 ],
 "metadata": {
  "colab": {
   "provenance": []
  },
  "kernelspec": {
   "display_name": "Python 3 (ipykernel)",
   "language": "python",
   "name": "python3"
  },
  "language_info": {
   "codemirror_mode": {
    "name": "ipython",
    "version": 3
   },
   "file_extension": ".py",
   "mimetype": "text/x-python",
   "name": "python",
   "nbconvert_exporter": "python",
   "pygments_lexer": "ipython3",
   "version": "3.9.13"
  }
 },
 "nbformat": 4,
 "nbformat_minor": 5
}
