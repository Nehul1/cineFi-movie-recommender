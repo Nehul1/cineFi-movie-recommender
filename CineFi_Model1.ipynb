{
 "cells": [
  {
   "cell_type": "markdown",
   "id": "7ea65e4c",
   "metadata": {
    "id": "7ea65e4c"
   },
   "source": [
    "# Movie Recommendation System"
   ]
  },
  {
   "cell_type": "markdown",
   "id": "0f3680ac",
   "metadata": {
    "id": "0f3680ac"
   },
   "source": [
    "### Team Members:\n",
    "#### 1. Lava kumar Koyi - lavakoyi@iu.edu\n",
    "#### 2. Sai Durga Aniesh Baratam - sbaratam@iu.edu\n",
    "#### 3. Nehul Rangappa - nrangapp@iu.edu\n",
    "#### 4. Nikhil Sai Dandamudi - nidandam@iu.edu"
   ]
  },
  {
   "cell_type": "markdown",
   "id": "03645d24",
   "metadata": {
    "id": "03645d24"
   },
   "source": [
    "## Import dependencies"
   ]
  },
  {
   "cell_type": "code",
   "execution_count": 1,
   "id": "5c23c308",
   "metadata": {
    "id": "5c23c308"
   },
   "outputs": [],
   "source": [
    "import numpy as np\n",
    "import pandas as pd\n",
    "import math\n",
    "import matplotlib.pyplot as plt\n",
    "import seaborn as sns\n",
    "import random\n",
    "import time\n",
    "from datetime import datetime\n",
    "import copy"
   ]
  },
  {
   "cell_type": "markdown",
   "id": "fe5fd8a7",
   "metadata": {
    "id": "fe5fd8a7"
   },
   "source": [
    "## Movies Data Preprocessing"
   ]
  },
  {
   "cell_type": "code",
   "execution_count": 2,
   "id": "1c2187cc",
   "metadata": {
    "id": "1c2187cc"
   },
   "outputs": [],
   "source": [
    "movies_df = pd.read_csv(\"./Datasets/movie_lens_small/movies.csv\")"
   ]
  },
  {
   "cell_type": "code",
   "execution_count": 3,
   "id": "06a14813",
   "metadata": {
    "colab": {
     "base_uri": "https://localhost:8080/",
     "height": 300
    },
    "id": "06a14813",
    "outputId": "346179b4-8825-4b42-991c-a0825dc9d2fb"
   },
   "outputs": [
    {
     "data": {
      "text/html": [
       "<div>\n",
       "<style scoped>\n",
       "    .dataframe tbody tr th:only-of-type {\n",
       "        vertical-align: middle;\n",
       "    }\n",
       "\n",
       "    .dataframe tbody tr th {\n",
       "        vertical-align: top;\n",
       "    }\n",
       "\n",
       "    .dataframe thead th {\n",
       "        text-align: right;\n",
       "    }\n",
       "</style>\n",
       "<table border=\"1\" class=\"dataframe\">\n",
       "  <thead>\n",
       "    <tr style=\"text-align: right;\">\n",
       "      <th></th>\n",
       "      <th>movieId</th>\n",
       "    </tr>\n",
       "  </thead>\n",
       "  <tbody>\n",
       "    <tr>\n",
       "      <th>count</th>\n",
       "      <td>9742.000000</td>\n",
       "    </tr>\n",
       "    <tr>\n",
       "      <th>mean</th>\n",
       "      <td>42200.353623</td>\n",
       "    </tr>\n",
       "    <tr>\n",
       "      <th>std</th>\n",
       "      <td>52160.494854</td>\n",
       "    </tr>\n",
       "    <tr>\n",
       "      <th>min</th>\n",
       "      <td>1.000000</td>\n",
       "    </tr>\n",
       "    <tr>\n",
       "      <th>25%</th>\n",
       "      <td>3248.250000</td>\n",
       "    </tr>\n",
       "    <tr>\n",
       "      <th>50%</th>\n",
       "      <td>7300.000000</td>\n",
       "    </tr>\n",
       "    <tr>\n",
       "      <th>75%</th>\n",
       "      <td>76232.000000</td>\n",
       "    </tr>\n",
       "    <tr>\n",
       "      <th>max</th>\n",
       "      <td>193609.000000</td>\n",
       "    </tr>\n",
       "  </tbody>\n",
       "</table>\n",
       "</div>"
      ],
      "text/plain": [
       "             movieId\n",
       "count    9742.000000\n",
       "mean    42200.353623\n",
       "std     52160.494854\n",
       "min         1.000000\n",
       "25%      3248.250000\n",
       "50%      7300.000000\n",
       "75%     76232.000000\n",
       "max    193609.000000"
      ]
     },
     "execution_count": 3,
     "metadata": {},
     "output_type": "execute_result"
    }
   ],
   "source": [
    "movies_df.describe()"
   ]
  },
  {
   "cell_type": "markdown",
   "id": "PZxdueM1mRs1",
   "metadata": {
    "id": "PZxdueM1mRs1"
   },
   "source": [
    "# New Section"
   ]
  },
  {
   "cell_type": "code",
   "execution_count": 4,
   "id": "5a2f3f34",
   "metadata": {
    "colab": {
     "base_uri": "https://localhost:8080/",
     "height": 206
    },
    "id": "5a2f3f34",
    "outputId": "405aa179-a537-48d7-9047-eafd3a7b0c70"
   },
   "outputs": [
    {
     "data": {
      "text/html": [
       "<div>\n",
       "<style scoped>\n",
       "    .dataframe tbody tr th:only-of-type {\n",
       "        vertical-align: middle;\n",
       "    }\n",
       "\n",
       "    .dataframe tbody tr th {\n",
       "        vertical-align: top;\n",
       "    }\n",
       "\n",
       "    .dataframe thead th {\n",
       "        text-align: right;\n",
       "    }\n",
       "</style>\n",
       "<table border=\"1\" class=\"dataframe\">\n",
       "  <thead>\n",
       "    <tr style=\"text-align: right;\">\n",
       "      <th></th>\n",
       "      <th>movieId</th>\n",
       "      <th>title</th>\n",
       "      <th>genres</th>\n",
       "    </tr>\n",
       "  </thead>\n",
       "  <tbody>\n",
       "    <tr>\n",
       "      <th>0</th>\n",
       "      <td>1</td>\n",
       "      <td>Toy Story (1995)</td>\n",
       "      <td>Adventure|Animation|Children|Comedy|Fantasy</td>\n",
       "    </tr>\n",
       "    <tr>\n",
       "      <th>1</th>\n",
       "      <td>2</td>\n",
       "      <td>Jumanji (1995)</td>\n",
       "      <td>Adventure|Children|Fantasy</td>\n",
       "    </tr>\n",
       "    <tr>\n",
       "      <th>2</th>\n",
       "      <td>3</td>\n",
       "      <td>Grumpier Old Men (1995)</td>\n",
       "      <td>Comedy|Romance</td>\n",
       "    </tr>\n",
       "    <tr>\n",
       "      <th>3</th>\n",
       "      <td>4</td>\n",
       "      <td>Waiting to Exhale (1995)</td>\n",
       "      <td>Comedy|Drama|Romance</td>\n",
       "    </tr>\n",
       "    <tr>\n",
       "      <th>4</th>\n",
       "      <td>5</td>\n",
       "      <td>Father of the Bride Part II (1995)</td>\n",
       "      <td>Comedy</td>\n",
       "    </tr>\n",
       "  </tbody>\n",
       "</table>\n",
       "</div>"
      ],
      "text/plain": [
       "   movieId                               title  \\\n",
       "0        1                    Toy Story (1995)   \n",
       "1        2                      Jumanji (1995)   \n",
       "2        3             Grumpier Old Men (1995)   \n",
       "3        4            Waiting to Exhale (1995)   \n",
       "4        5  Father of the Bride Part II (1995)   \n",
       "\n",
       "                                        genres  \n",
       "0  Adventure|Animation|Children|Comedy|Fantasy  \n",
       "1                   Adventure|Children|Fantasy  \n",
       "2                               Comedy|Romance  \n",
       "3                         Comedy|Drama|Romance  \n",
       "4                                       Comedy  "
      ]
     },
     "execution_count": 4,
     "metadata": {},
     "output_type": "execute_result"
    }
   ],
   "source": [
    "movies_df.head()"
   ]
  },
  {
   "cell_type": "code",
   "execution_count": 5,
   "id": "7b3b3e86",
   "metadata": {
    "colab": {
     "base_uri": "https://localhost:8080/"
    },
    "id": "7b3b3e86",
    "outputId": "9bcd0840-04a9-466d-ee4f-37af6ddcbbaa"
   },
   "outputs": [
    {
     "name": "stdout",
     "output_type": "stream",
     "text": [
      "<class 'pandas.core.frame.DataFrame'>\n",
      "RangeIndex: 9742 entries, 0 to 9741\n",
      "Data columns (total 3 columns):\n",
      " #   Column   Non-Null Count  Dtype \n",
      "---  ------   --------------  ----- \n",
      " 0   movieId  9742 non-null   int64 \n",
      " 1   title    9742 non-null   object\n",
      " 2   genres   9742 non-null   object\n",
      "dtypes: int64(1), object(2)\n",
      "memory usage: 228.5+ KB\n"
     ]
    }
   ],
   "source": [
    "movies_df.info()"
   ]
  },
  {
   "cell_type": "code",
   "execution_count": 6,
   "id": "21bce90b",
   "metadata": {
    "colab": {
     "base_uri": "https://localhost:8080/"
    },
    "id": "21bce90b",
    "outputId": "5f91bf1d-f0ce-4a73-add9-c4dce5296b64"
   },
   "outputs": [
    {
     "data": {
      "text/plain": [
       "9742"
      ]
     },
     "execution_count": 6,
     "metadata": {},
     "output_type": "execute_result"
    }
   ],
   "source": [
    "movies_df.shape[0]"
   ]
  },
  {
   "cell_type": "code",
   "execution_count": 7,
   "id": "ba45598e",
   "metadata": {
    "colab": {
     "base_uri": "https://localhost:8080/"
    },
    "id": "ba45598e",
    "outputId": "6e05dc34-98a6-492c-ce84-7bfa4b49b520"
   },
   "outputs": [
    {
     "data": {
      "text/plain": [
       "movieId    0\n",
       "title      0\n",
       "genres     0\n",
       "dtype: int64"
      ]
     },
     "execution_count": 7,
     "metadata": {},
     "output_type": "execute_result"
    }
   ],
   "source": [
    "movies_df.isnull().sum().sort_values()"
   ]
  },
  {
   "cell_type": "code",
   "execution_count": 8,
   "id": "70769bcc",
   "metadata": {
    "colab": {
     "base_uri": "https://localhost:8080/"
    },
    "id": "70769bcc",
    "outputId": "1c94e2a2-7a6e-4318-b958-ed26202cc275"
   },
   "outputs": [
    {
     "name": "stdout",
     "output_type": "stream",
     "text": [
      "Number of unknown values for the attribute movieId = 0\n",
      "Number of unknown values for the attribute title = 0\n",
      "Number of unknown values for the attribute genres = 0\n"
     ]
    }
   ],
   "source": [
    "unknown_valued_columns=[]\n",
    "for c in movies_df.columns:\n",
    "    print(\"Number of unknown values for the attribute\",c,\"=\",movies_df.loc[movies_df[c] == '?'].shape[0])\n",
    "    unknown_valued_columns.append(c)"
   ]
  },
  {
   "cell_type": "code",
   "execution_count": 9,
   "id": "be66c2da",
   "metadata": {
    "id": "be66c2da"
   },
   "outputs": [],
   "source": [
    "def split_genre(x):\n",
    "    return x.split('|')"
   ]
  },
  {
   "cell_type": "code",
   "execution_count": 10,
   "id": "5ab4a616",
   "metadata": {
    "id": "5ab4a616"
   },
   "outputs": [],
   "source": [
    "movies_df['genres'] = movies_df['genres'].apply(split_genre)"
   ]
  },
  {
   "cell_type": "code",
   "execution_count": 11,
   "id": "259e2bc4",
   "metadata": {
    "colab": {
     "base_uri": "https://localhost:8080/",
     "height": 206
    },
    "id": "259e2bc4",
    "outputId": "46dbe20b-ee9e-471f-948f-679470c38c25"
   },
   "outputs": [
    {
     "data": {
      "text/html": [
       "<div>\n",
       "<style scoped>\n",
       "    .dataframe tbody tr th:only-of-type {\n",
       "        vertical-align: middle;\n",
       "    }\n",
       "\n",
       "    .dataframe tbody tr th {\n",
       "        vertical-align: top;\n",
       "    }\n",
       "\n",
       "    .dataframe thead th {\n",
       "        text-align: right;\n",
       "    }\n",
       "</style>\n",
       "<table border=\"1\" class=\"dataframe\">\n",
       "  <thead>\n",
       "    <tr style=\"text-align: right;\">\n",
       "      <th></th>\n",
       "      <th>movieId</th>\n",
       "      <th>title</th>\n",
       "      <th>genres</th>\n",
       "    </tr>\n",
       "  </thead>\n",
       "  <tbody>\n",
       "    <tr>\n",
       "      <th>0</th>\n",
       "      <td>1</td>\n",
       "      <td>Toy Story (1995)</td>\n",
       "      <td>[Adventure, Animation, Children, Comedy, Fantasy]</td>\n",
       "    </tr>\n",
       "    <tr>\n",
       "      <th>1</th>\n",
       "      <td>2</td>\n",
       "      <td>Jumanji (1995)</td>\n",
       "      <td>[Adventure, Children, Fantasy]</td>\n",
       "    </tr>\n",
       "    <tr>\n",
       "      <th>2</th>\n",
       "      <td>3</td>\n",
       "      <td>Grumpier Old Men (1995)</td>\n",
       "      <td>[Comedy, Romance]</td>\n",
       "    </tr>\n",
       "    <tr>\n",
       "      <th>3</th>\n",
       "      <td>4</td>\n",
       "      <td>Waiting to Exhale (1995)</td>\n",
       "      <td>[Comedy, Drama, Romance]</td>\n",
       "    </tr>\n",
       "    <tr>\n",
       "      <th>4</th>\n",
       "      <td>5</td>\n",
       "      <td>Father of the Bride Part II (1995)</td>\n",
       "      <td>[Comedy]</td>\n",
       "    </tr>\n",
       "  </tbody>\n",
       "</table>\n",
       "</div>"
      ],
      "text/plain": [
       "   movieId                               title  \\\n",
       "0        1                    Toy Story (1995)   \n",
       "1        2                      Jumanji (1995)   \n",
       "2        3             Grumpier Old Men (1995)   \n",
       "3        4            Waiting to Exhale (1995)   \n",
       "4        5  Father of the Bride Part II (1995)   \n",
       "\n",
       "                                              genres  \n",
       "0  [Adventure, Animation, Children, Comedy, Fantasy]  \n",
       "1                     [Adventure, Children, Fantasy]  \n",
       "2                                  [Comedy, Romance]  \n",
       "3                           [Comedy, Drama, Romance]  \n",
       "4                                           [Comedy]  "
      ]
     },
     "execution_count": 11,
     "metadata": {},
     "output_type": "execute_result"
    }
   ],
   "source": [
    "movies_df.head()"
   ]
  },
  {
   "cell_type": "code",
   "execution_count": 12,
   "id": "a4a6a33d",
   "metadata": {
    "id": "a4a6a33d"
   },
   "outputs": [],
   "source": [
    "movies_df=movies_df.explode('genres')"
   ]
  },
  {
   "cell_type": "code",
   "execution_count": 13,
   "id": "e1d895b9",
   "metadata": {
    "id": "e1d895b9"
   },
   "outputs": [],
   "source": [
    "movies_df.rename(columns={\"genres\": \"genre\"}, inplace=True)"
   ]
  },
  {
   "cell_type": "code",
   "execution_count": 14,
   "id": "210decc4",
   "metadata": {
    "colab": {
     "base_uri": "https://localhost:8080/",
     "height": 206
    },
    "id": "210decc4",
    "outputId": "4386607e-cf58-4550-b14c-b35f7e8787da"
   },
   "outputs": [
    {
     "data": {
      "text/html": [
       "<div>\n",
       "<style scoped>\n",
       "    .dataframe tbody tr th:only-of-type {\n",
       "        vertical-align: middle;\n",
       "    }\n",
       "\n",
       "    .dataframe tbody tr th {\n",
       "        vertical-align: top;\n",
       "    }\n",
       "\n",
       "    .dataframe thead th {\n",
       "        text-align: right;\n",
       "    }\n",
       "</style>\n",
       "<table border=\"1\" class=\"dataframe\">\n",
       "  <thead>\n",
       "    <tr style=\"text-align: right;\">\n",
       "      <th></th>\n",
       "      <th>movieId</th>\n",
       "      <th>title</th>\n",
       "      <th>genre</th>\n",
       "    </tr>\n",
       "  </thead>\n",
       "  <tbody>\n",
       "    <tr>\n",
       "      <th>0</th>\n",
       "      <td>1</td>\n",
       "      <td>Toy Story (1995)</td>\n",
       "      <td>Adventure</td>\n",
       "    </tr>\n",
       "    <tr>\n",
       "      <th>0</th>\n",
       "      <td>1</td>\n",
       "      <td>Toy Story (1995)</td>\n",
       "      <td>Animation</td>\n",
       "    </tr>\n",
       "    <tr>\n",
       "      <th>0</th>\n",
       "      <td>1</td>\n",
       "      <td>Toy Story (1995)</td>\n",
       "      <td>Children</td>\n",
       "    </tr>\n",
       "    <tr>\n",
       "      <th>0</th>\n",
       "      <td>1</td>\n",
       "      <td>Toy Story (1995)</td>\n",
       "      <td>Comedy</td>\n",
       "    </tr>\n",
       "    <tr>\n",
       "      <th>0</th>\n",
       "      <td>1</td>\n",
       "      <td>Toy Story (1995)</td>\n",
       "      <td>Fantasy</td>\n",
       "    </tr>\n",
       "  </tbody>\n",
       "</table>\n",
       "</div>"
      ],
      "text/plain": [
       "   movieId             title      genre\n",
       "0        1  Toy Story (1995)  Adventure\n",
       "0        1  Toy Story (1995)  Animation\n",
       "0        1  Toy Story (1995)   Children\n",
       "0        1  Toy Story (1995)     Comedy\n",
       "0        1  Toy Story (1995)    Fantasy"
      ]
     },
     "execution_count": 14,
     "metadata": {},
     "output_type": "execute_result"
    }
   ],
   "source": [
    "\n",
    "movies_df.head()"
   ]
  },
  {
   "cell_type": "code",
   "execution_count": 15,
   "id": "991a4616",
   "metadata": {
    "id": "991a4616"
   },
   "outputs": [],
   "source": [
    "def extract_year_of_release(x):\n",
    "    year=x.split('(')\n",
    "    if len(year)!=2:\n",
    "        return \"\"\n",
    "    \n",
    "    return year[1][:-1]"
   ]
  },
  {
   "cell_type": "code",
   "execution_count": 16,
   "id": "f7137b85",
   "metadata": {
    "id": "f7137b85"
   },
   "outputs": [],
   "source": [
    "movies_df['year_of_release'] = movies_df['title'].apply(extract_year_of_release)"
   ]
  },
  {
   "cell_type": "code",
   "execution_count": 17,
   "id": "cc72ec25",
   "metadata": {
    "colab": {
     "base_uri": "https://localhost:8080/",
     "height": 363
    },
    "id": "cc72ec25",
    "outputId": "6ecdbb41-c172-42bc-c964-3f05783b4847"
   },
   "outputs": [
    {
     "data": {
      "text/html": [
       "<div>\n",
       "<style scoped>\n",
       "    .dataframe tbody tr th:only-of-type {\n",
       "        vertical-align: middle;\n",
       "    }\n",
       "\n",
       "    .dataframe tbody tr th {\n",
       "        vertical-align: top;\n",
       "    }\n",
       "\n",
       "    .dataframe thead th {\n",
       "        text-align: right;\n",
       "    }\n",
       "</style>\n",
       "<table border=\"1\" class=\"dataframe\">\n",
       "  <thead>\n",
       "    <tr style=\"text-align: right;\">\n",
       "      <th></th>\n",
       "      <th>movieId</th>\n",
       "      <th>title</th>\n",
       "      <th>genre</th>\n",
       "      <th>year_of_release</th>\n",
       "    </tr>\n",
       "  </thead>\n",
       "  <tbody>\n",
       "    <tr>\n",
       "      <th>9737</th>\n",
       "      <td>193581</td>\n",
       "      <td>Black Butler: Book of the Atlantic (2017)</td>\n",
       "      <td>Animation</td>\n",
       "      <td>2017</td>\n",
       "    </tr>\n",
       "    <tr>\n",
       "      <th>9737</th>\n",
       "      <td>193581</td>\n",
       "      <td>Black Butler: Book of the Atlantic (2017)</td>\n",
       "      <td>Comedy</td>\n",
       "      <td>2017</td>\n",
       "    </tr>\n",
       "    <tr>\n",
       "      <th>9737</th>\n",
       "      <td>193581</td>\n",
       "      <td>Black Butler: Book of the Atlantic (2017)</td>\n",
       "      <td>Fantasy</td>\n",
       "      <td>2017</td>\n",
       "    </tr>\n",
       "    <tr>\n",
       "      <th>9738</th>\n",
       "      <td>193583</td>\n",
       "      <td>No Game No Life: Zero (2017)</td>\n",
       "      <td>Animation</td>\n",
       "      <td>2017</td>\n",
       "    </tr>\n",
       "    <tr>\n",
       "      <th>9738</th>\n",
       "      <td>193583</td>\n",
       "      <td>No Game No Life: Zero (2017)</td>\n",
       "      <td>Comedy</td>\n",
       "      <td>2017</td>\n",
       "    </tr>\n",
       "    <tr>\n",
       "      <th>9738</th>\n",
       "      <td>193583</td>\n",
       "      <td>No Game No Life: Zero (2017)</td>\n",
       "      <td>Fantasy</td>\n",
       "      <td>2017</td>\n",
       "    </tr>\n",
       "    <tr>\n",
       "      <th>9739</th>\n",
       "      <td>193585</td>\n",
       "      <td>Flint (2017)</td>\n",
       "      <td>Drama</td>\n",
       "      <td>2017</td>\n",
       "    </tr>\n",
       "    <tr>\n",
       "      <th>9740</th>\n",
       "      <td>193587</td>\n",
       "      <td>Bungo Stray Dogs: Dead Apple (2018)</td>\n",
       "      <td>Action</td>\n",
       "      <td>2018</td>\n",
       "    </tr>\n",
       "    <tr>\n",
       "      <th>9740</th>\n",
       "      <td>193587</td>\n",
       "      <td>Bungo Stray Dogs: Dead Apple (2018)</td>\n",
       "      <td>Animation</td>\n",
       "      <td>2018</td>\n",
       "    </tr>\n",
       "    <tr>\n",
       "      <th>9741</th>\n",
       "      <td>193609</td>\n",
       "      <td>Andrew Dice Clay: Dice Rules (1991)</td>\n",
       "      <td>Comedy</td>\n",
       "      <td>1991</td>\n",
       "    </tr>\n",
       "  </tbody>\n",
       "</table>\n",
       "</div>"
      ],
      "text/plain": [
       "      movieId                                      title      genre  \\\n",
       "9737   193581  Black Butler: Book of the Atlantic (2017)  Animation   \n",
       "9737   193581  Black Butler: Book of the Atlantic (2017)     Comedy   \n",
       "9737   193581  Black Butler: Book of the Atlantic (2017)    Fantasy   \n",
       "9738   193583               No Game No Life: Zero (2017)  Animation   \n",
       "9738   193583               No Game No Life: Zero (2017)     Comedy   \n",
       "9738   193583               No Game No Life: Zero (2017)    Fantasy   \n",
       "9739   193585                               Flint (2017)      Drama   \n",
       "9740   193587        Bungo Stray Dogs: Dead Apple (2018)     Action   \n",
       "9740   193587        Bungo Stray Dogs: Dead Apple (2018)  Animation   \n",
       "9741   193609        Andrew Dice Clay: Dice Rules (1991)     Comedy   \n",
       "\n",
       "     year_of_release  \n",
       "9737            2017  \n",
       "9737            2017  \n",
       "9737            2017  \n",
       "9738            2017  \n",
       "9738            2017  \n",
       "9738            2017  \n",
       "9739            2017  \n",
       "9740            2018  \n",
       "9740            2018  \n",
       "9741            1991  "
      ]
     },
     "execution_count": 17,
     "metadata": {},
     "output_type": "execute_result"
    }
   ],
   "source": [
    "movies_df.tail(10)"
   ]
  },
  {
   "cell_type": "code",
   "execution_count": 18,
   "id": "2d940099",
   "metadata": {
    "id": "2d940099"
   },
   "outputs": [],
   "source": [
    "def extract_title(t):\n",
    "    return t.split(\" (\")[0]"
   ]
  },
  {
   "cell_type": "code",
   "execution_count": 19,
   "id": "1695c864",
   "metadata": {
    "id": "1695c864"
   },
   "outputs": [],
   "source": [
    "movies_df['title'] = movies_df['title'].apply(extract_title)"
   ]
  },
  {
   "cell_type": "code",
   "execution_count": 20,
   "id": "4d000a5d",
   "metadata": {
    "colab": {
     "base_uri": "https://localhost:8080/",
     "height": 206
    },
    "id": "4d000a5d",
    "outputId": "2fdad1ab-79e3-41ab-9beb-896fbdcc5e4a"
   },
   "outputs": [
    {
     "data": {
      "text/html": [
       "<div>\n",
       "<style scoped>\n",
       "    .dataframe tbody tr th:only-of-type {\n",
       "        vertical-align: middle;\n",
       "    }\n",
       "\n",
       "    .dataframe tbody tr th {\n",
       "        vertical-align: top;\n",
       "    }\n",
       "\n",
       "    .dataframe thead th {\n",
       "        text-align: right;\n",
       "    }\n",
       "</style>\n",
       "<table border=\"1\" class=\"dataframe\">\n",
       "  <thead>\n",
       "    <tr style=\"text-align: right;\">\n",
       "      <th></th>\n",
       "      <th>movieId</th>\n",
       "      <th>title</th>\n",
       "      <th>genre</th>\n",
       "      <th>year_of_release</th>\n",
       "    </tr>\n",
       "  </thead>\n",
       "  <tbody>\n",
       "    <tr>\n",
       "      <th>9738</th>\n",
       "      <td>193583</td>\n",
       "      <td>No Game No Life: Zero</td>\n",
       "      <td>Fantasy</td>\n",
       "      <td>2017</td>\n",
       "    </tr>\n",
       "    <tr>\n",
       "      <th>9739</th>\n",
       "      <td>193585</td>\n",
       "      <td>Flint</td>\n",
       "      <td>Drama</td>\n",
       "      <td>2017</td>\n",
       "    </tr>\n",
       "    <tr>\n",
       "      <th>9740</th>\n",
       "      <td>193587</td>\n",
       "      <td>Bungo Stray Dogs: Dead Apple</td>\n",
       "      <td>Action</td>\n",
       "      <td>2018</td>\n",
       "    </tr>\n",
       "    <tr>\n",
       "      <th>9740</th>\n",
       "      <td>193587</td>\n",
       "      <td>Bungo Stray Dogs: Dead Apple</td>\n",
       "      <td>Animation</td>\n",
       "      <td>2018</td>\n",
       "    </tr>\n",
       "    <tr>\n",
       "      <th>9741</th>\n",
       "      <td>193609</td>\n",
       "      <td>Andrew Dice Clay: Dice Rules</td>\n",
       "      <td>Comedy</td>\n",
       "      <td>1991</td>\n",
       "    </tr>\n",
       "  </tbody>\n",
       "</table>\n",
       "</div>"
      ],
      "text/plain": [
       "      movieId                         title      genre year_of_release\n",
       "9738   193583         No Game No Life: Zero    Fantasy            2017\n",
       "9739   193585                         Flint      Drama            2017\n",
       "9740   193587  Bungo Stray Dogs: Dead Apple     Action            2018\n",
       "9740   193587  Bungo Stray Dogs: Dead Apple  Animation            2018\n",
       "9741   193609  Andrew Dice Clay: Dice Rules     Comedy            1991"
      ]
     },
     "execution_count": 20,
     "metadata": {},
     "output_type": "execute_result"
    }
   ],
   "source": [
    "movies_df.tail()"
   ]
  },
  {
   "cell_type": "markdown",
   "id": "6a4c72fc",
   "metadata": {
    "id": "6a4c72fc"
   },
   "source": [
    "## Ratings Data Preprocessing"
   ]
  },
  {
   "cell_type": "code",
   "execution_count": 21,
   "id": "115e2d0e",
   "metadata": {
    "id": "115e2d0e"
   },
   "outputs": [],
   "source": [
    "ratings_df = pd.read_csv(\"./Datasets/movie_lens_small/ratings.csv\")"
   ]
  },
  {
   "cell_type": "code",
   "execution_count": 22,
   "id": "6507ebd3",
   "metadata": {
    "colab": {
     "base_uri": "https://localhost:8080/",
     "height": 300
    },
    "id": "6507ebd3",
    "outputId": "4cd4cb37-08eb-438d-b117-ff2f76826bc9"
   },
   "outputs": [
    {
     "data": {
      "text/html": [
       "<div>\n",
       "<style scoped>\n",
       "    .dataframe tbody tr th:only-of-type {\n",
       "        vertical-align: middle;\n",
       "    }\n",
       "\n",
       "    .dataframe tbody tr th {\n",
       "        vertical-align: top;\n",
       "    }\n",
       "\n",
       "    .dataframe thead th {\n",
       "        text-align: right;\n",
       "    }\n",
       "</style>\n",
       "<table border=\"1\" class=\"dataframe\">\n",
       "  <thead>\n",
       "    <tr style=\"text-align: right;\">\n",
       "      <th></th>\n",
       "      <th>userId</th>\n",
       "      <th>movieId</th>\n",
       "      <th>rating</th>\n",
       "      <th>timestamp</th>\n",
       "    </tr>\n",
       "  </thead>\n",
       "  <tbody>\n",
       "    <tr>\n",
       "      <th>count</th>\n",
       "      <td>100836.000000</td>\n",
       "      <td>100836.000000</td>\n",
       "      <td>100836.000000</td>\n",
       "      <td>1.008360e+05</td>\n",
       "    </tr>\n",
       "    <tr>\n",
       "      <th>mean</th>\n",
       "      <td>326.127564</td>\n",
       "      <td>19435.295718</td>\n",
       "      <td>3.501557</td>\n",
       "      <td>1.205946e+09</td>\n",
       "    </tr>\n",
       "    <tr>\n",
       "      <th>std</th>\n",
       "      <td>182.618491</td>\n",
       "      <td>35530.987199</td>\n",
       "      <td>1.042529</td>\n",
       "      <td>2.162610e+08</td>\n",
       "    </tr>\n",
       "    <tr>\n",
       "      <th>min</th>\n",
       "      <td>1.000000</td>\n",
       "      <td>1.000000</td>\n",
       "      <td>0.500000</td>\n",
       "      <td>8.281246e+08</td>\n",
       "    </tr>\n",
       "    <tr>\n",
       "      <th>25%</th>\n",
       "      <td>177.000000</td>\n",
       "      <td>1199.000000</td>\n",
       "      <td>3.000000</td>\n",
       "      <td>1.019124e+09</td>\n",
       "    </tr>\n",
       "    <tr>\n",
       "      <th>50%</th>\n",
       "      <td>325.000000</td>\n",
       "      <td>2991.000000</td>\n",
       "      <td>3.500000</td>\n",
       "      <td>1.186087e+09</td>\n",
       "    </tr>\n",
       "    <tr>\n",
       "      <th>75%</th>\n",
       "      <td>477.000000</td>\n",
       "      <td>8122.000000</td>\n",
       "      <td>4.000000</td>\n",
       "      <td>1.435994e+09</td>\n",
       "    </tr>\n",
       "    <tr>\n",
       "      <th>max</th>\n",
       "      <td>610.000000</td>\n",
       "      <td>193609.000000</td>\n",
       "      <td>5.000000</td>\n",
       "      <td>1.537799e+09</td>\n",
       "    </tr>\n",
       "  </tbody>\n",
       "</table>\n",
       "</div>"
      ],
      "text/plain": [
       "              userId        movieId         rating     timestamp\n",
       "count  100836.000000  100836.000000  100836.000000  1.008360e+05\n",
       "mean      326.127564   19435.295718       3.501557  1.205946e+09\n",
       "std       182.618491   35530.987199       1.042529  2.162610e+08\n",
       "min         1.000000       1.000000       0.500000  8.281246e+08\n",
       "25%       177.000000    1199.000000       3.000000  1.019124e+09\n",
       "50%       325.000000    2991.000000       3.500000  1.186087e+09\n",
       "75%       477.000000    8122.000000       4.000000  1.435994e+09\n",
       "max       610.000000  193609.000000       5.000000  1.537799e+09"
      ]
     },
     "execution_count": 22,
     "metadata": {},
     "output_type": "execute_result"
    }
   ],
   "source": [
    "ratings_df.describe()"
   ]
  },
  {
   "cell_type": "code",
   "execution_count": 23,
   "id": "2588dc2a",
   "metadata": {
    "colab": {
     "base_uri": "https://localhost:8080/",
     "height": 206
    },
    "id": "2588dc2a",
    "outputId": "d36a5b63-1b31-47a7-8344-304fb2d4e63b"
   },
   "outputs": [
    {
     "data": {
      "text/html": [
       "<div>\n",
       "<style scoped>\n",
       "    .dataframe tbody tr th:only-of-type {\n",
       "        vertical-align: middle;\n",
       "    }\n",
       "\n",
       "    .dataframe tbody tr th {\n",
       "        vertical-align: top;\n",
       "    }\n",
       "\n",
       "    .dataframe thead th {\n",
       "        text-align: right;\n",
       "    }\n",
       "</style>\n",
       "<table border=\"1\" class=\"dataframe\">\n",
       "  <thead>\n",
       "    <tr style=\"text-align: right;\">\n",
       "      <th></th>\n",
       "      <th>userId</th>\n",
       "      <th>movieId</th>\n",
       "      <th>rating</th>\n",
       "      <th>timestamp</th>\n",
       "    </tr>\n",
       "  </thead>\n",
       "  <tbody>\n",
       "    <tr>\n",
       "      <th>0</th>\n",
       "      <td>1</td>\n",
       "      <td>1</td>\n",
       "      <td>4.0</td>\n",
       "      <td>964982703</td>\n",
       "    </tr>\n",
       "    <tr>\n",
       "      <th>1</th>\n",
       "      <td>1</td>\n",
       "      <td>3</td>\n",
       "      <td>4.0</td>\n",
       "      <td>964981247</td>\n",
       "    </tr>\n",
       "    <tr>\n",
       "      <th>2</th>\n",
       "      <td>1</td>\n",
       "      <td>6</td>\n",
       "      <td>4.0</td>\n",
       "      <td>964982224</td>\n",
       "    </tr>\n",
       "    <tr>\n",
       "      <th>3</th>\n",
       "      <td>1</td>\n",
       "      <td>47</td>\n",
       "      <td>5.0</td>\n",
       "      <td>964983815</td>\n",
       "    </tr>\n",
       "    <tr>\n",
       "      <th>4</th>\n",
       "      <td>1</td>\n",
       "      <td>50</td>\n",
       "      <td>5.0</td>\n",
       "      <td>964982931</td>\n",
       "    </tr>\n",
       "  </tbody>\n",
       "</table>\n",
       "</div>"
      ],
      "text/plain": [
       "   userId  movieId  rating  timestamp\n",
       "0       1        1     4.0  964982703\n",
       "1       1        3     4.0  964981247\n",
       "2       1        6     4.0  964982224\n",
       "3       1       47     5.0  964983815\n",
       "4       1       50     5.0  964982931"
      ]
     },
     "execution_count": 23,
     "metadata": {},
     "output_type": "execute_result"
    }
   ],
   "source": [
    "ratings_df.head()"
   ]
  },
  {
   "cell_type": "code",
   "execution_count": 24,
   "id": "f737e70d",
   "metadata": {
    "colab": {
     "base_uri": "https://localhost:8080/"
    },
    "id": "f737e70d",
    "outputId": "1ca6e1dd-1fcb-4839-e661-e978aba8bca2"
   },
   "outputs": [
    {
     "name": "stdout",
     "output_type": "stream",
     "text": [
      "<class 'pandas.core.frame.DataFrame'>\n",
      "RangeIndex: 100836 entries, 0 to 100835\n",
      "Data columns (total 4 columns):\n",
      " #   Column     Non-Null Count   Dtype  \n",
      "---  ------     --------------   -----  \n",
      " 0   userId     100836 non-null  int64  \n",
      " 1   movieId    100836 non-null  int64  \n",
      " 2   rating     100836 non-null  float64\n",
      " 3   timestamp  100836 non-null  int64  \n",
      "dtypes: float64(1), int64(3)\n",
      "memory usage: 3.1 MB\n"
     ]
    }
   ],
   "source": [
    "ratings_df.info()"
   ]
  },
  {
   "cell_type": "code",
   "execution_count": 25,
   "id": "e1edcea8",
   "metadata": {
    "colab": {
     "base_uri": "https://localhost:8080/"
    },
    "id": "e1edcea8",
    "outputId": "51a16d97-1bd3-489a-beb3-832715c198f2"
   },
   "outputs": [
    {
     "data": {
      "text/plain": [
       "100836"
      ]
     },
     "execution_count": 25,
     "metadata": {},
     "output_type": "execute_result"
    }
   ],
   "source": [
    "ratings_df.shape[0]"
   ]
  },
  {
   "cell_type": "code",
   "execution_count": 26,
   "id": "92f28eee",
   "metadata": {
    "colab": {
     "base_uri": "https://localhost:8080/"
    },
    "id": "92f28eee",
    "outputId": "2aef5d58-d7ea-4716-cc80-690016f564eb"
   },
   "outputs": [
    {
     "data": {
      "text/plain": [
       "userId       0\n",
       "movieId      0\n",
       "rating       0\n",
       "timestamp    0\n",
       "dtype: int64"
      ]
     },
     "execution_count": 26,
     "metadata": {},
     "output_type": "execute_result"
    }
   ],
   "source": [
    "ratings_df.isnull().sum().sort_values()"
   ]
  },
  {
   "cell_type": "code",
   "execution_count": 27,
   "id": "62a77f84",
   "metadata": {
    "colab": {
     "base_uri": "https://localhost:8080/"
    },
    "id": "62a77f84",
    "outputId": "86c30bec-5662-4e54-f231-c35f5d0a0767"
   },
   "outputs": [
    {
     "name": "stdout",
     "output_type": "stream",
     "text": [
      "Number of unknown values for the attribute userId = 0\n",
      "Number of unknown values for the attribute movieId = 0\n",
      "Number of unknown values for the attribute rating = 0\n",
      "Number of unknown values for the attribute timestamp = 0\n"
     ]
    }
   ],
   "source": [
    "unknown_valued_columns=[]\n",
    "for c in ratings_df.columns:\n",
    "    print(\"Number of unknown values for the attribute\",c,\"=\",ratings_df.loc[ratings_df[c] == '?'].shape[0])\n",
    "    unknown_valued_columns.append(c)"
   ]
  },
  {
   "cell_type": "code",
   "execution_count": 28,
   "id": "7f4ae8ee",
   "metadata": {
    "id": "7f4ae8ee"
   },
   "outputs": [],
   "source": [
    "ratings_df['date']=ratings_df['timestamp'].apply(lambda x: datetime.fromtimestamp(x).strftime( \"%d-%m-%Y\"))"
   ]
  },
  {
   "cell_type": "code",
   "execution_count": 29,
   "id": "1f417f17",
   "metadata": {
    "colab": {
     "base_uri": "https://localhost:8080/",
     "height": 206
    },
    "id": "1f417f17",
    "outputId": "dfa7223f-2fe0-4bf2-dd54-3730090b9e8f"
   },
   "outputs": [
    {
     "data": {
      "text/html": [
       "<div>\n",
       "<style scoped>\n",
       "    .dataframe tbody tr th:only-of-type {\n",
       "        vertical-align: middle;\n",
       "    }\n",
       "\n",
       "    .dataframe tbody tr th {\n",
       "        vertical-align: top;\n",
       "    }\n",
       "\n",
       "    .dataframe thead th {\n",
       "        text-align: right;\n",
       "    }\n",
       "</style>\n",
       "<table border=\"1\" class=\"dataframe\">\n",
       "  <thead>\n",
       "    <tr style=\"text-align: right;\">\n",
       "      <th></th>\n",
       "      <th>userId</th>\n",
       "      <th>movieId</th>\n",
       "      <th>rating</th>\n",
       "      <th>timestamp</th>\n",
       "      <th>date</th>\n",
       "    </tr>\n",
       "  </thead>\n",
       "  <tbody>\n",
       "    <tr>\n",
       "      <th>100831</th>\n",
       "      <td>610</td>\n",
       "      <td>166534</td>\n",
       "      <td>4.0</td>\n",
       "      <td>1493848402</td>\n",
       "      <td>03-05-2017</td>\n",
       "    </tr>\n",
       "    <tr>\n",
       "      <th>100832</th>\n",
       "      <td>610</td>\n",
       "      <td>168248</td>\n",
       "      <td>5.0</td>\n",
       "      <td>1493850091</td>\n",
       "      <td>03-05-2017</td>\n",
       "    </tr>\n",
       "    <tr>\n",
       "      <th>100833</th>\n",
       "      <td>610</td>\n",
       "      <td>168250</td>\n",
       "      <td>5.0</td>\n",
       "      <td>1494273047</td>\n",
       "      <td>08-05-2017</td>\n",
       "    </tr>\n",
       "    <tr>\n",
       "      <th>100834</th>\n",
       "      <td>610</td>\n",
       "      <td>168252</td>\n",
       "      <td>5.0</td>\n",
       "      <td>1493846352</td>\n",
       "      <td>03-05-2017</td>\n",
       "    </tr>\n",
       "    <tr>\n",
       "      <th>100835</th>\n",
       "      <td>610</td>\n",
       "      <td>170875</td>\n",
       "      <td>3.0</td>\n",
       "      <td>1493846415</td>\n",
       "      <td>03-05-2017</td>\n",
       "    </tr>\n",
       "  </tbody>\n",
       "</table>\n",
       "</div>"
      ],
      "text/plain": [
       "        userId  movieId  rating   timestamp        date\n",
       "100831     610   166534     4.0  1493848402  03-05-2017\n",
       "100832     610   168248     5.0  1493850091  03-05-2017\n",
       "100833     610   168250     5.0  1494273047  08-05-2017\n",
       "100834     610   168252     5.0  1493846352  03-05-2017\n",
       "100835     610   170875     3.0  1493846415  03-05-2017"
      ]
     },
     "execution_count": 29,
     "metadata": {},
     "output_type": "execute_result"
    }
   ],
   "source": [
    "ratings_df.tail()"
   ]
  },
  {
   "cell_type": "markdown",
   "id": "065af75c",
   "metadata": {
    "id": "065af75c"
   },
   "source": [
    "## Tags Data Preprocessing"
   ]
  },
  {
   "cell_type": "code",
   "execution_count": 30,
   "id": "67091dd9",
   "metadata": {
    "id": "67091dd9"
   },
   "outputs": [],
   "source": [
    "tags_df = pd.read_csv(\"./Datasets/movie_lens_small/tags.csv\")"
   ]
  },
  {
   "cell_type": "code",
   "execution_count": 31,
   "id": "076bbc72",
   "metadata": {
    "colab": {
     "base_uri": "https://localhost:8080/",
     "height": 300
    },
    "id": "076bbc72",
    "outputId": "3485b273-4d82-41c3-f578-5888436c2e90"
   },
   "outputs": [
    {
     "data": {
      "text/html": [
       "<div>\n",
       "<style scoped>\n",
       "    .dataframe tbody tr th:only-of-type {\n",
       "        vertical-align: middle;\n",
       "    }\n",
       "\n",
       "    .dataframe tbody tr th {\n",
       "        vertical-align: top;\n",
       "    }\n",
       "\n",
       "    .dataframe thead th {\n",
       "        text-align: right;\n",
       "    }\n",
       "</style>\n",
       "<table border=\"1\" class=\"dataframe\">\n",
       "  <thead>\n",
       "    <tr style=\"text-align: right;\">\n",
       "      <th></th>\n",
       "      <th>userId</th>\n",
       "      <th>movieId</th>\n",
       "      <th>timestamp</th>\n",
       "    </tr>\n",
       "  </thead>\n",
       "  <tbody>\n",
       "    <tr>\n",
       "      <th>count</th>\n",
       "      <td>3683.000000</td>\n",
       "      <td>3683.000000</td>\n",
       "      <td>3.683000e+03</td>\n",
       "    </tr>\n",
       "    <tr>\n",
       "      <th>mean</th>\n",
       "      <td>431.149335</td>\n",
       "      <td>27252.013576</td>\n",
       "      <td>1.320032e+09</td>\n",
       "    </tr>\n",
       "    <tr>\n",
       "      <th>std</th>\n",
       "      <td>158.472553</td>\n",
       "      <td>43490.558803</td>\n",
       "      <td>1.721025e+08</td>\n",
       "    </tr>\n",
       "    <tr>\n",
       "      <th>min</th>\n",
       "      <td>2.000000</td>\n",
       "      <td>1.000000</td>\n",
       "      <td>1.137179e+09</td>\n",
       "    </tr>\n",
       "    <tr>\n",
       "      <th>25%</th>\n",
       "      <td>424.000000</td>\n",
       "      <td>1262.500000</td>\n",
       "      <td>1.137521e+09</td>\n",
       "    </tr>\n",
       "    <tr>\n",
       "      <th>50%</th>\n",
       "      <td>474.000000</td>\n",
       "      <td>4454.000000</td>\n",
       "      <td>1.269833e+09</td>\n",
       "    </tr>\n",
       "    <tr>\n",
       "      <th>75%</th>\n",
       "      <td>477.000000</td>\n",
       "      <td>39263.000000</td>\n",
       "      <td>1.498457e+09</td>\n",
       "    </tr>\n",
       "    <tr>\n",
       "      <th>max</th>\n",
       "      <td>610.000000</td>\n",
       "      <td>193565.000000</td>\n",
       "      <td>1.537099e+09</td>\n",
       "    </tr>\n",
       "  </tbody>\n",
       "</table>\n",
       "</div>"
      ],
      "text/plain": [
       "            userId        movieId     timestamp\n",
       "count  3683.000000    3683.000000  3.683000e+03\n",
       "mean    431.149335   27252.013576  1.320032e+09\n",
       "std     158.472553   43490.558803  1.721025e+08\n",
       "min       2.000000       1.000000  1.137179e+09\n",
       "25%     424.000000    1262.500000  1.137521e+09\n",
       "50%     474.000000    4454.000000  1.269833e+09\n",
       "75%     477.000000   39263.000000  1.498457e+09\n",
       "max     610.000000  193565.000000  1.537099e+09"
      ]
     },
     "execution_count": 31,
     "metadata": {},
     "output_type": "execute_result"
    }
   ],
   "source": [
    "tags_df.describe()"
   ]
  },
  {
   "cell_type": "code",
   "execution_count": 32,
   "id": "36733a33",
   "metadata": {
    "colab": {
     "base_uri": "https://localhost:8080/",
     "height": 206
    },
    "id": "36733a33",
    "outputId": "42861c88-49ed-4529-a8e1-1167ff732f0f"
   },
   "outputs": [
    {
     "data": {
      "text/html": [
       "<div>\n",
       "<style scoped>\n",
       "    .dataframe tbody tr th:only-of-type {\n",
       "        vertical-align: middle;\n",
       "    }\n",
       "\n",
       "    .dataframe tbody tr th {\n",
       "        vertical-align: top;\n",
       "    }\n",
       "\n",
       "    .dataframe thead th {\n",
       "        text-align: right;\n",
       "    }\n",
       "</style>\n",
       "<table border=\"1\" class=\"dataframe\">\n",
       "  <thead>\n",
       "    <tr style=\"text-align: right;\">\n",
       "      <th></th>\n",
       "      <th>userId</th>\n",
       "      <th>movieId</th>\n",
       "      <th>tag</th>\n",
       "      <th>timestamp</th>\n",
       "    </tr>\n",
       "  </thead>\n",
       "  <tbody>\n",
       "    <tr>\n",
       "      <th>0</th>\n",
       "      <td>2</td>\n",
       "      <td>60756</td>\n",
       "      <td>funny</td>\n",
       "      <td>1445714994</td>\n",
       "    </tr>\n",
       "    <tr>\n",
       "      <th>1</th>\n",
       "      <td>2</td>\n",
       "      <td>60756</td>\n",
       "      <td>Highly quotable</td>\n",
       "      <td>1445714996</td>\n",
       "    </tr>\n",
       "    <tr>\n",
       "      <th>2</th>\n",
       "      <td>2</td>\n",
       "      <td>60756</td>\n",
       "      <td>will ferrell</td>\n",
       "      <td>1445714992</td>\n",
       "    </tr>\n",
       "    <tr>\n",
       "      <th>3</th>\n",
       "      <td>2</td>\n",
       "      <td>89774</td>\n",
       "      <td>Boxing story</td>\n",
       "      <td>1445715207</td>\n",
       "    </tr>\n",
       "    <tr>\n",
       "      <th>4</th>\n",
       "      <td>2</td>\n",
       "      <td>89774</td>\n",
       "      <td>MMA</td>\n",
       "      <td>1445715200</td>\n",
       "    </tr>\n",
       "  </tbody>\n",
       "</table>\n",
       "</div>"
      ],
      "text/plain": [
       "   userId  movieId              tag   timestamp\n",
       "0       2    60756            funny  1445714994\n",
       "1       2    60756  Highly quotable  1445714996\n",
       "2       2    60756     will ferrell  1445714992\n",
       "3       2    89774     Boxing story  1445715207\n",
       "4       2    89774              MMA  1445715200"
      ]
     },
     "execution_count": 32,
     "metadata": {},
     "output_type": "execute_result"
    }
   ],
   "source": [
    "tags_df.head()"
   ]
  },
  {
   "cell_type": "code",
   "execution_count": 33,
   "id": "c8e604b4",
   "metadata": {
    "colab": {
     "base_uri": "https://localhost:8080/"
    },
    "id": "c8e604b4",
    "outputId": "08d3501a-754e-4e02-e899-db6bafa3f97f"
   },
   "outputs": [
    {
     "name": "stdout",
     "output_type": "stream",
     "text": [
      "<class 'pandas.core.frame.DataFrame'>\n",
      "RangeIndex: 3683 entries, 0 to 3682\n",
      "Data columns (total 4 columns):\n",
      " #   Column     Non-Null Count  Dtype \n",
      "---  ------     --------------  ----- \n",
      " 0   userId     3683 non-null   int64 \n",
      " 1   movieId    3683 non-null   int64 \n",
      " 2   tag        3683 non-null   object\n",
      " 3   timestamp  3683 non-null   int64 \n",
      "dtypes: int64(3), object(1)\n",
      "memory usage: 115.2+ KB\n"
     ]
    }
   ],
   "source": [
    "tags_df.info()"
   ]
  },
  {
   "cell_type": "code",
   "execution_count": 34,
   "id": "6f63d62a",
   "metadata": {
    "colab": {
     "base_uri": "https://localhost:8080/"
    },
    "id": "6f63d62a",
    "outputId": "304ea729-f833-4702-a46f-d91a8df76b99"
   },
   "outputs": [
    {
     "data": {
      "text/plain": [
       "3683"
      ]
     },
     "execution_count": 34,
     "metadata": {},
     "output_type": "execute_result"
    }
   ],
   "source": [
    "tags_df.shape[0]"
   ]
  },
  {
   "cell_type": "code",
   "execution_count": 35,
   "id": "140220d0",
   "metadata": {
    "colab": {
     "base_uri": "https://localhost:8080/"
    },
    "id": "140220d0",
    "outputId": "54eccc4e-c5a7-4f8d-93a1-74c2a2c30475"
   },
   "outputs": [
    {
     "data": {
      "text/plain": [
       "userId       0\n",
       "movieId      0\n",
       "tag          0\n",
       "timestamp    0\n",
       "dtype: int64"
      ]
     },
     "execution_count": 35,
     "metadata": {},
     "output_type": "execute_result"
    }
   ],
   "source": [
    "tags_df.isnull().sum().sort_values()"
   ]
  },
  {
   "cell_type": "code",
   "execution_count": 36,
   "id": "ee1ad3ee",
   "metadata": {
    "colab": {
     "base_uri": "https://localhost:8080/"
    },
    "id": "ee1ad3ee",
    "outputId": "c4df60a7-7bf6-401e-9b4d-cf0bb8d77a81"
   },
   "outputs": [
    {
     "name": "stdout",
     "output_type": "stream",
     "text": [
      "Number of unknown values for the attribute userId = 0\n",
      "Number of unknown values for the attribute movieId = 0\n",
      "Number of unknown values for the attribute tag = 0\n",
      "Number of unknown values for the attribute timestamp = 0\n"
     ]
    }
   ],
   "source": [
    "unknown_valued_columns=[]\n",
    "for c in tags_df.columns:\n",
    "    print(\"Number of unknown values for the attribute\",c,\"=\",tags_df.loc[tags_df[c] == '?'].shape[0])\n",
    "    unknown_valued_columns.append(c)"
   ]
  },
  {
   "cell_type": "code",
   "execution_count": 37,
   "id": "a5086229",
   "metadata": {
    "id": "a5086229"
   },
   "outputs": [],
   "source": [
    "tags_df['date']=tags_df['timestamp'].apply(lambda x: datetime.fromtimestamp(x).strftime( \"%d-%m-%Y\"))"
   ]
  },
  {
   "cell_type": "code",
   "execution_count": 38,
   "id": "b561f864",
   "metadata": {
    "colab": {
     "base_uri": "https://localhost:8080/",
     "height": 206
    },
    "id": "b561f864",
    "outputId": "5e25a553-f677-43a7-bf6f-d61bcd2fe3f4"
   },
   "outputs": [
    {
     "data": {
      "text/html": [
       "<div>\n",
       "<style scoped>\n",
       "    .dataframe tbody tr th:only-of-type {\n",
       "        vertical-align: middle;\n",
       "    }\n",
       "\n",
       "    .dataframe tbody tr th {\n",
       "        vertical-align: top;\n",
       "    }\n",
       "\n",
       "    .dataframe thead th {\n",
       "        text-align: right;\n",
       "    }\n",
       "</style>\n",
       "<table border=\"1\" class=\"dataframe\">\n",
       "  <thead>\n",
       "    <tr style=\"text-align: right;\">\n",
       "      <th></th>\n",
       "      <th>userId</th>\n",
       "      <th>movieId</th>\n",
       "      <th>tag</th>\n",
       "      <th>timestamp</th>\n",
       "      <th>date</th>\n",
       "    </tr>\n",
       "  </thead>\n",
       "  <tbody>\n",
       "    <tr>\n",
       "      <th>3678</th>\n",
       "      <td>606</td>\n",
       "      <td>7382</td>\n",
       "      <td>for katie</td>\n",
       "      <td>1171234019</td>\n",
       "      <td>11-02-2007</td>\n",
       "    </tr>\n",
       "    <tr>\n",
       "      <th>3679</th>\n",
       "      <td>606</td>\n",
       "      <td>7936</td>\n",
       "      <td>austere</td>\n",
       "      <td>1173392334</td>\n",
       "      <td>08-03-2007</td>\n",
       "    </tr>\n",
       "    <tr>\n",
       "      <th>3680</th>\n",
       "      <td>610</td>\n",
       "      <td>3265</td>\n",
       "      <td>gun fu</td>\n",
       "      <td>1493843984</td>\n",
       "      <td>03-05-2017</td>\n",
       "    </tr>\n",
       "    <tr>\n",
       "      <th>3681</th>\n",
       "      <td>610</td>\n",
       "      <td>3265</td>\n",
       "      <td>heroic bloodshed</td>\n",
       "      <td>1493843978</td>\n",
       "      <td>03-05-2017</td>\n",
       "    </tr>\n",
       "    <tr>\n",
       "      <th>3682</th>\n",
       "      <td>610</td>\n",
       "      <td>168248</td>\n",
       "      <td>Heroic Bloodshed</td>\n",
       "      <td>1493844270</td>\n",
       "      <td>03-05-2017</td>\n",
       "    </tr>\n",
       "  </tbody>\n",
       "</table>\n",
       "</div>"
      ],
      "text/plain": [
       "      userId  movieId               tag   timestamp        date\n",
       "3678     606     7382         for katie  1171234019  11-02-2007\n",
       "3679     606     7936           austere  1173392334  08-03-2007\n",
       "3680     610     3265            gun fu  1493843984  03-05-2017\n",
       "3681     610     3265  heroic bloodshed  1493843978  03-05-2017\n",
       "3682     610   168248  Heroic Bloodshed  1493844270  03-05-2017"
      ]
     },
     "execution_count": 38,
     "metadata": {},
     "output_type": "execute_result"
    }
   ],
   "source": [
    "tags_df.tail()"
   ]
  },
  {
   "cell_type": "markdown",
   "id": "fb6ddc7d",
   "metadata": {
    "id": "fb6ddc7d"
   },
   "source": [
    "## Integrated Data Preprocessing"
   ]
  },
  {
   "cell_type": "code",
   "execution_count": 39,
   "id": "Nqk2iyk-Ms4T",
   "metadata": {
    "id": "Nqk2iyk-Ms4T"
   },
   "outputs": [],
   "source": [
    "ratings_df1=copy.deepcopy(ratings_df)\n",
    "\n",
    "ratings_df1.drop(columns=['timestamp'],inplace=True)\n",
    "\n",
    "ratings_df1.rename(columns={\"date\": \"rated_on\"}, inplace=True)"
   ]
  },
  {
   "cell_type": "code",
   "execution_count": 40,
   "id": "vCw4I3QYMkCC",
   "metadata": {
    "id": "vCw4I3QYMkCC"
   },
   "outputs": [],
   "source": [
    "df=movies_df.merge(ratings_df1,how='inner',on='movieId')"
   ]
  },
  {
   "cell_type": "code",
   "execution_count": 41,
   "id": "6V95FPPkMqvG",
   "metadata": {
    "colab": {
     "base_uri": "https://localhost:8080/",
     "height": 206
    },
    "id": "6V95FPPkMqvG",
    "outputId": "93790c1b-7d27-4d51-8dad-e0d0f1c6bea9"
   },
   "outputs": [
    {
     "data": {
      "text/html": [
       "<div>\n",
       "<style scoped>\n",
       "    .dataframe tbody tr th:only-of-type {\n",
       "        vertical-align: middle;\n",
       "    }\n",
       "\n",
       "    .dataframe tbody tr th {\n",
       "        vertical-align: top;\n",
       "    }\n",
       "\n",
       "    .dataframe thead th {\n",
       "        text-align: right;\n",
       "    }\n",
       "</style>\n",
       "<table border=\"1\" class=\"dataframe\">\n",
       "  <thead>\n",
       "    <tr style=\"text-align: right;\">\n",
       "      <th></th>\n",
       "      <th>movieId</th>\n",
       "      <th>title</th>\n",
       "      <th>genre</th>\n",
       "      <th>year_of_release</th>\n",
       "      <th>userId</th>\n",
       "      <th>rating</th>\n",
       "      <th>rated_on</th>\n",
       "    </tr>\n",
       "  </thead>\n",
       "  <tbody>\n",
       "    <tr>\n",
       "      <th>0</th>\n",
       "      <td>1</td>\n",
       "      <td>Toy Story</td>\n",
       "      <td>Adventure</td>\n",
       "      <td>1995</td>\n",
       "      <td>1</td>\n",
       "      <td>4.0</td>\n",
       "      <td>30-07-2000</td>\n",
       "    </tr>\n",
       "    <tr>\n",
       "      <th>1</th>\n",
       "      <td>1</td>\n",
       "      <td>Toy Story</td>\n",
       "      <td>Adventure</td>\n",
       "      <td>1995</td>\n",
       "      <td>5</td>\n",
       "      <td>4.0</td>\n",
       "      <td>08-11-1996</td>\n",
       "    </tr>\n",
       "    <tr>\n",
       "      <th>2</th>\n",
       "      <td>1</td>\n",
       "      <td>Toy Story</td>\n",
       "      <td>Adventure</td>\n",
       "      <td>1995</td>\n",
       "      <td>7</td>\n",
       "      <td>4.5</td>\n",
       "      <td>25-01-2005</td>\n",
       "    </tr>\n",
       "    <tr>\n",
       "      <th>3</th>\n",
       "      <td>1</td>\n",
       "      <td>Toy Story</td>\n",
       "      <td>Adventure</td>\n",
       "      <td>1995</td>\n",
       "      <td>15</td>\n",
       "      <td>2.5</td>\n",
       "      <td>13-11-2017</td>\n",
       "    </tr>\n",
       "    <tr>\n",
       "      <th>4</th>\n",
       "      <td>1</td>\n",
       "      <td>Toy Story</td>\n",
       "      <td>Adventure</td>\n",
       "      <td>1995</td>\n",
       "      <td>17</td>\n",
       "      <td>4.5</td>\n",
       "      <td>18-05-2011</td>\n",
       "    </tr>\n",
       "  </tbody>\n",
       "</table>\n",
       "</div>"
      ],
      "text/plain": [
       "   movieId      title      genre year_of_release  userId  rating    rated_on\n",
       "0        1  Toy Story  Adventure            1995       1     4.0  30-07-2000\n",
       "1        1  Toy Story  Adventure            1995       5     4.0  08-11-1996\n",
       "2        1  Toy Story  Adventure            1995       7     4.5  25-01-2005\n",
       "3        1  Toy Story  Adventure            1995      15     2.5  13-11-2017\n",
       "4        1  Toy Story  Adventure            1995      17     4.5  18-05-2011"
      ]
     },
     "execution_count": 41,
     "metadata": {},
     "output_type": "execute_result"
    }
   ],
   "source": [
    "df.head()"
   ]
  },
  {
   "cell_type": "code",
   "execution_count": 42,
   "id": "zUamsDT2-qHw",
   "metadata": {
    "colab": {
     "base_uri": "https://localhost:8080/"
    },
    "id": "zUamsDT2-qHw",
    "outputId": "21de6834-2527-41eb-dd6d-3c8de79c992d"
   },
   "outputs": [
    {
     "data": {
      "text/plain": [
       "274480"
      ]
     },
     "execution_count": 42,
     "metadata": {},
     "output_type": "execute_result"
    }
   ],
   "source": [
    "df.shape[0]"
   ]
  },
  {
   "cell_type": "code",
   "execution_count": 43,
   "id": "RTzfJIHW-Xes",
   "metadata": {
    "id": "RTzfJIHW-Xes"
   },
   "outputs": [],
   "source": [
    "df.drop(df.loc[df[\"year_of_release\"]==\"\"].index, inplace=True)"
   ]
  },
  {
   "cell_type": "code",
   "execution_count": null,
   "id": "EH9tHtc8-tMz",
   "metadata": {
    "id": "EH9tHtc8-tMz"
   },
   "outputs": [],
   "source": []
  },
  {
   "cell_type": "markdown",
   "id": "-No79R7mkQ86",
   "metadata": {
    "id": "-No79R7mkQ86"
   },
   "source": [
    "## Movies Data Set EDA"
   ]
  },
  {
   "cell_type": "code",
   "execution_count": 44,
   "id": "4pCL6LVXjxp0",
   "metadata": {
    "colab": {
     "base_uri": "https://localhost:8080/",
     "height": 206
    },
    "id": "4pCL6LVXjxp0",
    "outputId": "800d65c5-4221-4f0b-c655-d677043cec73"
   },
   "outputs": [
    {
     "data": {
      "text/html": [
       "<div>\n",
       "<style scoped>\n",
       "    .dataframe tbody tr th:only-of-type {\n",
       "        vertical-align: middle;\n",
       "    }\n",
       "\n",
       "    .dataframe tbody tr th {\n",
       "        vertical-align: top;\n",
       "    }\n",
       "\n",
       "    .dataframe thead th {\n",
       "        text-align: right;\n",
       "    }\n",
       "</style>\n",
       "<table border=\"1\" class=\"dataframe\">\n",
       "  <thead>\n",
       "    <tr style=\"text-align: right;\">\n",
       "      <th></th>\n",
       "      <th>movieId</th>\n",
       "      <th>title</th>\n",
       "      <th>genre</th>\n",
       "      <th>year_of_release</th>\n",
       "    </tr>\n",
       "  </thead>\n",
       "  <tbody>\n",
       "    <tr>\n",
       "      <th>0</th>\n",
       "      <td>1</td>\n",
       "      <td>Toy Story</td>\n",
       "      <td>Adventure</td>\n",
       "      <td>1995</td>\n",
       "    </tr>\n",
       "    <tr>\n",
       "      <th>0</th>\n",
       "      <td>1</td>\n",
       "      <td>Toy Story</td>\n",
       "      <td>Animation</td>\n",
       "      <td>1995</td>\n",
       "    </tr>\n",
       "    <tr>\n",
       "      <th>0</th>\n",
       "      <td>1</td>\n",
       "      <td>Toy Story</td>\n",
       "      <td>Children</td>\n",
       "      <td>1995</td>\n",
       "    </tr>\n",
       "    <tr>\n",
       "      <th>0</th>\n",
       "      <td>1</td>\n",
       "      <td>Toy Story</td>\n",
       "      <td>Comedy</td>\n",
       "      <td>1995</td>\n",
       "    </tr>\n",
       "    <tr>\n",
       "      <th>0</th>\n",
       "      <td>1</td>\n",
       "      <td>Toy Story</td>\n",
       "      <td>Fantasy</td>\n",
       "      <td>1995</td>\n",
       "    </tr>\n",
       "  </tbody>\n",
       "</table>\n",
       "</div>"
      ],
      "text/plain": [
       "   movieId      title      genre year_of_release\n",
       "0        1  Toy Story  Adventure            1995\n",
       "0        1  Toy Story  Animation            1995\n",
       "0        1  Toy Story   Children            1995\n",
       "0        1  Toy Story     Comedy            1995\n",
       "0        1  Toy Story    Fantasy            1995"
      ]
     },
     "execution_count": 44,
     "metadata": {},
     "output_type": "execute_result"
    }
   ],
   "source": [
    "movies_df.head()"
   ]
  },
  {
   "cell_type": "code",
   "execution_count": 45,
   "id": "vzMqJdYBpKSH",
   "metadata": {
    "colab": {
     "base_uri": "https://localhost:8080/"
    },
    "id": "vzMqJdYBpKSH",
    "outputId": "de0a55c1-8d53-4d23-e3b2-4ea17c61c603"
   },
   "outputs": [
    {
     "data": {
      "text/plain": [
       "array(['Adventure', 'Animation', 'Children', 'Comedy', 'Fantasy',\n",
       "       'Romance', 'Drama', 'Action', 'Crime', 'Thriller', 'Horror',\n",
       "       'Mystery', 'Sci-Fi', 'War', 'Musical', 'Documentary', 'IMAX',\n",
       "       'Western', 'Film-Noir', '(no genres listed)'], dtype=object)"
      ]
     },
     "execution_count": 45,
     "metadata": {},
     "output_type": "execute_result"
    }
   ],
   "source": [
    "movies_df[\"genre\"].unique()"
   ]
  },
  {
   "cell_type": "code",
   "execution_count": 46,
   "id": "VvBPy51hkHN0",
   "metadata": {
    "id": "VvBPy51hkHN0"
   },
   "outputs": [],
   "source": [
    "average_movie_rating=df.groupby('title', as_index=False)['rating'].mean().sort_values('rating',ascending=False)"
   ]
  },
  {
   "cell_type": "code",
   "execution_count": 47,
   "id": "e6I0nMtx2LEM",
   "metadata": {
    "colab": {
     "base_uri": "https://localhost:8080/",
     "height": 206
    },
    "id": "e6I0nMtx2LEM",
    "outputId": "dd80a1d9-c6b5-4cfc-f8f1-6632a3853d22"
   },
   "outputs": [
    {
     "data": {
      "text/html": [
       "<div>\n",
       "<style scoped>\n",
       "    .dataframe tbody tr th:only-of-type {\n",
       "        vertical-align: middle;\n",
       "    }\n",
       "\n",
       "    .dataframe tbody tr th {\n",
       "        vertical-align: top;\n",
       "    }\n",
       "\n",
       "    .dataframe thead th {\n",
       "        text-align: right;\n",
       "    }\n",
       "</style>\n",
       "<table border=\"1\" class=\"dataframe\">\n",
       "  <thead>\n",
       "    <tr style=\"text-align: right;\">\n",
       "      <th></th>\n",
       "      <th>title</th>\n",
       "      <th>rating</th>\n",
       "    </tr>\n",
       "  </thead>\n",
       "  <tbody>\n",
       "    <tr>\n",
       "      <th>731</th>\n",
       "      <td>Battle For Sevastopol</td>\n",
       "      <td>5.0</td>\n",
       "    </tr>\n",
       "    <tr>\n",
       "      <th>2957</th>\n",
       "      <td>Girls About Town</td>\n",
       "      <td>5.0</td>\n",
       "    </tr>\n",
       "    <tr>\n",
       "      <th>3205</th>\n",
       "      <td>Harlan County U.S.A.</td>\n",
       "      <td>5.0</td>\n",
       "    </tr>\n",
       "    <tr>\n",
       "      <th>3185</th>\n",
       "      <td>Happy Feet Two</td>\n",
       "      <td>5.0</td>\n",
       "    </tr>\n",
       "    <tr>\n",
       "      <th>8220</th>\n",
       "      <td>Woman Under the Influence, A</td>\n",
       "      <td>5.0</td>\n",
       "    </tr>\n",
       "  </tbody>\n",
       "</table>\n",
       "</div>"
      ],
      "text/plain": [
       "                             title  rating\n",
       "731          Battle For Sevastopol     5.0\n",
       "2957              Girls About Town     5.0\n",
       "3205          Harlan County U.S.A.     5.0\n",
       "3185                Happy Feet Two     5.0\n",
       "8220  Woman Under the Influence, A     5.0"
      ]
     },
     "execution_count": 47,
     "metadata": {},
     "output_type": "execute_result"
    }
   ],
   "source": [
    "average_movie_rating.head()"
   ]
  },
  {
   "cell_type": "code",
   "execution_count": 48,
   "id": "IeM5b4XD2ESX",
   "metadata": {
    "id": "IeM5b4XD2ESX"
   },
   "outputs": [],
   "source": [
    "genre_rating=df.groupby('genre', as_index=False)['rating'].mean().sort_values('rating',ascending=False)"
   ]
  },
  {
   "cell_type": "code",
   "execution_count": 49,
   "id": "hDyK13P-3I5R",
   "metadata": {
    "colab": {
     "base_uri": "https://localhost:8080/",
     "height": 206
    },
    "id": "hDyK13P-3I5R",
    "outputId": "e297402a-645f-4818-d0e9-464ef6a02f59"
   },
   "outputs": [
    {
     "data": {
      "text/html": [
       "<div>\n",
       "<style scoped>\n",
       "    .dataframe tbody tr th:only-of-type {\n",
       "        vertical-align: middle;\n",
       "    }\n",
       "\n",
       "    .dataframe tbody tr th {\n",
       "        vertical-align: top;\n",
       "    }\n",
       "\n",
       "    .dataframe thead th {\n",
       "        text-align: right;\n",
       "    }\n",
       "</style>\n",
       "<table border=\"1\" class=\"dataframe\">\n",
       "  <thead>\n",
       "    <tr style=\"text-align: right;\">\n",
       "      <th></th>\n",
       "      <th>genre</th>\n",
       "      <th>rating</th>\n",
       "    </tr>\n",
       "  </thead>\n",
       "  <tbody>\n",
       "    <tr>\n",
       "      <th>10</th>\n",
       "      <td>Film-Noir</td>\n",
       "      <td>3.906100</td>\n",
       "    </tr>\n",
       "    <tr>\n",
       "      <th>7</th>\n",
       "      <td>Documentary</td>\n",
       "      <td>3.809228</td>\n",
       "    </tr>\n",
       "    <tr>\n",
       "      <th>18</th>\n",
       "      <td>War</td>\n",
       "      <td>3.794569</td>\n",
       "    </tr>\n",
       "    <tr>\n",
       "      <th>6</th>\n",
       "      <td>Crime</td>\n",
       "      <td>3.649886</td>\n",
       "    </tr>\n",
       "    <tr>\n",
       "      <th>8</th>\n",
       "      <td>Drama</td>\n",
       "      <td>3.638688</td>\n",
       "    </tr>\n",
       "  </tbody>\n",
       "</table>\n",
       "</div>"
      ],
      "text/plain": [
       "          genre    rating\n",
       "10    Film-Noir  3.906100\n",
       "7   Documentary  3.809228\n",
       "18          War  3.794569\n",
       "6         Crime  3.649886\n",
       "8         Drama  3.638688"
      ]
     },
     "execution_count": 49,
     "metadata": {},
     "output_type": "execute_result"
    }
   ],
   "source": [
    "genre_rating.head()"
   ]
  },
  {
   "cell_type": "code",
   "execution_count": 50,
   "id": "F3xx88Am3P-Y",
   "metadata": {
    "colab": {
     "base_uri": "https://localhost:8080/",
     "height": 580
    },
    "id": "F3xx88Am3P-Y",
    "outputId": "bcac98d1-b03c-4aba-b719-dba893e84320"
   },
   "outputs": [
    {
     "data": {
      "image/png": "[encoded data removed]",
      "text/plain": [
       "<Figure size 640x480 with 1 Axes>"
      ]
     },
     "metadata": {},
     "output_type": "display_data"
    }
   ],
   "source": [
    "sns.barplot(x=genre_rating[\"genre\"],y=genre_rating[\"rating\"])\n",
    "plt.title('Average rating for each genre')\n",
    "plt.xlabel('Genres')\n",
    "plt.xticks(rotation=90)\n",
    "plt.ylabel('Ratings')\n",
    "plt.show()"
   ]
  },
  {
   "cell_type": "code",
   "execution_count": 51,
   "id": "IZi_MmnNpJIO",
   "metadata": {
    "colab": {
     "base_uri": "https://localhost:8080/",
     "height": 472
    },
    "id": "IZi_MmnNpJIO",
    "outputId": "d703e8f3-b69c-492c-fc24-e3a6ba58ff98"
   },
   "outputs": [
    {
     "data": {
      "image/png": "[encoded data removed]",
      "text/plain": [
       "<Figure size 640x480 with 1 Axes>"
      ]
     },
     "metadata": {},
     "output_type": "display_data"
    }
   ],
   "source": [
    "sns.countplot(x=df['rating'])\n",
    "plt.title('Count plot of various movie ratings')\n",
    "plt.xlabel('Ratings')\n",
    "plt.ylabel('Number of movies')\n",
    "plt.show()"
   ]
  },
  {
   "cell_type": "code",
   "execution_count": 52,
   "id": "4cO-n77kzpCB",
   "metadata": {
    "colab": {
     "base_uri": "https://localhost:8080/",
     "height": 580
    },
    "id": "4cO-n77kzpCB",
    "outputId": "2dcf0f68-fee5-4014-d644-ecc59a975841"
   },
   "outputs": [
    {
     "data": {
      "image/png": "[encoded data removed]",
      "text/plain": [
       "<Figure size 640x480 with 1 Axes>"
      ]
     },
     "metadata": {},
     "output_type": "display_data"
    }
   ],
   "source": [
    "sns.countplot(data=df,x='genre')\n",
    "plt.title('Count plot of movie genres')\n",
    "plt.xlabel('Genre')\n",
    "plt.ylabel('Number of movies')\n",
    "plt.xticks(rotation=90)\n",
    "plt.show()"
   ]
  },
  {
   "cell_type": "code",
   "execution_count": 53,
   "id": "4YRDvM1So7O8",
   "metadata": {
    "colab": {
     "base_uri": "https://localhost:8080/",
     "height": 719
    },
    "id": "4YRDvM1So7O8",
    "outputId": "028d1411-a704-4068-bc27-00db30b23890"
   },
   "outputs": [
    {
     "data": {
      "text/plain": [
       "<matplotlib.lines.Line2D at 0x1a88585ef40>"
      ]
     },
     "execution_count": 53,
     "metadata": {},
     "output_type": "execute_result"
    },
    {
     "data": {
      "image/png": "[encoded data removed]",
      "text/plain": [
       "<Figure size 1500x800 with 1 Axes>"
      ]
     },
     "metadata": {},
     "output_type": "display_data"
    }
   ],
   "source": [
    "plt.figure(figsize=(15,8))\n",
    "sns.ecdfplot(x=df['rating'])\n",
    "plt.axhline(0.5,c=\"black\")"
   ]
  },
  {
   "cell_type": "code",
   "execution_count": 54,
   "id": "0e-DdfqozNBb",
   "metadata": {
    "colab": {
     "base_uri": "https://localhost:8080/",
     "height": 453
    },
    "id": "0e-DdfqozNBb",
    "outputId": "f3955c46-49c9-4779-f1d5-b732b316f2d9"
   },
   "outputs": [
    {
     "data": {
      "text/plain": [
       "<AxesSubplot:>"
      ]
     },
     "execution_count": 54,
     "metadata": {},
     "output_type": "execute_result"
    },
    {
     "data": {
      "image/png": "[encoded data removed]",
      "text/plain": [
       "<Figure size 640x480 with 2 Axes>"
      ]
     },
     "metadata": {},
     "output_type": "display_data"
    }
   ],
   "source": [
    "sns.heatmap(df.corr())"
   ]
  },
  {
   "cell_type": "code",
   "execution_count": 55,
   "id": "-uICizPA6Vbg",
   "metadata": {
    "colab": {
     "base_uri": "https://localhost:8080/",
     "height": 506
    },
    "id": "-uICizPA6Vbg",
    "outputId": "4e47cf64-6f99-4f34-cf14-5787ca891ba9"
   },
   "outputs": [
    {
     "data": {
      "image/png": "[encoded data removed]",
      "text/plain": [
       "<Figure size 500x500 with 1 Axes>"
      ]
     },
     "metadata": {},
     "output_type": "display_data"
    }
   ],
   "source": [
    "sns.displot(x=df[\"rating\"],kde=True)\n",
    "plt.show()"
   ]
  },
  {
   "cell_type": "code",
   "execution_count": 56,
   "id": "r9vmmTNV8ieS",
   "metadata": {
    "colab": {
     "base_uri": "https://localhost:8080/"
    },
    "id": "r9vmmTNV8ieS",
    "outputId": "8b681269-ec49-4db2-d86c-baae34a20d2c"
   },
   "outputs": [
    {
     "data": {
      "text/plain": [
       "1995         14881\n",
       "1994         13469\n",
       "1999         11528\n",
       "1996         11449\n",
       "2001          9521\n",
       "             ...  \n",
       "1919             2\n",
       "1915             2\n",
       "1917             1\n",
       "1920             1\n",
       "2006–2007        1\n",
       "Name: year_of_release, Length: 113, dtype: int64"
      ]
     },
     "execution_count": 56,
     "metadata": {},
     "output_type": "execute_result"
    }
   ],
   "source": [
    "df[\"year_of_release\"].value_counts()\n"
   ]
  },
  {
   "cell_type": "code",
   "execution_count": 57,
   "id": "16d94bUH8EK8",
   "metadata": {
    "colab": {
     "base_uri": "https://localhost:8080/",
     "height": 663
    },
    "id": "16d94bUH8EK8",
    "outputId": "56736061-6010-44c2-9778-3b92c96b1ede"
   },
   "outputs": [
    {
     "data": {
      "text/plain": [
       "<matplotlib.lines.Line2D at 0x1a885878220>"
      ]
     },
     "execution_count": 57,
     "metadata": {},
     "output_type": "execute_result"
    },
    {
     "data": {
      "image/png": "[encoded data removed]",
      "text/plain": [
       "<Figure size 2000x800 with 1 Axes>"
      ]
     },
     "metadata": {},
     "output_type": "display_data"
    }
   ],
   "source": [
    "plt.figure(figsize=(20,8))\n",
    "sns.histplot(x=df[\"year_of_release\"])\n",
    "plt.xticks(rotation=90)\n",
    "plt.axhline(0.5,c=\"black\")"
   ]
  },
  {
   "cell_type": "code",
   "execution_count": 58,
   "id": "pFVrE6be_UgO",
   "metadata": {
    "colab": {
     "base_uri": "https://localhost:8080/",
     "height": 595
    },
    "id": "pFVrE6be_UgO",
    "outputId": "e79a1ace-c24d-47ee-e882-a7c8fe58103c"
   },
   "outputs": [
    {
     "data": {
      "image/png": "[encoded data removed]",
      "text/plain": [
       "<Figure size 1200x500 with 1 Axes>"
      ]
     },
     "metadata": {},
     "output_type": "display_data"
    }
   ],
   "source": [
    "plt.figure(figsize=(12,5))\n",
    "sns.boxplot(x='genre', y='rating', data=df)\n",
    "plt.title('Box plot of movie ratings by genre')\n",
    "plt.xlabel('Genre')\n",
    "plt.ylabel('Rating')\n",
    "plt.xticks(rotation=90)\n",
    "plt.show()"
   ]
  },
  {
   "cell_type": "code",
   "execution_count": 59,
   "id": "gFiFOHct_Xub",
   "metadata": {
    "colab": {
     "base_uri": "https://localhost:8080/",
     "height": 595
    },
    "id": "gFiFOHct_Xub",
    "outputId": "f57a6cb8-3b04-4ebb-a236-3abf4b035f64"
   },
   "outputs": [
    {
     "data": {
      "image/png": "[encoded data removed]",
      "text/plain": [
       "<Figure size 1200x500 with 1 Axes>"
      ]
     },
     "metadata": {},
     "output_type": "display_data"
    }
   ],
   "source": [
    "plt.figure(figsize=(12,5))\n",
    "sns.violinplot(x='genre', y='rating', data=df)\n",
    "plt.title('Violin plot of movie ratings by genre')\n",
    "plt.xlabel('Genre')\n",
    "plt.ylabel('Rating')\n",
    "plt.xticks(rotation=90)\n",
    "plt.show()"
   ]
  },
  {
   "cell_type": "code",
   "execution_count": 60,
   "id": "3111e71e",
   "metadata": {},
   "outputs": [
    {
     "data": {
      "text/plain": [
       "3"
      ]
     },
     "execution_count": 60,
     "metadata": {},
     "output_type": "execute_result"
    }
   ],
   "source": [
    "### group by 10 years of movies\n",
    "\n",
    "int(df['year_of_release'].min()) % 10"
   ]
  },
  {
   "cell_type": "code",
   "execution_count": 61,
   "id": "3b221a8d",
   "metadata": {},
   "outputs": [],
   "source": [
    "\n",
    "    \n",
    "df['year_of_release'] = df['year_of_release'].str.strip(')')\n",
    "\n",
    "# df['year_of_release'] = df['year_of_release'].apply(extract_year).astype(int)\n",
    "\n",
    "def convert_to_int(year_str):\n",
    "        return int(year_str[0:4])\n",
    "\n",
    "df['year_of_release'] = df['year_of_release'].apply(convert_to_int)"
   ]
  },
  {
   "cell_type": "code",
   "execution_count": 62,
   "id": "d9b91c32",
   "metadata": {},
   "outputs": [
    {
     "name": "stdout",
     "output_type": "stream",
     "text": [
      "1900\n",
      "1910\n",
      "1920\n",
      "1930\n",
      "1940\n",
      "1950\n",
      "1960\n",
      "1970\n",
      "1980\n",
      "1990\n",
      "2000\n",
      "2010\n",
      "2020\n"
     ]
    }
   ],
   "source": [
    "def decade(df):\n",
    "    min = int(df['year_of_release'].min()) % 10\n",
    "    max = int(df['year_of_release'].max()) % 10\n",
    "    \n",
    "    min = int(df['year_of_release'].min()) - min\n",
    "    max = int(df['year_of_release'].max()) + (10 - max)\n",
    "    df['year_of_release'].astype(int)\n",
    "    for year in range(min, max+1 , 10):\n",
    "        print(year)\n",
    "#         df['year_of_release'].replace((df['year_of_release'] >= year) & (df['year_of_release'] < (year+10)))\n",
    "#         df['year_of_release'] = np.where((df['year_of_release'] >= year) & (df['year_of_release'] <= (year+10)), min, df['year_of_release'])\n",
    "        df.loc[(df['year_of_release'] >= year) & (df['year_of_release'] <= (year+10)), 'decade_of_release'] = int(year)\n",
    "    \n",
    "    return df\n",
    "    \n",
    "df1 = decade(df)\n",
    "\n",
    "df1['decade_of_release'] = df1['decade_of_release'].astype(int)"
   ]
  },
  {
   "cell_type": "code",
   "execution_count": 63,
   "id": "c0d5eb41",
   "metadata": {},
   "outputs": [
    {
     "data": {
      "text/html": [
       "<div>\n",
       "<style scoped>\n",
       "    .dataframe tbody tr th:only-of-type {\n",
       "        vertical-align: middle;\n",
       "    }\n",
       "\n",
       "    .dataframe tbody tr th {\n",
       "        vertical-align: top;\n",
       "    }\n",
       "\n",
       "    .dataframe thead th {\n",
       "        text-align: right;\n",
       "    }\n",
       "</style>\n",
       "<table border=\"1\" class=\"dataframe\">\n",
       "  <thead>\n",
       "    <tr style=\"text-align: right;\">\n",
       "      <th></th>\n",
       "      <th>movieId</th>\n",
       "      <th>title</th>\n",
       "      <th>genre</th>\n",
       "      <th>year_of_release</th>\n",
       "      <th>userId</th>\n",
       "      <th>rating</th>\n",
       "      <th>rated_on</th>\n",
       "      <th>decade_of_release</th>\n",
       "    </tr>\n",
       "  </thead>\n",
       "  <tbody>\n",
       "    <tr>\n",
       "      <th>0</th>\n",
       "      <td>1</td>\n",
       "      <td>Toy Story</td>\n",
       "      <td>Adventure</td>\n",
       "      <td>1995</td>\n",
       "      <td>1</td>\n",
       "      <td>4.0</td>\n",
       "      <td>30-07-2000</td>\n",
       "      <td>1990</td>\n",
       "    </tr>\n",
       "    <tr>\n",
       "      <th>1</th>\n",
       "      <td>1</td>\n",
       "      <td>Toy Story</td>\n",
       "      <td>Adventure</td>\n",
       "      <td>1995</td>\n",
       "      <td>5</td>\n",
       "      <td>4.0</td>\n",
       "      <td>08-11-1996</td>\n",
       "      <td>1990</td>\n",
       "    </tr>\n",
       "    <tr>\n",
       "      <th>2</th>\n",
       "      <td>1</td>\n",
       "      <td>Toy Story</td>\n",
       "      <td>Adventure</td>\n",
       "      <td>1995</td>\n",
       "      <td>7</td>\n",
       "      <td>4.5</td>\n",
       "      <td>25-01-2005</td>\n",
       "      <td>1990</td>\n",
       "    </tr>\n",
       "    <tr>\n",
       "      <th>3</th>\n",
       "      <td>1</td>\n",
       "      <td>Toy Story</td>\n",
       "      <td>Adventure</td>\n",
       "      <td>1995</td>\n",
       "      <td>15</td>\n",
       "      <td>2.5</td>\n",
       "      <td>13-11-2017</td>\n",
       "      <td>1990</td>\n",
       "    </tr>\n",
       "    <tr>\n",
       "      <th>4</th>\n",
       "      <td>1</td>\n",
       "      <td>Toy Story</td>\n",
       "      <td>Adventure</td>\n",
       "      <td>1995</td>\n",
       "      <td>17</td>\n",
       "      <td>4.5</td>\n",
       "      <td>18-05-2011</td>\n",
       "      <td>1990</td>\n",
       "    </tr>\n",
       "    <tr>\n",
       "      <th>...</th>\n",
       "      <td>...</td>\n",
       "      <td>...</td>\n",
       "      <td>...</td>\n",
       "      <td>...</td>\n",
       "      <td>...</td>\n",
       "      <td>...</td>\n",
       "      <td>...</td>\n",
       "      <td>...</td>\n",
       "    </tr>\n",
       "    <tr>\n",
       "      <th>274475</th>\n",
       "      <td>193583</td>\n",
       "      <td>No Game No Life: Zero</td>\n",
       "      <td>Fantasy</td>\n",
       "      <td>2017</td>\n",
       "      <td>184</td>\n",
       "      <td>3.5</td>\n",
       "      <td>16-09-2018</td>\n",
       "      <td>2010</td>\n",
       "    </tr>\n",
       "    <tr>\n",
       "      <th>274476</th>\n",
       "      <td>193585</td>\n",
       "      <td>Flint</td>\n",
       "      <td>Drama</td>\n",
       "      <td>2017</td>\n",
       "      <td>184</td>\n",
       "      <td>3.5</td>\n",
       "      <td>16-09-2018</td>\n",
       "      <td>2010</td>\n",
       "    </tr>\n",
       "    <tr>\n",
       "      <th>274477</th>\n",
       "      <td>193587</td>\n",
       "      <td>Bungo Stray Dogs: Dead Apple</td>\n",
       "      <td>Action</td>\n",
       "      <td>2018</td>\n",
       "      <td>184</td>\n",
       "      <td>3.5</td>\n",
       "      <td>16-09-2018</td>\n",
       "      <td>2010</td>\n",
       "    </tr>\n",
       "    <tr>\n",
       "      <th>274478</th>\n",
       "      <td>193587</td>\n",
       "      <td>Bungo Stray Dogs: Dead Apple</td>\n",
       "      <td>Animation</td>\n",
       "      <td>2018</td>\n",
       "      <td>184</td>\n",
       "      <td>3.5</td>\n",
       "      <td>16-09-2018</td>\n",
       "      <td>2010</td>\n",
       "    </tr>\n",
       "    <tr>\n",
       "      <th>274479</th>\n",
       "      <td>193609</td>\n",
       "      <td>Andrew Dice Clay: Dice Rules</td>\n",
       "      <td>Comedy</td>\n",
       "      <td>1991</td>\n",
       "      <td>331</td>\n",
       "      <td>4.0</td>\n",
       "      <td>17-09-2018</td>\n",
       "      <td>1990</td>\n",
       "    </tr>\n",
       "  </tbody>\n",
       "</table>\n",
       "<p>255683 rows × 8 columns</p>\n",
       "</div>"
      ],
      "text/plain": [
       "        movieId                         title      genre  year_of_release  \\\n",
       "0             1                     Toy Story  Adventure             1995   \n",
       "1             1                     Toy Story  Adventure             1995   \n",
       "2             1                     Toy Story  Adventure             1995   \n",
       "3             1                     Toy Story  Adventure             1995   \n",
       "4             1                     Toy Story  Adventure             1995   \n",
       "...         ...                           ...        ...              ...   \n",
       "274475   193583         No Game No Life: Zero    Fantasy             2017   \n",
       "274476   193585                         Flint      Drama             2017   \n",
       "274477   193587  Bungo Stray Dogs: Dead Apple     Action             2018   \n",
       "274478   193587  Bungo Stray Dogs: Dead Apple  Animation             2018   \n",
       "274479   193609  Andrew Dice Clay: Dice Rules     Comedy             1991   \n",
       "\n",
       "        userId  rating    rated_on  decade_of_release  \n",
       "0            1     4.0  30-07-2000               1990  \n",
       "1            5     4.0  08-11-1996               1990  \n",
       "2            7     4.5  25-01-2005               1990  \n",
       "3           15     2.5  13-11-2017               1990  \n",
       "4           17     4.5  18-05-2011               1990  \n",
       "...        ...     ...         ...                ...  \n",
       "274475     184     3.5  16-09-2018               2010  \n",
       "274476     184     3.5  16-09-2018               2010  \n",
       "274477     184     3.5  16-09-2018               2010  \n",
       "274478     184     3.5  16-09-2018               2010  \n",
       "274479     331     4.0  17-09-2018               1990  \n",
       "\n",
       "[255683 rows x 8 columns]"
      ]
     },
     "execution_count": 63,
     "metadata": {},
     "output_type": "execute_result"
    }
   ],
   "source": [
    "df1"
   ]
  },
  {
   "cell_type": "code",
   "execution_count": 64,
   "id": "50230c3f",
   "metadata": {},
   "outputs": [
    {
     "data": {
      "image/png": "[encoded data removed]",
      "text/plain": [
       "<Figure size 640x480 with 1 Axes>"
      ]
     },
     "metadata": {},
     "output_type": "display_data"
    }
   ],
   "source": [
    "sns.boxplot(x='decade_of_release', y='rating', data=df)\n",
    "plt.title('Box plot of movie ratings by release of decade')\n",
    "plt.xlabel('Release Decade')\n",
    "plt.ylabel('Rating')\n",
    "plt.show()"
   ]
  },
  {
   "cell_type": "code",
   "execution_count": 65,
   "id": "3ae29336",
   "metadata": {},
   "outputs": [
    {
     "name": "stdout",
     "output_type": "stream",
     "text": [
      "Requirement already satisfied: scikit-surprise in c:\\users\\lavakumarkoyi\\anaconda3\\lib\\site-packages (1.1.3)\n",
      "Requirement already satisfied: joblib>=1.0.0 in c:\\users\\lavakumarkoyi\\anaconda3\\lib\\site-packages (from scikit-surprise) (1.1.0)\n",
      "Requirement already satisfied: scipy>=1.3.2 in c:\\users\\lavakumarkoyi\\anaconda3\\lib\\site-packages (from scikit-surprise) (1.9.1)\n",
      "Requirement already satisfied: numpy>=1.17.3 in c:\\users\\lavakumarkoyi\\anaconda3\\lib\\site-packages (from scikit-surprise) (1.21.5)\n"
     ]
    }
   ],
   "source": [
    "!pip install scikit-surprise\n"
   ]
  },
  {
   "cell_type": "code",
   "execution_count": 66,
   "id": "20650d05-1fed-487c-881b-cb094f5355d0",
   "metadata": {},
   "outputs": [],
   "source": [
    "movies_df_fin = pd.read_csv(\"./Datasets/movie_lens_small/movies.csv\")"
   ]
  },
  {
   "cell_type": "code",
   "execution_count": null,
   "id": "85c2683c-9830-4696-87db-dd46b04cbb18",
   "metadata": {},
   "outputs": [],
   "source": []
  },
  {
   "cell_type": "markdown",
   "id": "pBPIRAcw4fUt",
   "metadata": {
    "id": "pBPIRAcw4fUt"
   },
   "source": [
    "# correlation \n",
    "# rating vs genre box plot,violin plot\n",
    "# "
   ]
  },
  {
   "cell_type": "code",
   "execution_count": 67,
   "id": "e39314f6",
   "metadata": {},
   "outputs": [],
   "source": [
    "######## spliting the data between train and test\n",
    "from sklearn.model_selection import train_test_split\n",
    "movie_rating = ratings_df.merge(movies_df_fin, on='movieId', how='left')\n",
    "\n",
    "# Split into train and test sets\n",
    "train_df, test_df = train_test_split(movie_rating, test_size=0.2, random_state=42)\n",
    "\n"
   ]
  },
  {
   "cell_type": "code",
   "execution_count": 68,
   "id": "ccc62810-03ed-4728-93fa-21608a3f7d55",
   "metadata": {},
   "outputs": [
    {
     "data": {
      "text/html": [
       "<div>\n",
       "<style scoped>\n",
       "    .dataframe tbody tr th:only-of-type {\n",
       "        vertical-align: middle;\n",
       "    }\n",
       "\n",
       "    .dataframe tbody tr th {\n",
       "        vertical-align: top;\n",
       "    }\n",
       "\n",
       "    .dataframe thead th {\n",
       "        text-align: right;\n",
       "    }\n",
       "</style>\n",
       "<table border=\"1\" class=\"dataframe\">\n",
       "  <thead>\n",
       "    <tr style=\"text-align: right;\">\n",
       "      <th></th>\n",
       "      <th>movieId</th>\n",
       "      <th>title</th>\n",
       "      <th>genres</th>\n",
       "    </tr>\n",
       "  </thead>\n",
       "  <tbody>\n",
       "    <tr>\n",
       "      <th>0</th>\n",
       "      <td>1</td>\n",
       "      <td>Toy Story (1995)</td>\n",
       "      <td>Adventure|Animation|Children|Comedy|Fantasy</td>\n",
       "    </tr>\n",
       "    <tr>\n",
       "      <th>1</th>\n",
       "      <td>2</td>\n",
       "      <td>Jumanji (1995)</td>\n",
       "      <td>Adventure|Children|Fantasy</td>\n",
       "    </tr>\n",
       "    <tr>\n",
       "      <th>2</th>\n",
       "      <td>3</td>\n",
       "      <td>Grumpier Old Men (1995)</td>\n",
       "      <td>Comedy|Romance</td>\n",
       "    </tr>\n",
       "    <tr>\n",
       "      <th>3</th>\n",
       "      <td>4</td>\n",
       "      <td>Waiting to Exhale (1995)</td>\n",
       "      <td>Comedy|Drama|Romance</td>\n",
       "    </tr>\n",
       "    <tr>\n",
       "      <th>4</th>\n",
       "      <td>5</td>\n",
       "      <td>Father of the Bride Part II (1995)</td>\n",
       "      <td>Comedy</td>\n",
       "    </tr>\n",
       "  </tbody>\n",
       "</table>\n",
       "</div>"
      ],
      "text/plain": [
       "   movieId                               title  \\\n",
       "0        1                    Toy Story (1995)   \n",
       "1        2                      Jumanji (1995)   \n",
       "2        3             Grumpier Old Men (1995)   \n",
       "3        4            Waiting to Exhale (1995)   \n",
       "4        5  Father of the Bride Part II (1995)   \n",
       "\n",
       "                                        genres  \n",
       "0  Adventure|Animation|Children|Comedy|Fantasy  \n",
       "1                   Adventure|Children|Fantasy  \n",
       "2                               Comedy|Romance  \n",
       "3                         Comedy|Drama|Romance  \n",
       "4                                       Comedy  "
      ]
     },
     "execution_count": 68,
     "metadata": {},
     "output_type": "execute_result"
    }
   ],
   "source": [
    "movies_df_fin.head()"
   ]
  },
  {
   "cell_type": "code",
   "execution_count": 69,
   "id": "ec69fa78-254b-45a9-b7c5-4cf8fbdf93e8",
   "metadata": {},
   "outputs": [
    {
     "name": "stdout",
     "output_type": "stream",
     "text": [
      "   userId  movieId  rating  timestamp        date\n",
      "0       1        1     4.0  964982703  30-07-2000\n",
      "1       1        3     4.0  964981247  30-07-2000\n",
      "2       1        6     4.0  964982224  30-07-2000\n",
      "3       1       47     5.0  964983815  30-07-2000\n",
      "4       1       50     5.0  964982931  30-07-2000\n"
     ]
    }
   ],
   "source": [
    "print(ratings_df.head())"
   ]
  },
  {
   "cell_type": "markdown",
   "id": "714fe25e",
   "metadata": {},
   "source": [
    "# Training the data with KNNBasic"
   ]
  },
  {
   "cell_type": "code",
   "execution_count": 70,
   "id": "6383b7d8-0493-4a24-bf03-66cd28a615be",
   "metadata": {},
   "outputs": [
    {
     "name": "stdout",
     "output_type": "stream",
     "text": [
      "Computing the msd similarity matrix...\n",
      "Done computing similarity matrix.\n"
     ]
    },
    {
     "data": {
      "text/plain": [
       "<surprise.prediction_algorithms.knns.KNNBasic at 0x1a885a4cfa0>"
      ]
     },
     "execution_count": 70,
     "metadata": {},
     "output_type": "execute_result"
    }
   ],
   "source": [
    "from surprise import Dataset, Reader, KNNBasic\n",
    "\n",
    "# create a reader object\n",
    "reader = Reader(rating_scale=(0.5, 5.0))\n",
    "\n",
    "# create a Dataset object from the dataframe\n",
    "data = Dataset.load_from_df(train_df[['userId', 'movieId', 'rating']], reader)\n",
    "\n",
    "# define the KNNBasic model and fit it to the data\n",
    "model = KNNBasic()\n",
    "model.fit(data.build_full_trainset())\n"
   ]
  },
  {
   "cell_type": "markdown",
   "id": "81ccdd22",
   "metadata": {},
   "source": [
    "# Training the data with SVD"
   ]
  },
  {
   "cell_type": "code",
   "execution_count": 71,
   "id": "19f43d54-97d4-415c-8e93-e06a6fc21467",
   "metadata": {},
   "outputs": [
    {
     "data": {
      "text/plain": [
       "<surprise.prediction_algorithms.matrix_factorization.SVD at 0x1a885a4cf10>"
      ]
     },
     "execution_count": 71,
     "metadata": {},
     "output_type": "execute_result"
    }
   ],
   "source": [
    "from surprise import Dataset, Reader, KNNBasic,SVD\n",
    "\n",
    "# create a reader object\n",
    "reader = Reader(rating_scale=(0.5, 5.0))\n",
    "\n",
    "# create a Dataset object from the dataframe\n",
    "data = Dataset.load_from_df(train_df[['userId', 'movieId', 'rating']], reader)\n",
    "\n",
    "# define the KNNBasic model and fit it to the data\n",
    "model1 = SVD()\n",
    "model1.fit(data.build_full_trainset())\n"
   ]
  },
  {
   "cell_type": "code",
   "execution_count": 72,
   "id": "9b2be499-780a-4ec4-b98a-81c9335d6644",
   "metadata": {},
   "outputs": [
    {
     "name": "stdout",
     "output_type": "stream",
     "text": [
      "Computing the msd similarity matrix...\n",
      "Done computing similarity matrix.\n"
     ]
    },
    {
     "data": {
      "text/plain": [
       "<surprise.prediction_algorithms.knns.KNNBasic at 0x1a885bf8c70>"
      ]
     },
     "execution_count": 72,
     "metadata": {},
     "output_type": "execute_result"
    }
   ],
   "source": [
    "from surprise import Dataset, Reader, KNNBasic\n",
    "\n",
    "# create a reader object\n",
    "reader = Reader(rating_scale=(0.5, 5.0))\n",
    "\n",
    "# create a Dataset object from the dataframe\n",
    "data = Dataset.load_from_df(train_df[['userId', 'movieId', 'rating']], reader)\n",
    "\n",
    "# define the KNNBasic model and fit it to the data\n",
    "model = KNNBasic()\n",
    "model.fit(data.build_full_trainset())"
   ]
  },
  {
   "cell_type": "code",
   "execution_count": 73,
   "id": "751cc01f-ae4a-40e1-9c65-d59be2407c8e",
   "metadata": {},
   "outputs": [
    {
     "name": "stdout",
     "output_type": "stream",
     "text": [
      "1.1.3\n"
     ]
    }
   ],
   "source": [
    "import surprise\n",
    "print (surprise.__version__)"
   ]
  },
  {
   "cell_type": "code",
   "execution_count": 74,
   "id": "927524e2-9abf-439c-96d3-6e5d49a64b78",
   "metadata": {},
   "outputs": [],
   "source": [
    "import pickle \n",
    "pkl_file = \"model.pkl\"\n",
    "with open(pkl_file, 'wb') as file:\n",
    "    pickle.dump(model, file)"
   ]
  },
  {
   "cell_type": "code",
   "execution_count": 75,
   "id": "133f62bd-622e-4da2-9027-8862745b1b17",
   "metadata": {},
   "outputs": [
    {
     "data": {
      "text/html": [
       "<div>\n",
       "<style scoped>\n",
       "    .dataframe tbody tr th:only-of-type {\n",
       "        vertical-align: middle;\n",
       "    }\n",
       "\n",
       "    .dataframe tbody tr th {\n",
       "        vertical-align: top;\n",
       "    }\n",
       "\n",
       "    .dataframe thead th {\n",
       "        text-align: right;\n",
       "    }\n",
       "</style>\n",
       "<table border=\"1\" class=\"dataframe\">\n",
       "  <thead>\n",
       "    <tr style=\"text-align: right;\">\n",
       "      <th></th>\n",
       "      <th>userId</th>\n",
       "      <th>movieId</th>\n",
       "      <th>rating</th>\n",
       "      <th>timestamp</th>\n",
       "      <th>date</th>\n",
       "      <th>title</th>\n",
       "      <th>genres</th>\n",
       "    </tr>\n",
       "  </thead>\n",
       "  <tbody>\n",
       "    <tr>\n",
       "      <th>67037</th>\n",
       "      <td>432</td>\n",
       "      <td>77866</td>\n",
       "      <td>4.5</td>\n",
       "      <td>1335139641</td>\n",
       "      <td>22-04-2012</td>\n",
       "      <td>Robin Hood (2010)</td>\n",
       "      <td>Action|Adventure|Drama|Romance|War</td>\n",
       "    </tr>\n",
       "    <tr>\n",
       "      <th>42175</th>\n",
       "      <td>288</td>\n",
       "      <td>474</td>\n",
       "      <td>3.0</td>\n",
       "      <td>978465565</td>\n",
       "      <td>02-01-2001</td>\n",
       "      <td>In the Line of Fire (1993)</td>\n",
       "      <td>Action|Thriller</td>\n",
       "    </tr>\n",
       "    <tr>\n",
       "      <th>93850</th>\n",
       "      <td>599</td>\n",
       "      <td>4351</td>\n",
       "      <td>3.0</td>\n",
       "      <td>1498524542</td>\n",
       "      <td>26-06-2017</td>\n",
       "      <td>Point Break (1991)</td>\n",
       "      <td>Action|Crime|Thriller</td>\n",
       "    </tr>\n",
       "    <tr>\n",
       "      <th>6187</th>\n",
       "      <td>42</td>\n",
       "      <td>2987</td>\n",
       "      <td>4.0</td>\n",
       "      <td>996262677</td>\n",
       "      <td>27-07-2001</td>\n",
       "      <td>Who Framed Roger Rabbit? (1988)</td>\n",
       "      <td>Adventure|Animation|Children|Comedy|Crime|Fant...</td>\n",
       "    </tr>\n",
       "    <tr>\n",
       "      <th>12229</th>\n",
       "      <td>75</td>\n",
       "      <td>1610</td>\n",
       "      <td>4.0</td>\n",
       "      <td>1158989841</td>\n",
       "      <td>23-09-2006</td>\n",
       "      <td>Hunt for Red October, The (1990)</td>\n",
       "      <td>Action|Adventure|Thriller</td>\n",
       "    </tr>\n",
       "  </tbody>\n",
       "</table>\n",
       "</div>"
      ],
      "text/plain": [
       "       userId  movieId  rating   timestamp        date  \\\n",
       "67037     432    77866     4.5  1335139641  22-04-2012   \n",
       "42175     288      474     3.0   978465565  02-01-2001   \n",
       "93850     599     4351     3.0  1498524542  26-06-2017   \n",
       "6187       42     2987     4.0   996262677  27-07-2001   \n",
       "12229      75     1610     4.0  1158989841  23-09-2006   \n",
       "\n",
       "                                  title  \\\n",
       "67037                 Robin Hood (2010)   \n",
       "42175        In the Line of Fire (1993)   \n",
       "93850                Point Break (1991)   \n",
       "6187    Who Framed Roger Rabbit? (1988)   \n",
       "12229  Hunt for Red October, The (1990)   \n",
       "\n",
       "                                                  genres  \n",
       "67037                 Action|Adventure|Drama|Romance|War  \n",
       "42175                                    Action|Thriller  \n",
       "93850                              Action|Crime|Thriller  \n",
       "6187   Adventure|Animation|Children|Comedy|Crime|Fant...  \n",
       "12229                          Action|Adventure|Thriller  "
      ]
     },
     "execution_count": 75,
     "metadata": {},
     "output_type": "execute_result"
    }
   ],
   "source": [
    "test_df.head()"
   ]
  },
  {
   "cell_type": "code",
   "execution_count": 76,
   "id": "7b032701-e5df-4f7c-9471-7bc9ee1b699a",
   "metadata": {},
   "outputs": [],
   "source": [
    "pred = model.predict(428, 3624)"
   ]
  },
  {
   "cell_type": "code",
   "execution_count": 77,
   "id": "74cbde25-66b6-4c30-8ada-70610ca2436a",
   "metadata": {},
   "outputs": [
    {
     "name": "stdout",
     "output_type": "stream",
     "text": [
      "3624 3.129621933324203\n"
     ]
    }
   ],
   "source": [
    "print(pred.iid,pred.est)"
   ]
  },
  {
   "cell_type": "code",
   "execution_count": 78,
   "id": "2c133731-8a12-41e5-8237-864366b679fd",
   "metadata": {},
   "outputs": [],
   "source": [
    "def get_predictions(id_user):\n",
    "    itemIds = test_df['movieId'].unique()\n",
    "\n",
    "    # get the list of itemIds that user 1 has already rated\n",
    "    rated_itemIds = test_df.loc[test_df['userId']==id_user, 'movieId'].values\n",
    "\n",
    "    # get the list of itemIds that user 1 has not rated\n",
    "    unrated_itemIds = list(set(itemIds) - set(rated_itemIds))\n",
    "\n",
    "    # create a list of tuples with (userId, itemId) for unrated items\n",
    "    testset = [(id_user, itemId) for itemId in unrated_itemIds]\n",
    "\n",
    "    # make predictions for the testset\n",
    "    predictions=[]\n",
    "    for test in testset:\n",
    "        pred=model1.predict(test[0],test[1])\n",
    "        predictions.append([pred.iid,pred.est])\n",
    "    predictions = sorted(predictions, key=lambda x: x[1], reverse=True)\n",
    "    #predictions.sort(key=lambda x: x.est, reverse=True)\n",
    "    # print the first 10 predictions\n",
    "    \n",
    "    return predictions"
   ]
  },
  {
   "cell_type": "code",
   "execution_count": 150,
   "id": "1250f78a",
   "metadata": {},
   "outputs": [],
   "source": [
    "class recommendation:\n",
    "    def __init__(self):\n",
    "        self.reader = Reader(rating_scale=(0.5, 5.0))\n",
    "        self.data = Dataset.load_from_df(train_df[['userId', 'movieId', 'rating']], reader)\n",
    "        \n",
    "        self.KNNModel = KNNBasic()\n",
    "        self.SVDModel = SVD()\n",
    "        \n",
    "        self.mean_rmse = []\n",
    "        self.mean_mae = []\n",
    "        self.mean_mape = []\n",
    "        \n",
    "    def KNNBasline(self):\n",
    "        self.KNNModel.fit(data.build_full_trainset())\n",
    "    \n",
    "    def SVD(self):\n",
    "        self.SVDModel.fit(data.build_full_trainset())\n",
    "        \n",
    "    def get_predictions(self,id_user, model):\n",
    "        itemIds = test_df['movieId'].unique()\n",
    "\n",
    "        # get the list of itemIds that user 1 has already rated\n",
    "        rated_itemIds = test_df.loc[test_df['userId']==id_user, 'movieId'].values\n",
    "\n",
    "        # get the list of itemIds that user 1 has not rated\n",
    "        unrated_itemIds = list(set(itemIds) - set(rated_itemIds))\n",
    "\n",
    "        # create a list of tuples with (userId, itemId) for unrated items\n",
    "        testset = [(id_user, itemId, rating) for (itemId, rating) in test_df.loc[test_df['userId'] == id_user, ['movieId', 'rating']].values]\n",
    "\n",
    "        # make predictions for the testset\n",
    "        predictions = []\n",
    "        for test in testset:\n",
    "            pred = model.predict(test[0], test[1])\n",
    "            predictions.append([pred.iid, pred.est])\n",
    "\n",
    "        predictions = sorted(predictions, key=lambda x: x[1], reverse=True)\n",
    "\n",
    "        return testset, predictions\n",
    "    \n",
    "    def metrics(self,model):\n",
    "        rmse_list = []\n",
    "        mae_list = []\n",
    "        mape_list = []\n",
    "        for user in test_df['userId'].unique():\n",
    "            testset, predictions = recommendations.get_predictions(user,model)\n",
    "            actual_ratings = [test[2] for test in testset]\n",
    "            predicted_ratings = [pred[1] for pred in predictions]\n",
    "            rmse = np.sqrt(mean_squared_error(actual_ratings, predicted_ratings))\n",
    "            mae = mean_absolute_error(actual_ratings, predicted_ratings)\n",
    "            mape_value = mape(actual_ratings, predicted_ratings)\n",
    "\n",
    "\n",
    "            rmse_list.append(rmse)\n",
    "            mae_list.append(mae)\n",
    "            mape_list.append(mape_value)\n",
    "\n",
    "\n",
    "        self.mean_rmse.append(np.mean(rmse_list))\n",
    "        self.mean_mae.append(np.mean(mae_list))\n",
    "        self.mean_mape.append(np.mean(mape_list))\n",
    "        \n",
    "    def final_metrics(self):\n",
    "        metrics_df = pd.DataFrame(columns=['Model', 'RMSE', 'MAE', 'MAPE'])\n",
    "        models = ['KNN','SVD']\n",
    "        for i in range(len(self.mean_rmse)):\n",
    "            metrics_df = metrics_df.append({'Model': models[i], \n",
    "                                            'RMSE': self.mean_rmse[i],\n",
    "                                            'MAE': self.mean_mae[i],\n",
    "                                            'MAPE': self.mean_mape[i]}, ignore_index=True)\n",
    "            \n",
    "        print(metrics_df)\n"
   ]
  },
  {
   "cell_type": "code",
   "execution_count": null,
   "id": "3f747b9e",
   "metadata": {},
   "outputs": [],
   "source": []
  },
  {
   "cell_type": "code",
   "execution_count": 151,
   "id": "c0eb0196",
   "metadata": {},
   "outputs": [
    {
     "name": "stdout",
     "output_type": "stream",
     "text": [
      "Computing the msd similarity matrix...\n",
      "Done computing similarity matrix.\n",
      "  Model      RMSE       MAE       MAPE\n",
      "0   KNN  1.087114  0.890944  40.192893\n",
      "1   SVD  0.983134  0.802480  36.101480\n"
     ]
    },
    {
     "name": "stderr",
     "output_type": "stream",
     "text": [
      "C:\\Users\\lavakumarkoyi\\AppData\\Local\\Temp\\ipykernel_30864\\216027848.py:67: FutureWarning: The frame.append method is deprecated and will be removed from pandas in a future version. Use pandas.concat instead.\n",
      "  metrics_df = metrics_df.append({'Model': models[i],\n",
      "C:\\Users\\lavakumarkoyi\\AppData\\Local\\Temp\\ipykernel_30864\\216027848.py:67: FutureWarning: The frame.append method is deprecated and will be removed from pandas in a future version. Use pandas.concat instead.\n",
      "  metrics_df = metrics_df.append({'Model': models[i],\n"
     ]
    }
   ],
   "source": [
    "recommendations = recommendation()\n",
    "recommendations.KNNBasline()\n",
    "recommendations.SVD()\n",
    "\n",
    "recommendations.metrics(recommendations.KNNModel)\n",
    "recommendations.metrics(recommendations.SVDModel)\n",
    "\n",
    "recommendations.final_metrics()\n",
    "\n",
    "# knn_predictions = recommendations.get_predictions(428,recommendations.KNNModel)\n",
    "# svd_predictions = recommendations.get_predictions(428,recommendations.SVDModel)"
   ]
  },
  {
   "cell_type": "code",
   "execution_count": 135,
   "id": "2ae48d7b",
   "metadata": {},
   "outputs": [],
   "source": [
    "def mape(actual, forecast):\n",
    "    \n",
    "    n = len(actual)\n",
    "    error = 0\n",
    "\n",
    "    for i in range(n):\n",
    "        if actual[i] != 0:\n",
    "            error += abs((actual[i] - forecast[i]) / actual[i])\n",
    "\n",
    "    mape = (error / n) * 100\n",
    "\n",
    "    return mape"
   ]
  },
  {
   "cell_type": "code",
   "execution_count": null,
   "id": "b4ed8ce2",
   "metadata": {},
   "outputs": [],
   "source": []
  },
  {
   "cell_type": "code",
   "execution_count": null,
   "id": "a395ee44",
   "metadata": {},
   "outputs": [],
   "source": []
  },
  {
   "cell_type": "code",
   "execution_count": 79,
   "id": "ba0c6461-58c1-4332-8fed-68c2cf85f34c",
   "metadata": {},
   "outputs": [],
   "source": [
    "genres_df = movies_df_fin['genres'].str.get_dummies('|')\n",
    "\n",
    "# Rename columns\n",
    "genres_df.columns = [col.lower() for col in genres_df.columns]\n",
    "\n",
    "# Concatenate genres_df with original dataframe\n",
    "movies_df_fin = pd.concat([movies_df_fin, genres_df], axis=1)\n",
    "\n",
    "# Drop original genres column\n",
    "movies_df_fin = movies_df_fin.drop('genres', axis=1)"
   ]
  },
  {
   "cell_type": "code",
   "execution_count": 80,
   "id": "e9c0d00a-1f21-485f-b9be-82e0e83b916f",
   "metadata": {},
   "outputs": [],
   "source": [
    "movies_df_fin.drop(movies_df_fin[movies_df_fin['(no genres listed)'] == 1].index, inplace=True)"
   ]
  },
  {
   "cell_type": "code",
   "execution_count": 81,
   "id": "5022d3a0-068e-4243-af68-286d25702a01",
   "metadata": {},
   "outputs": [],
   "source": [
    "movies_df_fin.drop(\"(no genres listed)\",inplace=True,axis=1)"
   ]
  },
  {
   "cell_type": "code",
   "execution_count": 82,
   "id": "2bb18a39-0bf5-4cef-a524-863868b24de9",
   "metadata": {},
   "outputs": [],
   "source": [
    "movies_df_fin.to_csv('my_data.csv', index=False)"
   ]
  },
  {
   "cell_type": "code",
   "execution_count": 83,
   "id": "ad79a453-67d0-41a9-a244-51b3b6f5bfe1",
   "metadata": {},
   "outputs": [
    {
     "data": {
      "text/html": [
       "<div>\n",
       "<style scoped>\n",
       "    .dataframe tbody tr th:only-of-type {\n",
       "        vertical-align: middle;\n",
       "    }\n",
       "\n",
       "    .dataframe tbody tr th {\n",
       "        vertical-align: top;\n",
       "    }\n",
       "\n",
       "    .dataframe thead th {\n",
       "        text-align: right;\n",
       "    }\n",
       "</style>\n",
       "<table border=\"1\" class=\"dataframe\">\n",
       "  <thead>\n",
       "    <tr style=\"text-align: right;\">\n",
       "      <th></th>\n",
       "      <th>movieId</th>\n",
       "      <th>title</th>\n",
       "      <th>action</th>\n",
       "      <th>adventure</th>\n",
       "      <th>animation</th>\n",
       "      <th>children</th>\n",
       "      <th>comedy</th>\n",
       "      <th>crime</th>\n",
       "      <th>documentary</th>\n",
       "      <th>drama</th>\n",
       "      <th>...</th>\n",
       "      <th>film-noir</th>\n",
       "      <th>horror</th>\n",
       "      <th>imax</th>\n",
       "      <th>musical</th>\n",
       "      <th>mystery</th>\n",
       "      <th>romance</th>\n",
       "      <th>sci-fi</th>\n",
       "      <th>thriller</th>\n",
       "      <th>war</th>\n",
       "      <th>western</th>\n",
       "    </tr>\n",
       "  </thead>\n",
       "  <tbody>\n",
       "    <tr>\n",
       "      <th>0</th>\n",
       "      <td>1</td>\n",
       "      <td>Toy Story (1995)</td>\n",
       "      <td>0</td>\n",
       "      <td>1</td>\n",
       "      <td>1</td>\n",
       "      <td>1</td>\n",
       "      <td>1</td>\n",
       "      <td>0</td>\n",
       "      <td>0</td>\n",
       "      <td>0</td>\n",
       "      <td>...</td>\n",
       "      <td>0</td>\n",
       "      <td>0</td>\n",
       "      <td>0</td>\n",
       "      <td>0</td>\n",
       "      <td>0</td>\n",
       "      <td>0</td>\n",
       "      <td>0</td>\n",
       "      <td>0</td>\n",
       "      <td>0</td>\n",
       "      <td>0</td>\n",
       "    </tr>\n",
       "    <tr>\n",
       "      <th>1</th>\n",
       "      <td>2</td>\n",
       "      <td>Jumanji (1995)</td>\n",
       "      <td>0</td>\n",
       "      <td>1</td>\n",
       "      <td>0</td>\n",
       "      <td>1</td>\n",
       "      <td>0</td>\n",
       "      <td>0</td>\n",
       "      <td>0</td>\n",
       "      <td>0</td>\n",
       "      <td>...</td>\n",
       "      <td>0</td>\n",
       "      <td>0</td>\n",
       "      <td>0</td>\n",
       "      <td>0</td>\n",
       "      <td>0</td>\n",
       "      <td>0</td>\n",
       "      <td>0</td>\n",
       "      <td>0</td>\n",
       "      <td>0</td>\n",
       "      <td>0</td>\n",
       "    </tr>\n",
       "    <tr>\n",
       "      <th>2</th>\n",
       "      <td>3</td>\n",
       "      <td>Grumpier Old Men (1995)</td>\n",
       "      <td>0</td>\n",
       "      <td>0</td>\n",
       "      <td>0</td>\n",
       "      <td>0</td>\n",
       "      <td>1</td>\n",
       "      <td>0</td>\n",
       "      <td>0</td>\n",
       "      <td>0</td>\n",
       "      <td>...</td>\n",
       "      <td>0</td>\n",
       "      <td>0</td>\n",
       "      <td>0</td>\n",
       "      <td>0</td>\n",
       "      <td>0</td>\n",
       "      <td>1</td>\n",
       "      <td>0</td>\n",
       "      <td>0</td>\n",
       "      <td>0</td>\n",
       "      <td>0</td>\n",
       "    </tr>\n",
       "    <tr>\n",
       "      <th>3</th>\n",
       "      <td>4</td>\n",
       "      <td>Waiting to Exhale (1995)</td>\n",
       "      <td>0</td>\n",
       "      <td>0</td>\n",
       "      <td>0</td>\n",
       "      <td>0</td>\n",
       "      <td>1</td>\n",
       "      <td>0</td>\n",
       "      <td>0</td>\n",
       "      <td>1</td>\n",
       "      <td>...</td>\n",
       "      <td>0</td>\n",
       "      <td>0</td>\n",
       "      <td>0</td>\n",
       "      <td>0</td>\n",
       "      <td>0</td>\n",
       "      <td>1</td>\n",
       "      <td>0</td>\n",
       "      <td>0</td>\n",
       "      <td>0</td>\n",
       "      <td>0</td>\n",
       "    </tr>\n",
       "    <tr>\n",
       "      <th>4</th>\n",
       "      <td>5</td>\n",
       "      <td>Father of the Bride Part II (1995)</td>\n",
       "      <td>0</td>\n",
       "      <td>0</td>\n",
       "      <td>0</td>\n",
       "      <td>0</td>\n",
       "      <td>1</td>\n",
       "      <td>0</td>\n",
       "      <td>0</td>\n",
       "      <td>0</td>\n",
       "      <td>...</td>\n",
       "      <td>0</td>\n",
       "      <td>0</td>\n",
       "      <td>0</td>\n",
       "      <td>0</td>\n",
       "      <td>0</td>\n",
       "      <td>0</td>\n",
       "      <td>0</td>\n",
       "      <td>0</td>\n",
       "      <td>0</td>\n",
       "      <td>0</td>\n",
       "    </tr>\n",
       "  </tbody>\n",
       "</table>\n",
       "<p>5 rows × 21 columns</p>\n",
       "</div>"
      ],
      "text/plain": [
       "   movieId                               title  action  adventure  animation  \\\n",
       "0        1                    Toy Story (1995)       0          1          1   \n",
       "1        2                      Jumanji (1995)       0          1          0   \n",
       "2        3             Grumpier Old Men (1995)       0          0          0   \n",
       "3        4            Waiting to Exhale (1995)       0          0          0   \n",
       "4        5  Father of the Bride Part II (1995)       0          0          0   \n",
       "\n",
       "   children  comedy  crime  documentary  drama  ...  film-noir  horror  imax  \\\n",
       "0         1       1      0            0      0  ...          0       0     0   \n",
       "1         1       0      0            0      0  ...          0       0     0   \n",
       "2         0       1      0            0      0  ...          0       0     0   \n",
       "3         0       1      0            0      1  ...          0       0     0   \n",
       "4         0       1      0            0      0  ...          0       0     0   \n",
       "\n",
       "   musical  mystery  romance  sci-fi  thriller  war  western  \n",
       "0        0        0        0       0         0    0        0  \n",
       "1        0        0        0       0         0    0        0  \n",
       "2        0        0        1       0         0    0        0  \n",
       "3        0        0        1       0         0    0        0  \n",
       "4        0        0        0       0         0    0        0  \n",
       "\n",
       "[5 rows x 21 columns]"
      ]
     },
     "execution_count": 83,
     "metadata": {},
     "output_type": "execute_result"
    }
   ],
   "source": [
    "movies_df_fin.head()"
   ]
  },
  {
   "cell_type": "code",
   "execution_count": 84,
   "id": "aa49ab57-9946-493e-9d71-683b73d998b7",
   "metadata": {},
   "outputs": [
    {
     "name": "stdout",
     "output_type": "stream",
     "text": [
      "5083\n",
      "1016\n"
     ]
    }
   ],
   "source": [
    "predictions=get_predictions(428)\n",
    "print(len(predictions))\n",
    "n=len(predictions)//5\n",
    "predictions=predictions[:n]\n",
    "print(len(predictions))\n",
    "matching_rows = [sublist[0] for sublist in predictions ]\n",
    "result_df = movies_df_fin.loc[movies_df_fin['movieId'].isin(matching_rows)]"
   ]
  },
  {
   "cell_type": "code",
   "execution_count": 85,
   "id": "8b86f947-8103-410c-ab43-0e1057168dbd",
   "metadata": {},
   "outputs": [
    {
     "data": {
      "text/html": [
       "<div>\n",
       "<style scoped>\n",
       "    .dataframe tbody tr th:only-of-type {\n",
       "        vertical-align: middle;\n",
       "    }\n",
       "\n",
       "    .dataframe tbody tr th {\n",
       "        vertical-align: top;\n",
       "    }\n",
       "\n",
       "    .dataframe thead th {\n",
       "        text-align: right;\n",
       "    }\n",
       "</style>\n",
       "<table border=\"1\" class=\"dataframe\">\n",
       "  <thead>\n",
       "    <tr style=\"text-align: right;\">\n",
       "      <th></th>\n",
       "      <th>movieId</th>\n",
       "      <th>title</th>\n",
       "      <th>action</th>\n",
       "      <th>adventure</th>\n",
       "      <th>animation</th>\n",
       "      <th>children</th>\n",
       "      <th>comedy</th>\n",
       "      <th>crime</th>\n",
       "      <th>documentary</th>\n",
       "      <th>drama</th>\n",
       "      <th>...</th>\n",
       "      <th>film-noir</th>\n",
       "      <th>horror</th>\n",
       "      <th>imax</th>\n",
       "      <th>musical</th>\n",
       "      <th>mystery</th>\n",
       "      <th>romance</th>\n",
       "      <th>sci-fi</th>\n",
       "      <th>thriller</th>\n",
       "      <th>war</th>\n",
       "      <th>western</th>\n",
       "    </tr>\n",
       "  </thead>\n",
       "  <tbody>\n",
       "    <tr>\n",
       "      <th>5</th>\n",
       "      <td>6</td>\n",
       "      <td>Heat (1995)</td>\n",
       "      <td>1</td>\n",
       "      <td>0</td>\n",
       "      <td>0</td>\n",
       "      <td>0</td>\n",
       "      <td>0</td>\n",
       "      <td>1</td>\n",
       "      <td>0</td>\n",
       "      <td>0</td>\n",
       "      <td>...</td>\n",
       "      <td>0</td>\n",
       "      <td>0</td>\n",
       "      <td>0</td>\n",
       "      <td>0</td>\n",
       "      <td>0</td>\n",
       "      <td>0</td>\n",
       "      <td>0</td>\n",
       "      <td>1</td>\n",
       "      <td>0</td>\n",
       "      <td>0</td>\n",
       "    </tr>\n",
       "    <tr>\n",
       "      <th>10</th>\n",
       "      <td>11</td>\n",
       "      <td>American President, The (1995)</td>\n",
       "      <td>0</td>\n",
       "      <td>0</td>\n",
       "      <td>0</td>\n",
       "      <td>0</td>\n",
       "      <td>1</td>\n",
       "      <td>0</td>\n",
       "      <td>0</td>\n",
       "      <td>1</td>\n",
       "      <td>...</td>\n",
       "      <td>0</td>\n",
       "      <td>0</td>\n",
       "      <td>0</td>\n",
       "      <td>0</td>\n",
       "      <td>0</td>\n",
       "      <td>1</td>\n",
       "      <td>0</td>\n",
       "      <td>0</td>\n",
       "      <td>0</td>\n",
       "      <td>0</td>\n",
       "    </tr>\n",
       "    <tr>\n",
       "      <th>13</th>\n",
       "      <td>14</td>\n",
       "      <td>Nixon (1995)</td>\n",
       "      <td>0</td>\n",
       "      <td>0</td>\n",
       "      <td>0</td>\n",
       "      <td>0</td>\n",
       "      <td>0</td>\n",
       "      <td>0</td>\n",
       "      <td>0</td>\n",
       "      <td>1</td>\n",
       "      <td>...</td>\n",
       "      <td>0</td>\n",
       "      <td>0</td>\n",
       "      <td>0</td>\n",
       "      <td>0</td>\n",
       "      <td>0</td>\n",
       "      <td>0</td>\n",
       "      <td>0</td>\n",
       "      <td>0</td>\n",
       "      <td>0</td>\n",
       "      <td>0</td>\n",
       "    </tr>\n",
       "    <tr>\n",
       "      <th>15</th>\n",
       "      <td>16</td>\n",
       "      <td>Casino (1995)</td>\n",
       "      <td>0</td>\n",
       "      <td>0</td>\n",
       "      <td>0</td>\n",
       "      <td>0</td>\n",
       "      <td>0</td>\n",
       "      <td>1</td>\n",
       "      <td>0</td>\n",
       "      <td>1</td>\n",
       "      <td>...</td>\n",
       "      <td>0</td>\n",
       "      <td>0</td>\n",
       "      <td>0</td>\n",
       "      <td>0</td>\n",
       "      <td>0</td>\n",
       "      <td>0</td>\n",
       "      <td>0</td>\n",
       "      <td>0</td>\n",
       "      <td>0</td>\n",
       "      <td>0</td>\n",
       "    </tr>\n",
       "    <tr>\n",
       "      <th>16</th>\n",
       "      <td>17</td>\n",
       "      <td>Sense and Sensibility (1995)</td>\n",
       "      <td>0</td>\n",
       "      <td>0</td>\n",
       "      <td>0</td>\n",
       "      <td>0</td>\n",
       "      <td>0</td>\n",
       "      <td>0</td>\n",
       "      <td>0</td>\n",
       "      <td>1</td>\n",
       "      <td>...</td>\n",
       "      <td>0</td>\n",
       "      <td>0</td>\n",
       "      <td>0</td>\n",
       "      <td>0</td>\n",
       "      <td>0</td>\n",
       "      <td>1</td>\n",
       "      <td>0</td>\n",
       "      <td>0</td>\n",
       "      <td>0</td>\n",
       "      <td>0</td>\n",
       "    </tr>\n",
       "  </tbody>\n",
       "</table>\n",
       "<p>5 rows × 21 columns</p>\n",
       "</div>"
      ],
      "text/plain": [
       "    movieId                           title  action  adventure  animation  \\\n",
       "5         6                     Heat (1995)       1          0          0   \n",
       "10       11  American President, The (1995)       0          0          0   \n",
       "13       14                    Nixon (1995)       0          0          0   \n",
       "15       16                   Casino (1995)       0          0          0   \n",
       "16       17    Sense and Sensibility (1995)       0          0          0   \n",
       "\n",
       "    children  comedy  crime  documentary  drama  ...  film-noir  horror  imax  \\\n",
       "5          0       0      1            0      0  ...          0       0     0   \n",
       "10         0       1      0            0      1  ...          0       0     0   \n",
       "13         0       0      0            0      1  ...          0       0     0   \n",
       "15         0       0      1            0      1  ...          0       0     0   \n",
       "16         0       0      0            0      1  ...          0       0     0   \n",
       "\n",
       "    musical  mystery  romance  sci-fi  thriller  war  western  \n",
       "5         0        0        0       0         1    0        0  \n",
       "10        0        0        1       0         0    0        0  \n",
       "13        0        0        0       0         0    0        0  \n",
       "15        0        0        0       0         0    0        0  \n",
       "16        0        0        1       0         0    0        0  \n",
       "\n",
       "[5 rows x 21 columns]"
      ]
     },
     "execution_count": 85,
     "metadata": {},
     "output_type": "execute_result"
    }
   ],
   "source": [
    "result_df.head()"
   ]
  },
  {
   "cell_type": "code",
   "execution_count": 86,
   "id": "609ac39d-4a5a-445b-b580-3ae991a0b884",
   "metadata": {},
   "outputs": [
    {
     "data": {
      "text/plain": [
       "(1016, 21)"
      ]
     },
     "execution_count": 86,
     "metadata": {},
     "output_type": "execute_result"
    }
   ],
   "source": [
    "result_df.shape"
   ]
  },
  {
   "cell_type": "code",
   "execution_count": 87,
   "id": "d9033075-5572-4fe5-a0c2-39d90541fbb0",
   "metadata": {},
   "outputs": [
    {
     "name": "stderr",
     "output_type": "stream",
     "text": [
      "C:\\Users\\lavakumarkoyi\\AppData\\Local\\Temp\\ipykernel_30864\\1853005487.py:14: FutureWarning: The frame.append method is deprecated and will be removed from pandas in a future version. Use pandas.concat instead.\n",
      "  df_knn = df_knn.append(dict_gen, ignore_index=True)\n"
     ]
    },
    {
     "data": {
      "text/html": [
       "<div>\n",
       "<style scoped>\n",
       "    .dataframe tbody tr th:only-of-type {\n",
       "        vertical-align: middle;\n",
       "    }\n",
       "\n",
       "    .dataframe tbody tr th {\n",
       "        vertical-align: top;\n",
       "    }\n",
       "\n",
       "    .dataframe thead th {\n",
       "        text-align: right;\n",
       "    }\n",
       "</style>\n",
       "<table border=\"1\" class=\"dataframe\">\n",
       "  <thead>\n",
       "    <tr style=\"text-align: right;\">\n",
       "      <th></th>\n",
       "      <th>action</th>\n",
       "      <th>adventure</th>\n",
       "      <th>animation</th>\n",
       "      <th>children</th>\n",
       "      <th>comedy</th>\n",
       "      <th>crime</th>\n",
       "      <th>documentary</th>\n",
       "      <th>drama</th>\n",
       "      <th>fantasy</th>\n",
       "      <th>film-noir</th>\n",
       "      <th>horror</th>\n",
       "      <th>imax</th>\n",
       "      <th>musical</th>\n",
       "      <th>mystery</th>\n",
       "      <th>romance</th>\n",
       "      <th>sci-fi</th>\n",
       "      <th>thriller</th>\n",
       "      <th>war</th>\n",
       "      <th>western</th>\n",
       "    </tr>\n",
       "  </thead>\n",
       "  <tbody>\n",
       "    <tr>\n",
       "      <th>0</th>\n",
       "      <td>1</td>\n",
       "      <td>1</td>\n",
       "      <td>0</td>\n",
       "      <td>0</td>\n",
       "      <td>0</td>\n",
       "      <td>0</td>\n",
       "      <td>0</td>\n",
       "      <td>0</td>\n",
       "      <td>0</td>\n",
       "      <td>0</td>\n",
       "      <td>0</td>\n",
       "      <td>0</td>\n",
       "      <td>0</td>\n",
       "      <td>0</td>\n",
       "      <td>0</td>\n",
       "      <td>0</td>\n",
       "      <td>1</td>\n",
       "      <td>0</td>\n",
       "      <td>0</td>\n",
       "    </tr>\n",
       "  </tbody>\n",
       "</table>\n",
       "</div>"
      ],
      "text/plain": [
       "  action adventure animation children comedy crime documentary drama fantasy  \\\n",
       "0      1         1         0        0      0     0           0     0       0   \n",
       "\n",
       "  film-noir horror imax musical mystery romance sci-fi thriller war western  \n",
       "0         0      0    0       0       0       0      0        1   0       0  "
      ]
     },
     "execution_count": 87,
     "metadata": {},
     "output_type": "execute_result"
    }
   ],
   "source": [
    "list_geners=[\"adventure\",\"action\",\"thriller\"]\n",
    "cols=result_df.columns.tolist()\n",
    "#print(cols)\n",
    "cols.pop(0)\n",
    "cols.pop(0)\n",
    "#print(cols)\n",
    "df_knn = pd.DataFrame(columns=cols)\n",
    "dict_gen={}\n",
    "for col in df_knn.columns:\n",
    "    if col in list_geners:\n",
    "        dict_gen[col]=1\n",
    "    else:\n",
    "        dict_gen[col]=0\n",
    "df_knn = df_knn.append(dict_gen, ignore_index=True)\n",
    "df_knn"
   ]
  },
  {
   "cell_type": "code",
   "execution_count": 88,
   "id": "3873955a-e98c-439f-b166-3514f09f3ca4",
   "metadata": {},
   "outputs": [
    {
     "name": "stdout",
     "output_type": "stream",
     "text": [
      "2713    Man with the Golden Gun, The (1974)\n",
      "2254                Live and Let Die (1973)\n",
      "2972            Diamonds Are Forever (1971)\n",
      "2218                      Goldfinger (1964)\n",
      "1211       Hunt for Red October, The (1990)\n",
      "Name: title, dtype: object\n"
     ]
    }
   ],
   "source": [
    "from sklearn.neighbors import NearestNeighbors\n",
    "\n",
    "# Building the model\n",
    "model_knn= NearestNeighbors(metric= 'cosine',n_neighbors=5, algorithm='brute')\n",
    "#filtered_df = res_df[res_df['title'] == 'Toy Story (1995)']\n",
    "sample_df=result_df.drop(['movieId','title'],axis=1)\n",
    "#filtered_df=filtered_df.drop('title',axis=1)\n",
    "\n",
    "# Fitting the model\n",
    "\n",
    "model_knn.fit(sample_df)\n",
    "distance,indexes= model_knn.kneighbors(df_knn)\n",
    "print(result_df.iloc[indexes[0]][\"title\"])"
   ]
  },
  {
   "cell_type": "code",
   "execution_count": 93,
   "id": "f3eec36f",
   "metadata": {},
   "outputs": [
    {
     "name": "stdout",
     "output_type": "stream",
     "text": [
      "Top 10 movie recommendations for user ID 1: \n",
      "Movie ID 1196: Star Wars: Episode V - The Empire Strikes Back\n",
      "Movie ID 260: Star Wars: Episode IV - A New Hope\n",
      "Movie ID 1210: Star Wars: Episode VI - Return of the Jedi\n",
      "Movie ID 1291: Indiana Jones and the Last Crusade\n",
      "Movie ID 1198: Raiders of the Lost Ark\n",
      "Movie ID 608: Fargo\n",
      "Movie ID 2028: Saving Private Ryan\n",
      "Movie ID 47: Seven\n",
      "Movie ID 2115: Indiana Jones and the Temple of Doom\n",
      "Movie ID 2858: American Beauty\n"
     ]
    }
   ],
   "source": [
    "import numpy as np\n",
    "import pandas as pd\n",
    "from scipy.sparse import csr_matrix\n",
    "from scipy.sparse.linalg import svds\n",
    "\n",
    "# Convert DataFrame to sparse ratings matrix\n",
    "ratings_matrix = csr_matrix((ratings_df['rating'], (ratings_df['userId'] - 1, ratings_df['movieId'] - 1)))\n",
    "\n",
    "# Perform Singular Value Decomposition (SVD)\n",
    "k = 50  # Choose the number of latent factors\n",
    "U, sigma, V = svds(ratings_matrix, k=k)\n",
    "\n",
    "# Reconstruct the original ratings matrix\n",
    "sigma_k = np.diag(sigma)\n",
    "ratings_matrix_reconstructed = np.dot(np.dot(U, sigma_k), V)\n",
    "\n",
    "# Make predictions for unknown ratings\n",
    "user_id = 0  # Choose a user ID for whom to make recommendations\n",
    "user_ratings = ratings_matrix.getrow(user_id).toarray().flatten()\n",
    "user_ratings_reconstructed = ratings_matrix_reconstructed[user_id, :]\n",
    "\n",
    "# Find the top N recommendations\n",
    "N = 10\n",
    "top_N_indices = np.argsort(user_ratings_reconstructed)[::-1][:N]\n",
    "top_N_movie_ids = top_N_indices + 1  # Add 1 to convert back to 1-based indexing\n",
    "\n",
    "# Print the top N movie recommendations\n",
    "print(\"Top {} movie recommendations for user ID {}: \".format(N, user_id + 1))\n",
    "for movie_id in top_N_movie_ids:\n",
    "    movie_title = movies_df[movies_df['movieId'] == movie_id]['title'].values[0]\n",
    "    print(\"Movie ID {}: {}\".format(movie_id, movie_title))\n"
   ]
  },
  {
   "cell_type": "code",
   "execution_count": null,
   "id": "21723c17",
   "metadata": {},
   "outputs": [],
   "source": []
  }
 ],
 "metadata": {
  "colab": {
   "provenance": []
  },
  "kernelspec": {
   "display_name": "Python 3 (ipykernel)",
   "language": "python",
   "name": "python3"
  },
  "language_info": {
   "codemirror_mode": {
    "name": "ipython",
    "version": 3
   },
   "file_extension": ".py",
   "mimetype": "text/x-python",
   "name": "python",
   "nbconvert_exporter": "python",
   "pygments_lexer": "ipython3",
   "version": "3.9.13"
  }
 },
 "nbformat": 4,
 "nbformat_minor": 5
}
